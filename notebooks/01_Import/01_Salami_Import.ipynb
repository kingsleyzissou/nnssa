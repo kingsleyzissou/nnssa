{
 "cells": [
  {
   "cell_type": "markdown",
   "metadata": {},
   "source": [
    "# Import Salami dataset"
   ]
  },
  {
   "cell_type": "markdown",
   "metadata": {},
   "source": [
    "## Load libraries"
   ]
  },
  {
   "cell_type": "code",
   "execution_count": 1,
   "metadata": {},
   "outputs": [],
   "source": [
    "import pandas as pd\n",
    "import numpy as np\n",
    "import matplotlib.pyplot as plt\n",
    "import seaborn as sns\n",
    "import os\n",
    "\n",
    "ROOT = os.path.join(os.getcwd(), '..', '..')"
   ]
  },
  {
   "cell_type": "markdown",
   "metadata": {},
   "source": [
    "## Load local modules"
   ]
  },
  {
   "cell_type": "code",
   "execution_count": 2,
   "metadata": {},
   "outputs": [],
   "source": [
    "from nnssa.constants import *"
   ]
  },
  {
   "cell_type": "markdown",
   "metadata": {},
   "source": [
    "## Load dataset"
   ]
  },
  {
   "cell_type": "code",
   "execution_count": 3,
   "metadata": {},
   "outputs": [
    {
     "data": {
      "text/html": [
       "<div>\n",
       "<style scoped>\n",
       "    .dataframe tbody tr th:only-of-type {\n",
       "        vertical-align: middle;\n",
       "    }\n",
       "\n",
       "    .dataframe tbody tr th {\n",
       "        vertical-align: top;\n",
       "    }\n",
       "\n",
       "    .dataframe thead th {\n",
       "        text-align: right;\n",
       "    }\n",
       "</style>\n",
       "<table border=\"1\" class=\"dataframe\">\n",
       "  <thead>\n",
       "    <tr style=\"text-align: right;\">\n",
       "      <th></th>\n",
       "      <th>SONG_ID</th>\n",
       "      <th>SOURCE</th>\n",
       "      <th>ANNOTATOR1</th>\n",
       "      <th>ANNOTATOR2</th>\n",
       "      <th>FILE_LOCATION</th>\n",
       "      <th>SONG_DURATION</th>\n",
       "      <th>EMPTY</th>\n",
       "      <th>SONG_TITLE</th>\n",
       "      <th>ARTIST</th>\n",
       "      <th>FORMAT</th>\n",
       "      <th>...</th>\n",
       "      <th>TEXTFILE1</th>\n",
       "      <th>TEXTFILE2</th>\n",
       "      <th>CLASS</th>\n",
       "      <th>GENRE</th>\n",
       "      <th>SUBMISSION_DATE1</th>\n",
       "      <th>SUBMISSION_DATE2</th>\n",
       "      <th>SONG_WAS_PRIVATE_FLAG</th>\n",
       "      <th>SONG_WAS_DISCARDED_FLAG</th>\n",
       "      <th>XEQS1</th>\n",
       "      <th>XEQS2</th>\n",
       "    </tr>\n",
       "  </thead>\n",
       "  <tbody>\n",
       "    <tr>\n",
       "      <th>0</th>\n",
       "      <td>956</td>\n",
       "      <td>IA</td>\n",
       "      <td>7</td>\n",
       "      <td>6</td>\n",
       "      <td>/srv/salami/data/IA/Live_Music_Archive/Burden_...</td>\n",
       "      <td>320.0</td>\n",
       "      <td>NaN</td>\n",
       "      <td>Revolution</td>\n",
       "      <td>Burden_Hand</td>\n",
       "      <td>mp3</td>\n",
       "      <td>...</td>\n",
       "      <td>/srv/salami/data/IA/Live_Music_Archive/Burden_...</td>\n",
       "      <td>/srv/salami/data/IA/Live_Music_Archive/Burden_...</td>\n",
       "      <td>Live_Music_Archive</td>\n",
       "      <td>NaN</td>\n",
       "      <td>2010-11-01</td>\n",
       "      <td>2010-08-08</td>\n",
       "      <td>0</td>\n",
       "      <td>False</td>\n",
       "      <td>0</td>\n",
       "      <td>0</td>\n",
       "    </tr>\n",
       "    <tr>\n",
       "      <th>1</th>\n",
       "      <td>958</td>\n",
       "      <td>IA</td>\n",
       "      <td>16</td>\n",
       "      <td>14</td>\n",
       "      <td>/srv/salami/data/IA/Live_Music_Archive/5point/...</td>\n",
       "      <td>344.0</td>\n",
       "      <td>NaN</td>\n",
       "      <td>Rap_Medley</td>\n",
       "      <td>5point</td>\n",
       "      <td>mp3</td>\n",
       "      <td>...</td>\n",
       "      <td>/srv/salami/data/IA/Live_Music_Archive/5point/...</td>\n",
       "      <td>NaN</td>\n",
       "      <td>Live_Music_Archive</td>\n",
       "      <td>NaN</td>\n",
       "      <td>2011-03-15</td>\n",
       "      <td>NaN</td>\n",
       "      <td>0</td>\n",
       "      <td>False</td>\n",
       "      <td>0</td>\n",
       "      <td>0</td>\n",
       "    </tr>\n",
       "    <tr>\n",
       "      <th>2</th>\n",
       "      <td>960</td>\n",
       "      <td>IA</td>\n",
       "      <td>2</td>\n",
       "      <td>7</td>\n",
       "      <td>/srv/salami/data/IA/Live_Music_Archive/Absolut...</td>\n",
       "      <td>293.0</td>\n",
       "      <td>NaN</td>\n",
       "      <td>Woman_Across_The_River</td>\n",
       "      <td>Absolute_Gruv</td>\n",
       "      <td>mp3</td>\n",
       "      <td>...</td>\n",
       "      <td>/srv/salami/data/IA/Live_Music_Archive/Absolut...</td>\n",
       "      <td>/srv/salami/data/IA/Live_Music_Archive/Absolut...</td>\n",
       "      <td>Live_Music_Archive</td>\n",
       "      <td>NaN</td>\n",
       "      <td>2010-08-23</td>\n",
       "      <td>2010-07-21</td>\n",
       "      <td>0</td>\n",
       "      <td>False</td>\n",
       "      <td>0</td>\n",
       "      <td>0</td>\n",
       "    </tr>\n",
       "    <tr>\n",
       "      <th>3</th>\n",
       "      <td>962</td>\n",
       "      <td>IA</td>\n",
       "      <td>16</td>\n",
       "      <td>14</td>\n",
       "      <td>/srv/salami/data/IA/Live_Music_Archive/Afrissi...</td>\n",
       "      <td>579.0</td>\n",
       "      <td>NaN</td>\n",
       "      <td>_</td>\n",
       "      <td>Afrissippi</td>\n",
       "      <td>mp3</td>\n",
       "      <td>...</td>\n",
       "      <td>/srv/salami/data/IA/Live_Music_Archive/Afrissi...</td>\n",
       "      <td>NaN</td>\n",
       "      <td>Live_Music_Archive</td>\n",
       "      <td>NaN</td>\n",
       "      <td>2011-03-15</td>\n",
       "      <td>NaN</td>\n",
       "      <td>0</td>\n",
       "      <td>False</td>\n",
       "      <td>0</td>\n",
       "      <td>0</td>\n",
       "    </tr>\n",
       "    <tr>\n",
       "      <th>4</th>\n",
       "      <td>964</td>\n",
       "      <td>IA</td>\n",
       "      <td>16</td>\n",
       "      <td>14</td>\n",
       "      <td>/srv/salami/data/IA/Live_Music_Archive/Against...</td>\n",
       "      <td>161.0</td>\n",
       "      <td>NaN</td>\n",
       "      <td>Encore_Break_Crowd_Noise</td>\n",
       "      <td>Against_Me_</td>\n",
       "      <td>mp3</td>\n",
       "      <td>...</td>\n",
       "      <td>/srv/salami/data/IA/Live_Music_Archive/Against...</td>\n",
       "      <td>NaN</td>\n",
       "      <td>Live_Music_Archive</td>\n",
       "      <td>NaN</td>\n",
       "      <td>2011-03-15</td>\n",
       "      <td>NaN</td>\n",
       "      <td>0</td>\n",
       "      <td>False</td>\n",
       "      <td>0</td>\n",
       "      <td>0</td>\n",
       "    </tr>\n",
       "  </tbody>\n",
       "</table>\n",
       "<p>5 rows × 22 columns</p>\n",
       "</div>"
      ],
      "text/plain": [
       "   SONG_ID SOURCE  ANNOTATOR1  ANNOTATOR2  \\\n",
       "0      956     IA           7           6   \n",
       "1      958     IA          16          14   \n",
       "2      960     IA           2           7   \n",
       "3      962     IA          16          14   \n",
       "4      964     IA          16          14   \n",
       "\n",
       "                                       FILE_LOCATION  SONG_DURATION  EMPTY  \\\n",
       "0  /srv/salami/data/IA/Live_Music_Archive/Burden_...          320.0    NaN   \n",
       "1  /srv/salami/data/IA/Live_Music_Archive/5point/...          344.0    NaN   \n",
       "2  /srv/salami/data/IA/Live_Music_Archive/Absolut...          293.0    NaN   \n",
       "3  /srv/salami/data/IA/Live_Music_Archive/Afrissi...          579.0    NaN   \n",
       "4  /srv/salami/data/IA/Live_Music_Archive/Against...          161.0    NaN   \n",
       "\n",
       "                 SONG_TITLE         ARTIST FORMAT  ...  \\\n",
       "0                Revolution    Burden_Hand    mp3  ...   \n",
       "1                Rap_Medley         5point    mp3  ...   \n",
       "2    Woman_Across_The_River  Absolute_Gruv    mp3  ...   \n",
       "3                         _     Afrissippi    mp3  ...   \n",
       "4  Encore_Break_Crowd_Noise    Against_Me_    mp3  ...   \n",
       "\n",
       "                                           TEXTFILE1  \\\n",
       "0  /srv/salami/data/IA/Live_Music_Archive/Burden_...   \n",
       "1  /srv/salami/data/IA/Live_Music_Archive/5point/...   \n",
       "2  /srv/salami/data/IA/Live_Music_Archive/Absolut...   \n",
       "3  /srv/salami/data/IA/Live_Music_Archive/Afrissi...   \n",
       "4  /srv/salami/data/IA/Live_Music_Archive/Against...   \n",
       "\n",
       "                                           TEXTFILE2               CLASS  \\\n",
       "0  /srv/salami/data/IA/Live_Music_Archive/Burden_...  Live_Music_Archive   \n",
       "1                                                NaN  Live_Music_Archive   \n",
       "2  /srv/salami/data/IA/Live_Music_Archive/Absolut...  Live_Music_Archive   \n",
       "3                                                NaN  Live_Music_Archive   \n",
       "4                                                NaN  Live_Music_Archive   \n",
       "\n",
       "  GENRE SUBMISSION_DATE1  SUBMISSION_DATE2 SONG_WAS_PRIVATE_FLAG  \\\n",
       "0   NaN       2010-11-01        2010-08-08                     0   \n",
       "1   NaN       2011-03-15               NaN                     0   \n",
       "2   NaN       2010-08-23        2010-07-21                     0   \n",
       "3   NaN       2011-03-15               NaN                     0   \n",
       "4   NaN       2011-03-15               NaN                     0   \n",
       "\n",
       "  SONG_WAS_DISCARDED_FLAG  XEQS1  XEQS2  \n",
       "0                   False      0      0  \n",
       "1                   False      0      0  \n",
       "2                   False      0      0  \n",
       "3                   False      0      0  \n",
       "4                   False      0      0  \n",
       "\n",
       "[5 rows x 22 columns]"
      ]
     },
     "execution_count": 3,
     "metadata": {},
     "output_type": "execute_result"
    }
   ],
   "source": [
    "salami = pd.read_csv(os.path.join(ROOT, SALAMI))\n",
    "salami.head()"
   ]
  },
  {
   "cell_type": "code",
   "execution_count": 4,
   "metadata": {},
   "outputs": [
    {
     "data": {
      "text/plain": [
       "Index(['SONG_ID', 'SOURCE', 'ANNOTATOR1', 'ANNOTATOR2', 'FILE_LOCATION',\n",
       "       'SONG_DURATION', 'EMPTY', 'SONG_TITLE', 'ARTIST', 'FORMAT',\n",
       "       'ANNOTATION_TIME1', 'ANNOTATION_TIME2', 'TEXTFILE1', 'TEXTFILE2',\n",
       "       'CLASS', 'GENRE', 'SUBMISSION_DATE1', 'SUBMISSION_DATE2',\n",
       "       'SONG_WAS_PRIVATE_FLAG', 'SONG_WAS_DISCARDED_FLAG', 'XEQS1', 'XEQS2'],\n",
       "      dtype='object')"
      ]
     },
     "execution_count": 4,
     "metadata": {},
     "output_type": "execute_result"
    }
   ],
   "source": [
    "columns = salami.columns\n",
    "columns"
   ]
  },
  {
   "cell_type": "code",
   "execution_count": 5,
   "metadata": {},
   "outputs": [
    {
     "data": {
      "text/html": [
       "<div>\n",
       "<style scoped>\n",
       "    .dataframe tbody tr th:only-of-type {\n",
       "        vertical-align: middle;\n",
       "    }\n",
       "\n",
       "    .dataframe tbody tr th {\n",
       "        vertical-align: top;\n",
       "    }\n",
       "\n",
       "    .dataframe thead th {\n",
       "        text-align: right;\n",
       "    }\n",
       "</style>\n",
       "<table border=\"1\" class=\"dataframe\">\n",
       "  <thead>\n",
       "    <tr style=\"text-align: right;\">\n",
       "      <th></th>\n",
       "      <th>File</th>\n",
       "      <th>Song_duration</th>\n",
       "      <th>Song_title</th>\n",
       "      <th>Artist</th>\n",
       "      <th>Format</th>\n",
       "    </tr>\n",
       "  </thead>\n",
       "  <tbody>\n",
       "    <tr>\n",
       "      <th>0</th>\n",
       "      <td>956</td>\n",
       "      <td>320.0</td>\n",
       "      <td>Revolution</td>\n",
       "      <td>Burden_Hand</td>\n",
       "      <td>mp3</td>\n",
       "    </tr>\n",
       "  </tbody>\n",
       "</table>\n",
       "</div>"
      ],
      "text/plain": [
       "   File  Song_duration  Song_title       Artist Format\n",
       "0   956          320.0  Revolution  Burden_Hand    mp3"
      ]
     },
     "execution_count": 5,
     "metadata": {},
     "output_type": "execute_result"
    }
   ],
   "source": [
    "salami.columns = [c.capitalize() for c in columns]\n",
    "salami = salami[['Song_id', 'Song_duration', 'Song_title', 'Artist', 'Format']]\n",
    "salami.rename(columns = {'Song_id':'File'}, inplace = True) \n",
    "salami.head(1)"
   ]
  },
  {
   "cell_type": "markdown",
   "metadata": {},
   "source": [
    "## Ensure an audio file exists for entry"
   ]
  },
  {
   "cell_type": "code",
   "execution_count": 6,
   "metadata": {},
   "outputs": [],
   "source": [
    "salami['File_exists'] = salami.File.map(lambda filename: os.path.exists(os.path.join(ROOT, AUDIO_DIR, 'salami', str(filename) + '.mp3')))\n",
    "salami = salami[salami['File_exists']]\n",
    "salami = salami.drop(['File_exists'], axis=1)"
   ]
  },
  {
   "cell_type": "markdown",
   "metadata": {},
   "source": [
    "## Save filtered dataset"
   ]
  },
  {
   "cell_type": "code",
   "execution_count": 7,
   "metadata": {},
   "outputs": [],
   "source": [
    "salami.to_csv(os.path.join(ROOT, INTER_DIR, 'salami.csv'), index=False)"
   ]
  },
  {
   "cell_type": "markdown",
   "metadata": {},
   "source": [
    "## Load audio samples\n",
    "Since we may need to re-load the audio a number of times  \n",
    "it is best to load the samples once and then save the resulting  \n",
    "array to a numpy binary file.\n",
    "\n",
    "The below cell has been converted to raw, as we don't want it\n",
    "to run every time (it takes too long to run)"
   ]
  },
  {
   "cell_type": "raw",
   "metadata": {},
   "source": [
    "# nice progress bars\n",
    "from tqdm import tqdm\n",
    "\n",
    "for _, item in tqdm(salami.iterrows(), total=len(salami)):\n",
    "    filename = str(item['File'])\n",
    "    mp3, _ = librosa.load(os.path.join(ROOT, AUDIO_DIR, 'salami', filename + '.mp3'), sr=SR)\n",
    "    np.save(os.path.join(ROOT, INTER_DIR, 'audio', 'salami', filename + '.npy'), mp3)"
   ]
  },
  {
   "cell_type": "code",
   "execution_count": null,
   "metadata": {},
   "outputs": [],
   "source": []
  }
 ],
 "metadata": {
  "kernelspec": {
   "display_name": "Python 3",
   "language": "python",
   "name": "python3"
  },
  "language_info": {
   "codemirror_mode": {
    "name": "ipython",
    "version": 3
   },
   "file_extension": ".py",
   "mimetype": "text/x-python",
   "name": "python",
   "nbconvert_exporter": "python",
   "pygments_lexer": "ipython3",
   "version": "3.8.5"
  }
 },
 "nbformat": 4,
 "nbformat_minor": 4
}
