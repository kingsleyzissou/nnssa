{
 "cells": [
  {
   "cell_type": "markdown",
   "metadata": {},
   "source": [
    "# Import and clean Harmonix Dataset"
   ]
  },
  {
   "cell_type": "markdown",
   "metadata": {},
   "source": [
    "## Load libraries"
   ]
  },
  {
   "cell_type": "code",
   "execution_count": 1,
   "metadata": {},
   "outputs": [],
   "source": [
    "import pandas as pd\n",
    "import numpy as np\n",
    "import matplotlib.pyplot as plt\n",
    "import seaborn as sns\n",
    "\n",
    "from IPython.display import display, Markdown\n",
    "plt.style.use('seaborn-darkgrid')\n",
    "pd.set_option('display.max_columns', None) \n",
    "\n",
    "DEBUG = False"
   ]
  },
  {
   "cell_type": "markdown",
   "metadata": {},
   "source": [
    "## Load local modules\n",
    "Thanks to [this article](https://medium.com/swlh/how-to-structure-a-python-based-data-science-project-a-short-tutorial-for-beginners-7e00bff14f56)"
   ]
  },
  {
   "cell_type": "code",
   "execution_count": 2,
   "metadata": {},
   "outputs": [],
   "source": [
    "import os\n",
    "import sys\n",
    "\n",
    "ROOT = os.path.join(os.getcwd(), '..', '..')\n",
    "\n",
    "src_dir = os.path.join(ROOT, 'src')\n",
    "sys.path.append(src_dir)\n",
    "\n",
    "from constants import *"
   ]
  },
  {
   "cell_type": "markdown",
   "metadata": {},
   "source": [
    "## Load dataset"
   ]
  },
  {
   "cell_type": "code",
   "execution_count": 3,
   "metadata": {},
   "outputs": [
    {
     "data": {
      "text/html": [
       "<div>\n",
       "<style scoped>\n",
       "    .dataframe tbody tr th:only-of-type {\n",
       "        vertical-align: middle;\n",
       "    }\n",
       "\n",
       "    .dataframe tbody tr th {\n",
       "        vertical-align: top;\n",
       "    }\n",
       "\n",
       "    .dataframe thead th {\n",
       "        text-align: right;\n",
       "    }\n",
       "</style>\n",
       "<table border=\"1\" class=\"dataframe\">\n",
       "  <thead>\n",
       "    <tr style=\"text-align: right;\">\n",
       "      <th></th>\n",
       "      <th>File</th>\n",
       "      <th>Title</th>\n",
       "      <th>Artist</th>\n",
       "      <th>Release</th>\n",
       "      <th>Duration</th>\n",
       "      <th>BPM</th>\n",
       "      <th>Ratio Bars in 4</th>\n",
       "      <th>Time Signature</th>\n",
       "      <th>Genre</th>\n",
       "      <th>MusicBrainz Id</th>\n",
       "      <th>Acoustid Id</th>\n",
       "    </tr>\n",
       "  </thead>\n",
       "  <tbody>\n",
       "    <tr>\n",
       "      <th>0</th>\n",
       "      <td>0001_12step</td>\n",
       "      <td>1, 2 Step</td>\n",
       "      <td>Ciara</td>\n",
       "      <td>Goodies</td>\n",
       "      <td>142.470</td>\n",
       "      <td>113</td>\n",
       "      <td>100.000000</td>\n",
       "      <td>4|4</td>\n",
       "      <td>R&amp;B</td>\n",
       "      <td>0408655f-189f-371b-9c41-ec861e1a7810</td>\n",
       "      <td>4708e4ae-a3eb-4b7a-b701-ff3a142b2bcb</td>\n",
       "    </tr>\n",
       "    <tr>\n",
       "      <th>1</th>\n",
       "      <td>0003_6foot7foot</td>\n",
       "      <td>6 Foot 7 Foot</td>\n",
       "      <td>Lil Wayne</td>\n",
       "      <td>Tha Carter IV</td>\n",
       "      <td>157.347</td>\n",
       "      <td>84</td>\n",
       "      <td>100.000000</td>\n",
       "      <td>4|4</td>\n",
       "      <td>Hip-Hop</td>\n",
       "      <td>83347ae2-5def-378a-a3f5-96ec56c25ab7</td>\n",
       "      <td>NaN</td>\n",
       "    </tr>\n",
       "    <tr>\n",
       "      <th>2</th>\n",
       "      <td>0004_abc</td>\n",
       "      <td>ABC</td>\n",
       "      <td>The Jackson 5</td>\n",
       "      <td>Hits for Kids Pop Party 8</td>\n",
       "      <td>180.955</td>\n",
       "      <td>94</td>\n",
       "      <td>94.594595</td>\n",
       "      <td>4|4</td>\n",
       "      <td>Pop-Rock</td>\n",
       "      <td>5f1604ed-5c6b-4a85-8391-15aa61ae7f98</td>\n",
       "      <td>88ddde1c-8009-497a-b295-e61125bb5162</td>\n",
       "    </tr>\n",
       "    <tr>\n",
       "      <th>3</th>\n",
       "      <td>0005_again</td>\n",
       "      <td>Again</td>\n",
       "      <td>Flyleaf</td>\n",
       "      <td>Memento Mori</td>\n",
       "      <td>192.067</td>\n",
       "      <td>78</td>\n",
       "      <td>0.000000</td>\n",
       "      <td>6|8</td>\n",
       "      <td>Alternative</td>\n",
       "      <td>09aed1ac-4094-3337-86ef-8303531d57f1</td>\n",
       "      <td>NaN</td>\n",
       "    </tr>\n",
       "    <tr>\n",
       "      <th>4</th>\n",
       "      <td>0006_aint2proud2beg</td>\n",
       "      <td>Ain’t 2 Proud 2 Beg</td>\n",
       "      <td>TLC</td>\n",
       "      <td>Now &amp; Forever: The Hits</td>\n",
       "      <td>181.034</td>\n",
       "      <td>105</td>\n",
       "      <td>100.000000</td>\n",
       "      <td>4|4</td>\n",
       "      <td>R&amp;B</td>\n",
       "      <td>09723bc0-b3e9-4f86-a563-c80d25df049e</td>\n",
       "      <td>NaN</td>\n",
       "    </tr>\n",
       "  </tbody>\n",
       "</table>\n",
       "</div>"
      ],
      "text/plain": [
       "                  File                Title         Artist  \\\n",
       "0          0001_12step            1, 2 Step          Ciara   \n",
       "1      0003_6foot7foot        6 Foot 7 Foot      Lil Wayne   \n",
       "2             0004_abc                  ABC  The Jackson 5   \n",
       "3           0005_again                Again        Flyleaf   \n",
       "4  0006_aint2proud2beg  Ain’t 2 Proud 2 Beg            TLC   \n",
       "\n",
       "                     Release  Duration  BPM  Ratio Bars in 4 Time Signature  \\\n",
       "0                    Goodies   142.470  113       100.000000            4|4   \n",
       "1              Tha Carter IV   157.347   84       100.000000            4|4   \n",
       "2  Hits for Kids Pop Party 8   180.955   94        94.594595            4|4   \n",
       "3               Memento Mori   192.067   78         0.000000            6|8   \n",
       "4    Now & Forever: The Hits   181.034  105       100.000000            4|4   \n",
       "\n",
       "         Genre                        MusicBrainz Id  \\\n",
       "0          R&B  0408655f-189f-371b-9c41-ec861e1a7810   \n",
       "1      Hip-Hop  83347ae2-5def-378a-a3f5-96ec56c25ab7   \n",
       "2     Pop-Rock  5f1604ed-5c6b-4a85-8391-15aa61ae7f98   \n",
       "3  Alternative  09aed1ac-4094-3337-86ef-8303531d57f1   \n",
       "4          R&B  09723bc0-b3e9-4f86-a563-c80d25df049e   \n",
       "\n",
       "                            Acoustid Id  \n",
       "0  4708e4ae-a3eb-4b7a-b701-ff3a142b2bcb  \n",
       "1                                   NaN  \n",
       "2  88ddde1c-8009-497a-b295-e61125bb5162  \n",
       "3                                   NaN  \n",
       "4                                   NaN  "
      ]
     },
     "execution_count": 3,
     "metadata": {},
     "output_type": "execute_result"
    }
   ],
   "source": [
    "harmonix = pd.read_csv(os.path.join(ROOT, HARMONIX))\n",
    "harmonix.head(5)"
   ]
  },
  {
   "cell_type": "code",
   "execution_count": 4,
   "metadata": {},
   "outputs": [
    {
     "data": {
      "text/plain": [
       "Index(['File', 'Title', 'Artist', 'Release', 'Duration', 'BPM',\n",
       "       'Ratio Bars in 4', 'Time Signature', 'Genre', 'MusicBrainz Id',\n",
       "       'Acoustid Id'],\n",
       "      dtype='object')"
      ]
     },
     "execution_count": 4,
     "metadata": {},
     "output_type": "execute_result"
    }
   ],
   "source": [
    "columns = harmonix.columns\n",
    "columns"
   ]
  },
  {
   "cell_type": "code",
   "execution_count": 5,
   "metadata": {},
   "outputs": [
    {
     "data": {
      "text/html": [
       "<div>\n",
       "<style scoped>\n",
       "    .dataframe tbody tr th:only-of-type {\n",
       "        vertical-align: middle;\n",
       "    }\n",
       "\n",
       "    .dataframe tbody tr th {\n",
       "        vertical-align: top;\n",
       "    }\n",
       "\n",
       "    .dataframe thead th {\n",
       "        text-align: right;\n",
       "    }\n",
       "</style>\n",
       "<table border=\"1\" class=\"dataframe\">\n",
       "  <thead>\n",
       "    <tr style=\"text-align: right;\">\n",
       "      <th></th>\n",
       "      <th>File</th>\n",
       "      <th>Duration</th>\n",
       "      <th>BPM</th>\n",
       "      <th>Time_Signature</th>\n",
       "      <th>Genre</th>\n",
       "    </tr>\n",
       "  </thead>\n",
       "  <tbody>\n",
       "    <tr>\n",
       "      <th>0</th>\n",
       "      <td>0001_12step</td>\n",
       "      <td>142.47</td>\n",
       "      <td>113</td>\n",
       "      <td>4|4</td>\n",
       "      <td>R&amp;B</td>\n",
       "    </tr>\n",
       "  </tbody>\n",
       "</table>\n",
       "</div>"
      ],
      "text/plain": [
       "          File  Duration  BPM Time_Signature Genre\n",
       "0  0001_12step    142.47  113            4|4   R&B"
      ]
     },
     "execution_count": 5,
     "metadata": {},
     "output_type": "execute_result"
    }
   ],
   "source": [
    "harmonix.columns = [c.replace(' ', '_') for c in columns]\n",
    "harmonix = harmonix.drop([\"Release\", \"Ratio_Bars_in_4\", \"MusicBrainz_Id\", \"Acoustid_Id\", \"Artist\", \"Title\"], axis=1)\n",
    "harmonix.head(1)"
   ]
  },
  {
   "cell_type": "markdown",
   "metadata": {},
   "source": [
    "## Filter irrelevant data"
   ]
  },
  {
   "cell_type": "code",
   "execution_count": 6,
   "metadata": {},
   "outputs": [
    {
     "data": {
      "text/html": [
       "<div>\n",
       "<style scoped>\n",
       "    .dataframe tbody tr th:only-of-type {\n",
       "        vertical-align: middle;\n",
       "    }\n",
       "\n",
       "    .dataframe tbody tr th {\n",
       "        vertical-align: top;\n",
       "    }\n",
       "\n",
       "    .dataframe thead th {\n",
       "        text-align: right;\n",
       "    }\n",
       "</style>\n",
       "<table border=\"1\" class=\"dataframe\">\n",
       "  <thead>\n",
       "    <tr style=\"text-align: right;\">\n",
       "      <th></th>\n",
       "      <th>File</th>\n",
       "      <th>Duration</th>\n",
       "      <th>BPM</th>\n",
       "      <th>Time_Signature</th>\n",
       "      <th>Genre</th>\n",
       "    </tr>\n",
       "  </thead>\n",
       "  <tbody>\n",
       "    <tr>\n",
       "      <th>0</th>\n",
       "      <td>0001_12step</td>\n",
       "      <td>142.470</td>\n",
       "      <td>113</td>\n",
       "      <td>4|4</td>\n",
       "      <td>R&amp;B</td>\n",
       "    </tr>\n",
       "    <tr>\n",
       "      <th>1</th>\n",
       "      <td>0003_6foot7foot</td>\n",
       "      <td>157.347</td>\n",
       "      <td>84</td>\n",
       "      <td>4|4</td>\n",
       "      <td>Hip-Hop</td>\n",
       "    </tr>\n",
       "    <tr>\n",
       "      <th>2</th>\n",
       "      <td>0004_abc</td>\n",
       "      <td>180.955</td>\n",
       "      <td>94</td>\n",
       "      <td>4|4</td>\n",
       "      <td>Pop-Rock</td>\n",
       "    </tr>\n",
       "    <tr>\n",
       "      <th>4</th>\n",
       "      <td>0006_aint2proud2beg</td>\n",
       "      <td>181.034</td>\n",
       "      <td>105</td>\n",
       "      <td>4|4</td>\n",
       "      <td>R&amp;B</td>\n",
       "    </tr>\n",
       "    <tr>\n",
       "      <th>5</th>\n",
       "      <td>0008_america</td>\n",
       "      <td>222.683</td>\n",
       "      <td>136</td>\n",
       "      <td>4|4</td>\n",
       "      <td>Metal</td>\n",
       "    </tr>\n",
       "  </tbody>\n",
       "</table>\n",
       "</div>"
      ],
      "text/plain": [
       "                  File  Duration  BPM Time_Signature     Genre\n",
       "0          0001_12step   142.470  113            4|4       R&B\n",
       "1      0003_6foot7foot   157.347   84            4|4   Hip-Hop\n",
       "2             0004_abc   180.955   94            4|4  Pop-Rock\n",
       "4  0006_aint2proud2beg   181.034  105            4|4       R&B\n",
       "5         0008_america   222.683  136            4|4     Metal"
      ]
     },
     "execution_count": 6,
     "metadata": {},
     "output_type": "execute_result"
    }
   ],
   "source": [
    "# Only load labels for songs in\n",
    "# 4|4 time\n",
    "filtered = harmonix[harmonix.Time_Signature == '4|4']\n",
    "filtered.head(5)"
   ]
  },
  {
   "cell_type": "markdown",
   "metadata": {},
   "source": [
    "## Save filtered dataset"
   ]
  },
  {
   "cell_type": "code",
   "execution_count": 7,
   "metadata": {},
   "outputs": [],
   "source": [
    "filtered.to_csv(os.path.join(ROOT, INTER_DIR, 'harmonix.csv'), index=False)"
   ]
  },
  {
   "cell_type": "code",
   "execution_count": null,
   "metadata": {},
   "outputs": [],
   "source": []
  }
 ],
 "metadata": {
  "kernelspec": {
   "display_name": "Python 3",
   "language": "python",
   "name": "python3"
  },
  "language_info": {
   "codemirror_mode": {
    "name": "ipython",
    "version": 3
   },
   "file_extension": ".py",
   "mimetype": "text/x-python",
   "name": "python",
   "nbconvert_exporter": "python",
   "pygments_lexer": "ipython3",
   "version": "3.8.5"
  }
 },
 "nbformat": 4,
 "nbformat_minor": 4
}
