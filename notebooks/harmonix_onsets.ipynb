{
 "metadata": {
  "language_info": {
   "codemirror_mode": {
    "name": "ipython",
    "version": 3
   },
   "file_extension": ".py",
   "mimetype": "text/x-python",
   "name": "python",
   "nbconvert_exporter": "python",
   "pygments_lexer": "ipython3",
   "version": "3.8.5-final"
  },
  "orig_nbformat": 2,
  "kernelspec": {
   "name": "python3",
   "display_name": "Python 3",
   "language": "python"
  }
 },
 "nbformat": 4,
 "nbformat_minor": 2,
 "cells": [
  {
   "source": [
    "# Calculate Song Onsets\n",
    "In order to pad some of the songs so that  \n",
    "they match the duration of the annotated  \n",
    "version of the song, we need to calculate  \n",
    "the time of the first beat or onset"
   ],
   "cell_type": "markdown",
   "metadata": {}
  },
  {
   "source": [
    "## Import libraries"
   ],
   "cell_type": "markdown",
   "metadata": {}
  },
  {
   "cell_type": "code",
   "execution_count": null,
   "metadata": {},
   "outputs": [],
   "source": [
    "import pandas as pd\n",
    "import os\n",
    "import librosa\n",
    "import librosa.display\n",
    "import numpy as np\n",
    "import matplotlib.pyplot as plt\n",
    "from tqdm import tqdm"
   ]
  },
  {
   "source": [
    "## Set Constants"
   ],
   "cell_type": "markdown",
   "metadata": {}
  },
  {
   "cell_type": "code",
   "execution_count": null,
   "metadata": {},
   "outputs": [],
   "source": [
    "HARMONIX_DATASET = \"../datasets/harmonix/metadata.csv\"\n",
    "OUTPUT_DIR = \"../datasets/harmonix/youtube_metadata.csv\"\n",
    "AUDIO_DIR = \"../downloads/harmonix/\"\n",
    "BEAT_DATA_DIR = \"../datasets/harmonix/beats_and_downbeats/\"\n",
    "\n",
    "SR = 22050\n",
    "\n",
    "output = { \n",
    "    \"File\": [], \n",
    "    \"yt_onset\": [], \n",
    "    \"yt_dur\": [], \n",
    "    \"dur\": [],\n",
    "    \"onset\": [] \n",
    "}"
   ]
  },
  {
   "source": [
    "## Load Dataset"
   ],
   "cell_type": "markdown",
   "metadata": {}
  },
  {
   "cell_type": "code",
   "execution_count": null,
   "metadata": {},
   "outputs": [],
   "source": [
    "df = pd.read_csv(HARMONIX_DATASET)\n",
    "df.head()"
   ]
  },
  {
   "source": [
    "## Get onset from annotation"
   ],
   "cell_type": "markdown",
   "metadata": {}
  },
  {
   "cell_type": "code",
   "execution_count": null,
   "metadata": {},
   "outputs": [],
   "source": [
    "def get_harmonix_onset(path):\n",
    "    onset = 0\n",
    "    f = open(path, 'r')\n",
    "    line = f.readline()\n",
    "    onset = line.split()[0]\n",
    "    f.close()\n",
    "    return onset"
   ]
  },
  {
   "source": [
    "## Calculate the YouTube download onset"
   ],
   "cell_type": "markdown",
   "metadata": {}
  },
  {
   "cell_type": "code",
   "execution_count": null,
   "metadata": {},
   "outputs": [],
   "source": [
    "def get_youtube_metadata(path):\n",
    "    duration = librosa.get_duration(filename=path)\n",
    "    x, _ = librosa.load(path, duration=10)\n",
    "    frames = librosa.onset.onset_detect(x, sr=SR)\n",
    "    times = librosa.frames_to_time(frames)\n",
    "    return times[0], duration"
   ]
  },
  {
   "source": [
    "## Iterate through songs and get onsets"
   ],
   "cell_type": "markdown",
   "metadata": {}
  },
  {
   "cell_type": "code",
   "execution_count": null,
   "metadata": {},
   "outputs": [],
   "source": [
    "for _,item in tqdm(df.iterrows(), total=len(df)):\n",
    "    file_name = item[\"File\"]\n",
    "    audio_file = AUDIO_DIR + file_name + \".m4a\"\n",
    "    text_file = BEAT_DATA_DIR + file_name + \".txt\"\n",
    "    if (os.path.exists(audio_file)):\n",
    "        dur = item[\"Duration\"]\n",
    "        onset = get_harmonix_onset(text_file)\n",
    "        yt_onset, yt_dur = get_youtube_metadata(audio_file)\n",
    "        output[\"File\"].append(file_name)\n",
    "        output[\"yt_onset\"].append(yt_onset)\n",
    "        output[\"yt_dur\"].append(yt_dur)\n",
    "        output[\"onset\"].append(onset)\n",
    "        output[\"dur\"].append(dur)"
   ]
  },
  {
   "source": [
    "## Save results to file"
   ],
   "cell_type": "markdown",
   "metadata": {}
  },
  {
   "cell_type": "code",
   "execution_count": null,
   "metadata": {},
   "outputs": [],
   "source": [
    "out_df = pd.DataFrame(output)\n",
    "out_df.to_csv(OUTPUT_DIR, index=None)"
   ]
  }
 ]
}