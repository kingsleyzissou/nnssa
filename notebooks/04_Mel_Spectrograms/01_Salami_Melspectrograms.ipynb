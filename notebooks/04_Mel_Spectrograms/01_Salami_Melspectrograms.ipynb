{
 "cells": [
  {
   "cell_type": "markdown",
   "metadata": {},
   "source": [
    "# Create Mel Spectrograms for Salami dataset"
   ]
  },
  {
   "cell_type": "markdown",
   "metadata": {},
   "source": [
    "## Load libraries"
   ]
  },
  {
   "cell_type": "code",
   "execution_count": 1,
   "metadata": {},
   "outputs": [],
   "source": [
    "import pandas as pd\n",
    "import numpy as np\n",
    "import matplotlib.pyplot as plt\n",
    "import seaborn as sns\n",
    "import librosa\n",
    "\n",
    "from IPython.display import display, Markdown\n",
    "plt.style.use('seaborn-darkgrid')\n",
    "pd.set_option('display.max_columns', None) \n",
    "\n",
    "DEBUG = False"
   ]
  },
  {
   "cell_type": "markdown",
   "metadata": {},
   "source": [
    "## Load local modules"
   ]
  },
  {
   "cell_type": "code",
   "execution_count": 2,
   "metadata": {},
   "outputs": [],
   "source": [
    "import os\n",
    "import sys\n",
    "\n",
    "ROOT = os.path.join(os.getcwd(), '..', '..')\n",
    "\n",
    "src_dir = os.path.join(ROOT, 'src')\n",
    "sys.path.append(src_dir)\n",
    "\n",
    "from constants import *\n",
    "from spectrograms import extract_melspecs"
   ]
  },
  {
   "cell_type": "markdown",
   "metadata": {},
   "source": [
    "## Load dataset"
   ]
  },
  {
   "cell_type": "code",
   "execution_count": 3,
   "metadata": {},
   "outputs": [
    {
     "output_type": "execute_result",
     "data": {
      "text/plain": [
       "   File  Song_duration                Song_title         Artist Format\n",
       "0   956          320.0                Revolution    Burden_Hand    mp3\n",
       "1   958          344.0                Rap_Medley         5point    mp3\n",
       "2   960          293.0    Woman_Across_The_River  Absolute_Gruv    mp3\n",
       "3   962          579.0                         _     Afrissippi    mp3\n",
       "4   964          161.0  Encore_Break_Crowd_Noise    Against_Me_    mp3"
      ],
      "text/html": "<div>\n<style scoped>\n    .dataframe tbody tr th:only-of-type {\n        vertical-align: middle;\n    }\n\n    .dataframe tbody tr th {\n        vertical-align: top;\n    }\n\n    .dataframe thead th {\n        text-align: right;\n    }\n</style>\n<table border=\"1\" class=\"dataframe\">\n  <thead>\n    <tr style=\"text-align: right;\">\n      <th></th>\n      <th>File</th>\n      <th>Song_duration</th>\n      <th>Song_title</th>\n      <th>Artist</th>\n      <th>Format</th>\n    </tr>\n  </thead>\n  <tbody>\n    <tr>\n      <th>0</th>\n      <td>956</td>\n      <td>320.0</td>\n      <td>Revolution</td>\n      <td>Burden_Hand</td>\n      <td>mp3</td>\n    </tr>\n    <tr>\n      <th>1</th>\n      <td>958</td>\n      <td>344.0</td>\n      <td>Rap_Medley</td>\n      <td>5point</td>\n      <td>mp3</td>\n    </tr>\n    <tr>\n      <th>2</th>\n      <td>960</td>\n      <td>293.0</td>\n      <td>Woman_Across_The_River</td>\n      <td>Absolute_Gruv</td>\n      <td>mp3</td>\n    </tr>\n    <tr>\n      <th>3</th>\n      <td>962</td>\n      <td>579.0</td>\n      <td>_</td>\n      <td>Afrissippi</td>\n      <td>mp3</td>\n    </tr>\n    <tr>\n      <th>4</th>\n      <td>964</td>\n      <td>161.0</td>\n      <td>Encore_Break_Crowd_Noise</td>\n      <td>Against_Me_</td>\n      <td>mp3</td>\n    </tr>\n  </tbody>\n</table>\n</div>"
     },
     "metadata": {},
     "execution_count": 3
    }
   ],
   "source": [
    "salami = pd.read_csv(os.path.join(ROOT, INTER_DIR, 'salami.csv'))\n",
    "salami.head()"
   ]
  },
  {
   "cell_type": "markdown",
   "metadata": {},
   "source": [
    "## Load audio files"
   ]
  },
  {
   "cell_type": "raw",
   "metadata": {},
   "source": [
    "from tqdm import tqdm\n",
    "tqdm.pandas()"
   ]
  },
  {
   "cell_type": "raw",
   "metadata": {},
   "source": [
    "# RAW expensive operation\n",
    "salami['mp3'] = salami.File.progress_map(lambda f: np.load(os.path.join(ROOT, INTER_DIR, 'audio', 'salami', str(f) + '.npy')))"
   ]
  },
  {
   "cell_type": "raw",
   "metadata": {},
   "source": [
    "# RAW expensive operation\n",
    "salami['mels'] = salami['mp3'].progress_map(extract_melspecs)"
   ]
  },
  {
   "cell_type": "markdown",
   "metadata": {},
   "source": [
    "## Save mel spectrograms"
   ]
  },
  {
   "cell_type": "code",
   "execution_count": 4,
   "metadata": {},
   "outputs": [],
   "source": [
    "def save_spectrogram(row):\n",
    "    filename = str(row.File) + '-mel.npy'\n",
    "    filepath = os.path.join(ROOT, MELS_DIR, 'salami', filename)\n",
    "    np.save(filepath, row['mels'])"
   ]
  },
  {
   "cell_type": "raw",
   "metadata": {},
   "source": [
    "salami.progress_apply(save_spectrogram, axis=1)"
   ]
  },
  {
   "cell_type": "code",
   "execution_count": null,
   "metadata": {},
   "outputs": [],
   "source": []
  }
 ],
 "metadata": {
  "kernelspec": {
   "display_name": "Python 3",
   "language": "python",
   "name": "python3"
  },
  "language_info": {
   "codemirror_mode": {
    "name": "ipython",
    "version": 3
   },
   "file_extension": ".py",
   "mimetype": "text/x-python",
   "name": "python",
   "nbconvert_exporter": "python",
   "pygments_lexer": "ipython3",
   "version": "3.8.5-final"
  }
 },
 "nbformat": 4,
 "nbformat_minor": 4
}