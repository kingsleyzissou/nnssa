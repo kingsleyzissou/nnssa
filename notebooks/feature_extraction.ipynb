{
 "metadata": {
  "language_info": {
   "codemirror_mode": {
    "name": "ipython",
    "version": 3
   },
   "file_extension": ".py",
   "mimetype": "text/x-python",
   "name": "python",
   "nbconvert_exporter": "python",
   "pygments_lexer": "ipython3",
   "version": "3.8.5-final"
  },
  "orig_nbformat": 2,
  "kernelspec": {
   "name": "python3",
   "display_name": "Python 3",
   "language": "python"
  }
 },
 "nbformat": 4,
 "nbformat_minor": 2,
 "cells": [
  {
   "source": [
    "# Feature Extraction\n",
    "In order to train our neural network model  \n",
    "we need to create the mel spectrograms  \n",
    "that will be used as input data. We also  \n",
    "need to reshape the labels so they match  \n",
    "the shape of the spectrograms.  \n",
    "Lastly, we pad the lables and spectrograms  \n",
    "so they all have the same shape"
   ],
   "cell_type": "markdown",
   "metadata": {}
  },
  {
   "source": [
    "## Import Libraries"
   ],
   "cell_type": "markdown",
   "metadata": {}
  },
  {
   "cell_type": "code",
   "execution_count": 1,
   "metadata": {},
   "outputs": [],
   "source": [
    "import pandas as pd\n",
    "import librosa\n",
    "import librosa.display\n",
    "import numpy as np\n",
    "import matplotlib.pyplot as plt\n",
    "import os\n",
    "import pickle\n",
    "from tqdm import tqdm\n",
    "from modules.mel_spectrograms import extract_mel_specs\n",
    "from modules.reshape_labels import reshape\n",
    "from modules.load_labels import load_labels"
   ]
  },
  {
   "source": [
    "## Set constants\n",
    "I initialise some global variables that will be used in this file  \n",
    "\n",
    "Some of the values used for the spectrograms are as follows:  \n",
    "Sample rate: 22050 Hz  \n",
    "STFT window: 2048 samples  \n",
    "Hop size: 512 samples  \n",
    "Mel bins: 64  "
   ],
   "cell_type": "markdown",
   "metadata": {}
  },
  {
   "cell_type": "code",
   "execution_count": 2,
   "metadata": {},
   "outputs": [],
   "source": [
    "SALAMI_LABEL_DIR = \"../datasets/salami/annotations/\" \n",
    "\n",
    "## Sample rate\n",
    "SR = 22050\n",
    "## Short-time fourier transform window size\n",
    "N_FFT = 2048\n",
    "## Hop size or the amount shift\n",
    "HOP_SIZE = 512\n",
    "## Number of melbands for the mel-spectrograms\n",
    "N_MELS = 64\n",
    "## Window size \n",
    "WINDOW_SIZE = 64\n",
    "## Fixed length for all the spectrograms = duration of longest song\n",
    "ZERO_PADDING = 32000"
   ]
  },
  {
   "source": [
    "## Load Datasets"
   ],
   "cell_type": "markdown",
   "metadata": {}
  },
  {
   "cell_type": "code",
   "execution_count": 3,
   "metadata": {},
   "outputs": [],
   "source": [
    "salami = pickle.load(open(\"../dumps/salami_fifty.p\", \"rb\"))"
   ]
  },
  {
   "cell_type": "code",
   "execution_count": 4,
   "metadata": {},
   "outputs": [],
   "source": [
    "# harm = pickle.load(open(\"../dumps/s_public.p\", \"rb\"))"
   ]
  },
  {
   "source": [
    "## Initialise empty lists"
   ],
   "cell_type": "markdown",
   "metadata": {}
  },
  {
   "cell_type": "code",
   "execution_count": 5,
   "metadata": {},
   "outputs": [],
   "source": [
    "features = []\n",
    "labels = []"
   ]
  },
  {
   "source": [
    "## Loop through song items and extract labels"
   ],
   "cell_type": "markdown",
   "metadata": {}
  },
  {
   "cell_type": "code",
   "execution_count": 6,
   "metadata": {},
   "outputs": [
    {
     "output_type": "stream",
     "name": "stderr",
     "text": [
      "100%|██████████| 50/50 [00:12<00:00,  3.99it/s]\n"
     ]
    }
   ],
   "source": [
    "for item in tqdm(salami, total=len(salami)):\n",
    "    \"\"\" iterate through dataframe\"\"\"\n",
    "    mp3 = item[\"mp3\"]\n",
    "    file_name = str(item[\"SONG_ID\"])\n",
    "    ## we have two label options for SALAMI database\n",
    "    file_one = SALAMI_LABEL_DIR + file_name + \"/parsed/textfile1_uppercase.txt\"\n",
    "    file_two = SALAMI_LABEL_DIR + file_name + \"/parsed/textfile2_uppercase.txt\"\n",
    "    annotations = load_labels(file_one, file_two)\n",
    "    # check if any labels were found\n",
    "    if (len(annotations) > 0):\n",
    "            labels.append(annotations)\n",
    "            features.append(extract_mel_specs(mp3))"
   ]
  },
  {
   "source": [
    "## Initialise empty lists"
   ],
   "cell_type": "markdown",
   "metadata": {}
  },
  {
   "cell_type": "code",
   "execution_count": 7,
   "metadata": {},
   "outputs": [],
   "source": [
    "feature_list = features\n",
    "label_list = []"
   ]
  },
  {
   "source": [
    "## Reshape the labels to matche spectrograms"
   ],
   "cell_type": "markdown",
   "metadata": {}
  },
  {
   "cell_type": "code",
   "execution_count": 8,
   "metadata": {},
   "outputs": [],
   "source": [
    "for f, l in zip(features, labels):\n",
    "    vector = reshape(l, f.shape[1], SR, HOP_SIZE)\n",
    "    label_list.append(vector)"
   ]
  },
  {
   "source": [
    "## Dump the results to file"
   ],
   "cell_type": "markdown",
   "metadata": {}
  },
  {
   "cell_type": "code",
   "execution_count": null,
   "metadata": {},
   "outputs": [],
   "source": [
    "pickle.dump(feature_list, open('../dumps/features.p', 'wb'))\n",
    "pickle.dump(label_list, open('../dumps/labels.p', 'wb'))"
   ]
  },
  {
   "source": [
    "## Initialise empty lists"
   ],
   "cell_type": "markdown",
   "metadata": {}
  },
  {
   "cell_type": "code",
   "execution_count": 9,
   "metadata": {},
   "outputs": [],
   "source": [
    "x = []\n",
    "y = []"
   ]
  },
  {
   "source": [
    "## Pad the audio\n",
    "Pad all of the features and labels so they have the same length"
   ],
   "cell_type": "markdown",
   "metadata": {}
  },
  {
   "cell_type": "code",
   "execution_count": 10,
   "metadata": {},
   "outputs": [],
   "source": [
    "for f, l in zip(feature_list, label_list):\n",
    "    y1 = np.pad(l, (0, ZERO_PADDING - l.shape[0]), 'constant')\n",
    "    x1 = []\n",
    "    for i in f:\n",
    "        x2 = np.pad(i, (0, ZERO_PADDING - i.shape[0]), 'constant')\n",
    "        x1.append(x2)\n",
    "    x.append(x1)\n",
    "    y.append(y1)"
   ]
  },
  {
   "source": [
    "## Dump the results to file"
   ],
   "cell_type": "markdown",
   "metadata": {}
  },
  {
   "cell_type": "code",
   "execution_count": 11,
   "metadata": {},
   "outputs": [],
   "source": [
    "pickle.dump(np.array(x), open('../dumps/x.p', 'wb'))\n",
    "pickle.dump(np.array(y), open('../dumps/y.p', 'wb'))"
   ]
  },
  {
   "cell_type": "code",
   "execution_count": 12,
   "metadata": {},
   "outputs": [
    {
     "output_type": "execute_result",
     "data": {
      "text/plain": [
       "(46, 64, 32000)"
      ]
     },
     "metadata": {},
     "execution_count": 12
    }
   ],
   "source": [
    "np.array(x).shape"
   ]
  },
  {
   "cell_type": "code",
   "execution_count": null,
   "metadata": {},
   "outputs": [],
   "source": []
  }
 ]
}