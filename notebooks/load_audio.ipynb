{
 "metadata": {
  "language_info": {
   "codemirror_mode": {
    "name": "ipython",
    "version": 3
   },
   "file_extension": ".py",
   "mimetype": "text/x-python",
   "name": "python",
   "nbconvert_exporter": "python",
   "pygments_lexer": "ipython3",
   "version": "3.8.5-final"
  },
  "orig_nbformat": 2,
  "kernelspec": {
   "name": "python3",
   "display_name": "Python 3",
   "language": "python"
  }
 },
 "nbformat": 4,
 "nbformat_minor": 2,
 "cells": [
  {
   "source": [
    "# Load songs and save to disk\n",
    "Loading songs is quite a time consuming task  \n",
    "and not one we want to repeat, since we are  \n",
    "converting a signal to a sample.  \n",
    "Therefore, we do this once and save the  \n",
    "data dumps to file"
   ],
   "cell_type": "markdown",
   "metadata": {}
  },
  {
   "source": [
    "## Import Libraries"
   ],
   "cell_type": "markdown",
   "metadata": {}
  },
  {
   "cell_type": "code",
   "execution_count": 3,
   "metadata": {},
   "outputs": [],
   "source": [
    "import pandas as pd\n",
    "import librosa\n",
    "import pickle\n",
    "from tqdm import tqdm\n",
    "from modules.load_audio import load_audio"
   ]
  },
  {
   "source": [
    "## Set constants"
   ],
   "cell_type": "markdown",
   "metadata": {}
  },
  {
   "cell_type": "code",
   "execution_count": 1,
   "metadata": {},
   "outputs": [],
   "source": [
    "HARMONIX_DS = \"../datasets/harmonix/metadata.csv\"\n",
    "HARMONIX_AUDIO_DIR = \"../transformed/harmonix/\"\n",
    "HARMONIX_OUTPUT_DIR = \"../spectrograms/harmonix/\"\n",
    "\n",
    "SALAMI_DS = \"../datasets/salami/matches.csv\"\n",
    "SALAMI_AUDIO_DIR = \"../transformed/salami/\"\n",
    "SALAMI_OUTPUT_DIR = \"../spectrograms/salami/\"\n",
    "\n",
    "SR = 22050"
   ]
  },
  {
   "source": [
    "## Load Datasets"
   ],
   "cell_type": "markdown",
   "metadata": {}
  },
  {
   "cell_type": "code",
   "execution_count": 5,
   "metadata": {},
   "outputs": [],
   "source": [
    "harmonix = pd.read_csv(HARMONIX_DS)\n",
    "salami = pd.read_csv(SALAMI_DS)"
   ]
  },
  {
   "source": [
    "## Initialise empty lists"
   ],
   "cell_type": "markdown",
   "metadata": {}
  },
  {
   "cell_type": "code",
   "execution_count": 14,
   "metadata": {},
   "outputs": [],
   "source": [
    "sal = []\n",
    "harm = []"
   ]
  },
  {
   "source": [
    "## Load songs from file"
   ],
   "cell_type": "markdown",
   "metadata": {}
  },
  {
   "cell_type": "code",
   "execution_count": 17,
   "metadata": {},
   "outputs": [
    {
     "output_type": "stream",
     "name": "stderr",
     "text": [
      "100%|██████████| 671/671 [1:31:31<00:00,  8.18s/it]\n"
     ]
    }
   ],
   "source": [
    "for _,item in tqdm(salami.iterrows(), total=len(salami)):\n",
    "    file_name = str(item[\"salami_id\"])\n",
    "    file_path = SALAMI_AUDIO_DIR + file_name + \".mp3\"\n",
    "    mp3 = load_audio(file_path, SR)\n",
    "    if (len(mp3) > 0):\n",
    "        sal.append({ \"salami_id\": file_name, \"mp3\": mp3})"
   ]
  },
  {
   "cell_type": "code",
   "execution_count": 39,
   "metadata": {},
   "outputs": [
    {
     "output_type": "stream",
     "name": "stderr",
     "text": [
      "100%|██████████| 912/912 [1:49:16<00:00,  7.19s/it]\n"
     ]
    }
   ],
   "source": [
    "for _,item in tqdm(harmonix.iterrows(), total=len(harmonix)):\n",
    "    file_name = str(item[\"File\"])\n",
    "    file_path = HARMONIX_AUDIO_DIR + file_name + \".mp3\"\n",
    "    mp3 = load_audio(file_path, SR)\n",
    "    if (len(mp3) > 0):\n",
    "        harm.append({\"File\": i, \"mp3\": mp3})"
   ]
  },
  {
   "source": [
    "## Dump files"
   ],
   "cell_type": "markdown",
   "metadata": {}
  },
  {
   "cell_type": "code",
   "execution_count": 20,
   "metadata": {},
   "outputs": [],
   "source": [
    "pickle.dump(sal, open( \"../dumps/salami.p\", \"wb\" ))"
   ]
  },
  {
   "cell_type": "code",
   "execution_count": 40,
   "metadata": {},
   "outputs": [],
   "source": [
    "pickle.dump(harm, open(\"../dumps/harmonix.p\", \"wb\"))"
   ]
  },
  {
   "cell_type": "code",
   "execution_count": null,
   "metadata": {},
   "outputs": [],
   "source": []
  },
  {
   "cell_type": "code",
   "execution_count": null,
   "metadata": {},
   "outputs": [],
   "source": []
  }
 ]
}