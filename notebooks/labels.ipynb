{
 "metadata": {
  "language_info": {
   "codemirror_mode": {
    "name": "ipython",
    "version": 3
   },
   "file_extension": ".py",
   "mimetype": "text/x-python",
   "name": "python",
   "nbconvert_exporter": "python",
   "pygments_lexer": "ipython3",
   "version": "3.8.5-final"
  },
  "orig_nbformat": 2,
  "kernelspec": {
   "name": "python3",
   "display_name": "Python 3",
   "language": "python"
  }
 },
 "nbformat": 4,
 "nbformat_minor": 2,
 "cells": [
  {
   "source": [
    "# Load labels\n",
    "Since the mel-spectrograms change the shape  \n",
    "of the original audio signal, it is necessary  \n",
    "to reshape the labels for the neural network"
   ],
   "cell_type": "markdown",
   "metadata": {}
  },
  {
   "source": [
    "## Import required libraries"
   ],
   "cell_type": "markdown",
   "metadata": {}
  },
  {
   "cell_type": "code",
   "execution_count": null,
   "metadata": {},
   "outputs": [],
   "source": [
    "import pandas as pd\n",
    "import numpy as np\n",
    "import os\n",
    "from tqdm import tqdm\n",
    "from modules.load_labels import load_labels"
   ]
  },
  {
   "source": [
    "## Set global constants"
   ],
   "cell_type": "markdown",
   "metadata": {}
  },
  {
   "cell_type": "code",
   "execution_count": null,
   "metadata": {},
   "outputs": [],
   "source": [
    "HARMONIX_DS = \"../datasets/harmonix/metadata.csv\"\n",
    "HARMONIX_LABEL_DIR = \"../datasets/harmonix/segments/\"\n",
    "HARMONIX_AUDIO_DIR = \"../downloads/harmonix/\"\n",
    "HARMONIX_OUTPUT = \"../datasets/labels/harmonix/labels.csv\"\n",
    "\n",
    "SALAMI_DS = \"../datasets/salami/metadata.csv\"\n",
    "SALAMI_LABEL_DIR = \"../datasets/salami/annotations/\"\n",
    "SALAMI_OPEN_AUDIO_DIR = \"../downloads/s_public/\"\n",
    "SALAMI_OUTPUT = \"../datasets/labels/salami_open/labels.csv\""
   ]
  },
  {
   "source": [
    "## Load the Harmonix Dataset"
   ],
   "cell_type": "markdown",
   "metadata": {}
  },
  {
   "cell_type": "code",
   "execution_count": null,
   "metadata": {},
   "outputs": [],
   "source": [
    "harmonix = pd.read_csv(HARMONIX_DS, header=0)\n",
    "harmonix.head()"
   ]
  },
  {
   "source": [
    "## Load the SALAMI dataset"
   ],
   "cell_type": "markdown",
   "metadata": {}
  },
  {
   "cell_type": "code",
   "execution_count": null,
   "metadata": {},
   "outputs": [],
   "source": [
    "salami = pd.read_csv(SALAMI_DS, header=0)\n",
    "salami.head()"
   ]
  },
  {
   "source": [
    "## Load Labels"
   ],
   "cell_type": "markdown",
   "metadata": {}
  },
  {
   "cell_type": "code",
   "execution_count": null,
   "metadata": {
    "tags": []
   },
   "outputs": [],
   "source": [
    "segments = []\n",
    "for _,item in tqdm(salami.iterrows(), total=len(salami)):\n",
    "    \"\"\" iterate through dataframe\"\"\"\n",
    "    file_name = str(item[\"SONG_ID\"])\n",
    "    audio_path = SALAMI_OPEN_AUDIO_DIR + file_name + \".mp3\"\n",
    "    ## check if we have a copy of the song, or skip to next song\n",
    "    if (not os.path.exists(audio_path)):\n",
    "        continue\n",
    "    ## we have two label options for SALAMI database\n",
    "    file_one = SALAMI_LABEL_DIR + file_name + \"/parsed/textfile1_uppercase.txt\"\n",
    "    file_two = SALAMI_LABEL_DIR + file_name + \"/parsed/textfile2_uppercase.txt\"\n",
    "    labels = load_labels(file_one, file_two)\n",
    "    ## check if any labels were found\n",
    "    if (len(labels) > 0):\n",
    "            segments.append(labels)"
   ]
  },
  {
   "source": [
    "## Output results to CSV"
   ],
   "cell_type": "markdown",
   "metadata": {}
  },
  {
   "cell_type": "code",
   "execution_count": null,
   "metadata": {},
   "outputs": [],
   "source": [
    "out_df = pd.DataFrame(segments)\n",
    "out_df.to_csv(SALAMI_OUTPUT + \"salami_open\", index=None)"
   ]
  },
  {
   "cell_type": "code",
   "execution_count": null,
   "metadata": {},
   "outputs": [],
   "source": []
  }
 ]
}