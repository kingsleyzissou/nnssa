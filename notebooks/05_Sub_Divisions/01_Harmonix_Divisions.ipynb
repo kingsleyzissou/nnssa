{
 "cells": [
  {
   "cell_type": "markdown",
   "metadata": {},
   "source": [
    "# Create standard subdivisions for Harmonix"
   ]
  },
  {
   "cell_type": "markdown",
   "metadata": {},
   "source": [
    "## Load libraries"
   ]
  },
  {
   "cell_type": "code",
   "execution_count": 1,
   "metadata": {},
   "outputs": [],
   "source": [
    "import pandas as pd\n",
    "import numpy as np\n",
    "import matplotlib.pyplot as plt\n",
    "import seaborn as sns\n",
    "import librosa\n",
    "import os"
   ]
  },
  {
   "cell_type": "markdown",
   "metadata": {},
   "source": [
    "## Setup Colab"
   ]
  },
  {
   "cell_type": "code",
   "execution_count": 2,
   "metadata": {},
   "outputs": [],
   "source": [
    "COLAB = 'google.colab' in str(get_ipython())\n",
    "\n",
    "if COLAB:\n",
    "    from google.colab import drive\n",
    "    drive.mount('/content/drive')\n",
    "    ROOT = '/content/drive/MyDrive/fyp/collabs/'\n",
    "else:\n",
    "    ROOT = os.path.join(os.getcwd(), '..', '..') "
   ]
  },
  {
   "cell_type": "markdown",
   "metadata": {},
   "source": [
    "## Load Colab libraries"
   ]
  },
  {
   "cell_type": "code",
   "execution_count": 3,
   "metadata": {},
   "outputs": [],
   "source": [
    "if COLAB:\n",
    "    !pip install pickle5\n",
    "    import pickle5 as pickle"
   ]
  },
  {
   "cell_type": "markdown",
   "metadata": {},
   "source": [
    "## Load custom modules"
   ]
  },
  {
   "cell_type": "code",
   "execution_count": 4,
   "metadata": {},
   "outputs": [],
   "source": [
    "from nnssa.constants import *\n",
    "from nnssa.sub_divisions import *"
   ]
  },
  {
   "cell_type": "markdown",
   "metadata": {},
   "source": [
    "## Progress bars!"
   ]
  },
  {
   "cell_type": "code",
   "execution_count": 5,
   "metadata": {},
   "outputs": [
    {
     "name": "stderr",
     "output_type": "stream",
     "text": [
      "/Users/admin/opt/anaconda3/lib/python3.8/site-packages/tqdm/std.py:697: FutureWarning: The Panel class is removed from pandas. Accessing it from the top-level namespace will also be removed in the next version\n",
      "  from pandas import Panel\n"
     ]
    }
   ],
   "source": [
    "from tqdm import tqdm\n",
    "tqdm.pandas()"
   ]
  },
  {
   "cell_type": "markdown",
   "metadata": {},
   "source": [
    "## Load dataset"
   ]
  },
  {
   "cell_type": "code",
   "execution_count": 6,
   "metadata": {},
   "outputs": [
    {
     "data": {
      "text/html": [
       "<div>\n",
       "<style scoped>\n",
       "    .dataframe tbody tr th:only-of-type {\n",
       "        vertical-align: middle;\n",
       "    }\n",
       "\n",
       "    .dataframe tbody tr th {\n",
       "        vertical-align: top;\n",
       "    }\n",
       "\n",
       "    .dataframe thead th {\n",
       "        text-align: right;\n",
       "    }\n",
       "</style>\n",
       "<table border=\"1\" class=\"dataframe\">\n",
       "  <thead>\n",
       "    <tr style=\"text-align: right;\">\n",
       "      <th></th>\n",
       "      <th>File</th>\n",
       "      <th>Duration</th>\n",
       "      <th>BPM</th>\n",
       "      <th>Time_Signature</th>\n",
       "      <th>Genre</th>\n",
       "      <th>Labels</th>\n",
       "      <th>Sections</th>\n",
       "      <th>Beat_times</th>\n",
       "      <th>Beat_frames</th>\n",
       "    </tr>\n",
       "  </thead>\n",
       "  <tbody>\n",
       "    <tr>\n",
       "      <th>0</th>\n",
       "      <td>0001_12step</td>\n",
       "      <td>142.470</td>\n",
       "      <td>113</td>\n",
       "      <td>4|4</td>\n",
       "      <td>R&amp;B</td>\n",
       "      <td>[0.0, 8.495567999999999, 25.486704, 42.4753280...</td>\n",
       "      <td>[intro, verse, chorus, verse, chorus, verse, c...</td>\n",
       "      <td>[0.0, 0.5309729999999999, 1.0619459999999998, ...</td>\n",
       "      <td>[0, 11, 22, 34, 45, 57, 68, 80, 91, 102, 114, ...</td>\n",
       "    </tr>\n",
       "    <tr>\n",
       "      <th>1</th>\n",
       "      <td>0003_6foot7foot</td>\n",
       "      <td>157.347</td>\n",
       "      <td>84</td>\n",
       "      <td>4|4</td>\n",
       "      <td>Hip-Hop</td>\n",
       "      <td>[2.857108, 8.571396, 31.428548, 37.14283599999...</td>\n",
       "      <td>[chorus, verse, chorus, verse, chorus, verse, ...</td>\n",
       "      <td>[2.857108, 3.571394, 4.28568, 4.99996600000000...</td>\n",
       "      <td>[61, 76, 92, 107, 123, 138, 153, 169, 184, 199...</td>\n",
       "    </tr>\n",
       "    <tr>\n",
       "      <th>2</th>\n",
       "      <td>0004_abc</td>\n",
       "      <td>180.955</td>\n",
       "      <td>94</td>\n",
       "      <td>4|4</td>\n",
       "      <td>Pop-Rock</td>\n",
       "      <td>[2.666656, 28.300542999999998, 58.263180000000...</td>\n",
       "      <td>[verse, chorus, verse, chorus, bridge, chorus,...</td>\n",
       "      <td>[2.666656, 3.238084, 3.952369, 4.597529, 5.242...</td>\n",
       "      <td>[57, 69, 85, 98, 112, 126, 140, 154, 169, 183,...</td>\n",
       "    </tr>\n",
       "    <tr>\n",
       "      <th>3</th>\n",
       "      <td>0006_aint2proud2beg</td>\n",
       "      <td>181.034</td>\n",
       "      <td>105</td>\n",
       "      <td>4|4</td>\n",
       "      <td>R&amp;B</td>\n",
       "      <td>[0.0, 27.4652, 45.203726, 63.518522999999995, ...</td>\n",
       "      <td>[intro, verse, transition, chorus, verse, brid...</td>\n",
       "      <td>[0.0, 0.572203, 1.144406, 1.716609, 2.288812, ...</td>\n",
       "      <td>[0, 12, 24, 36, 49, 61, 73, 86, 98, 110, 123, ...</td>\n",
       "    </tr>\n",
       "    <tr>\n",
       "      <th>4</th>\n",
       "      <td>0008_america</td>\n",
       "      <td>222.683</td>\n",
       "      <td>136</td>\n",
       "      <td>4|4</td>\n",
       "      <td>Metal</td>\n",
       "      <td>[3.871208, 10.56504, 33.217138, 56.85190400000...</td>\n",
       "      <td>[intro, verse, verse, bridge, solo/instrumenta...</td>\n",
       "      <td>[3.871208, 4.359011, 4.846814, 5.338616, 5.830...</td>\n",
       "      <td>[83, 93, 104, 114, 125, 136, 146, 156, 166, 17...</td>\n",
       "    </tr>\n",
       "  </tbody>\n",
       "</table>\n",
       "</div>"
      ],
      "text/plain": [
       "                  File  Duration  BPM Time_Signature     Genre  \\\n",
       "0          0001_12step   142.470  113            4|4       R&B   \n",
       "1      0003_6foot7foot   157.347   84            4|4   Hip-Hop   \n",
       "2             0004_abc   180.955   94            4|4  Pop-Rock   \n",
       "3  0006_aint2proud2beg   181.034  105            4|4       R&B   \n",
       "4         0008_america   222.683  136            4|4     Metal   \n",
       "\n",
       "                                              Labels  \\\n",
       "0  [0.0, 8.495567999999999, 25.486704, 42.4753280...   \n",
       "1  [2.857108, 8.571396, 31.428548, 37.14283599999...   \n",
       "2  [2.666656, 28.300542999999998, 58.263180000000...   \n",
       "3  [0.0, 27.4652, 45.203726, 63.518522999999995, ...   \n",
       "4  [3.871208, 10.56504, 33.217138, 56.85190400000...   \n",
       "\n",
       "                                            Sections  \\\n",
       "0  [intro, verse, chorus, verse, chorus, verse, c...   \n",
       "1  [chorus, verse, chorus, verse, chorus, verse, ...   \n",
       "2  [verse, chorus, verse, chorus, bridge, chorus,...   \n",
       "3  [intro, verse, transition, chorus, verse, brid...   \n",
       "4  [intro, verse, verse, bridge, solo/instrumenta...   \n",
       "\n",
       "                                          Beat_times  \\\n",
       "0  [0.0, 0.5309729999999999, 1.0619459999999998, ...   \n",
       "1  [2.857108, 3.571394, 4.28568, 4.99996600000000...   \n",
       "2  [2.666656, 3.238084, 3.952369, 4.597529, 5.242...   \n",
       "3  [0.0, 0.572203, 1.144406, 1.716609, 2.288812, ...   \n",
       "4  [3.871208, 4.359011, 4.846814, 5.338616, 5.830...   \n",
       "\n",
       "                                         Beat_frames  \n",
       "0  [0, 11, 22, 34, 45, 57, 68, 80, 91, 102, 114, ...  \n",
       "1  [61, 76, 92, 107, 123, 138, 153, 169, 184, 199...  \n",
       "2  [57, 69, 85, 98, 112, 126, 140, 154, 169, 183,...  \n",
       "3  [0, 12, 24, 36, 49, 61, 73, 86, 98, 110, 123, ...  \n",
       "4  [83, 93, 104, 114, 125, 136, 146, 156, 166, 17...  "
      ]
     },
     "execution_count": 6,
     "metadata": {},
     "output_type": "execute_result"
    }
   ],
   "source": [
    "harmonix = pd.read_pickle(os.path.join(ROOT, BEATS_DIR, 'harmonix.p'))\n",
    "harmonix.head()"
   ]
  },
  {
   "cell_type": "markdown",
   "metadata": {},
   "source": [
    "## Load spectrograms"
   ]
  },
  {
   "cell_type": "code",
   "execution_count": 7,
   "metadata": {},
   "outputs": [
    {
     "name": "stderr",
     "output_type": "stream",
     "text": [
      "100%|██████████| 885/885 [00:23<00:00, 37.26it/s]\n"
     ]
    }
   ],
   "source": [
    "harmonix['Songs'] = harmonix.File.progress_map(lambda f: np.load(os.path.join(ROOT, HARMONIX_MELS, f + '-mel.npy')))"
   ]
  },
  {
   "cell_type": "markdown",
   "metadata": {},
   "source": [
    "## Helper functions"
   ]
  },
  {
   "cell_type": "code",
   "execution_count": 8,
   "metadata": {},
   "outputs": [],
   "source": [
    "def sync(row):\n",
    "    mel = row.Songs\n",
    "    frames = row.Beat_frames\n",
    "    return librosa.util.sync(mel, frames) "
   ]
  },
  {
   "cell_type": "markdown",
   "metadata": {},
   "source": [
    "#### Smear the labels\n",
    "This is a form of oversampling, we add triangular weights  \n",
    "around the ground truth labels and then set the labels to  \n",
    "true. This function changes quite a bit so it is left in  \n",
    "the notebook for easier access"
   ]
  },
  {
   "cell_type": "code",
   "execution_count": 9,
   "metadata": {},
   "outputs": [],
   "source": [
    "def label_smear(row):\n",
    "    weights = np.ones(shape=(row.Binary_Labels.shape))\n",
    "    labels = row.Binary_Labels.copy()\n",
    "    truthy = np.where(labels == 1)[0]\n",
    "    for t in (truthy - 1):\n",
    "        if (t > 0):\n",
    "            labels[t] = 2\n",
    "            weights[t] = 0.5\n",
    "    for t in (truthy + 1):\n",
    "        if (t  < len(labels)):\n",
    "            labels[t] = 1\n",
    "            weights[t] = 0.5\n",
    "    mid_segments = (truthy[1:] + truthy[:-1]) / 2\n",
    "    for l in ((truthy[1:] + truthy[:-1]) / 2):\n",
    "        labels[t] = -1\n",
    "    labels[truthy] = 1\n",
    "    weights[truthy] = 3\n",
    "    return labels, weights"
   ]
  },
  {
   "cell_type": "markdown",
   "metadata": {},
   "source": [
    "## Sync beats"
   ]
  },
  {
   "cell_type": "code",
   "execution_count": 10,
   "metadata": {},
   "outputs": [
    {
     "name": "stderr",
     "output_type": "stream",
     "text": [
      "100%|██████████| 885/885 [00:05<00:00, 170.43it/s]\n"
     ]
    }
   ],
   "source": [
    "harmonix['Sync'] = harmonix.progress_apply(sync, axis=1)"
   ]
  },
  {
   "cell_type": "markdown",
   "metadata": {},
   "source": [
    "## Process Bars"
   ]
  },
  {
   "cell_type": "code",
   "execution_count": 11,
   "metadata": {},
   "outputs": [],
   "source": [
    "bars = harmonix.copy()"
   ]
  },
  {
   "cell_type": "code",
   "execution_count": 12,
   "metadata": {},
   "outputs": [
    {
     "name": "stderr",
     "output_type": "stream",
     "text": [
      "100%|██████████| 885/885 [00:05<00:00, 171.19it/s]\n"
     ]
    }
   ],
   "source": [
    "bars['Sub_Divisions'] = bars['Sync'].progress_map(lambda t: create_spec_windows(t, 16, 4))"
   ]
  },
  {
   "cell_type": "markdown",
   "metadata": {},
   "source": [
    "### Standard scale spectrograms"
   ]
  },
  {
   "cell_type": "code",
   "execution_count": 13,
   "metadata": {},
   "outputs": [
    {
     "name": "stderr",
     "output_type": "stream",
     "text": [
      "100%|██████████| 885/885 [00:27<00:00, 31.77it/s]\n"
     ]
    }
   ],
   "source": [
    "bars['Sub_Divisions'] = bars['Sub_Divisions'].progress_map(normalize)"
   ]
  },
  {
   "cell_type": "markdown",
   "metadata": {},
   "source": [
    "### Line-up labels and context windows"
   ]
  },
  {
   "cell_type": "code",
   "execution_count": 14,
   "metadata": {},
   "outputs": [
    {
     "name": "stderr",
     "output_type": "stream",
     "text": [
      "100%|██████████| 885/885 [00:00<00:00, 4948.57it/s]\n"
     ]
    }
   ],
   "source": [
    "bars['Binary_Labels'] = bars.progress_apply(lambda t: subdivide_labels(t, 16, 4), axis=1)"
   ]
  },
  {
   "cell_type": "markdown",
   "metadata": {},
   "source": [
    "#### Check that shape is the same"
   ]
  },
  {
   "cell_type": "code",
   "execution_count": 15,
   "metadata": {},
   "outputs": [
    {
     "data": {
      "text/plain": [
       "((52, 80, 4, 33), (52,))"
      ]
     },
     "execution_count": 15,
     "metadata": {},
     "output_type": "execute_result"
    }
   ],
   "source": [
    "bars_sample = bars.iloc[1]\n",
    "bars_sample['Sub_Divisions'].shape, bars_sample['Binary_Labels'].shape"
   ]
  },
  {
   "cell_type": "markdown",
   "metadata": {},
   "source": [
    "### Apply label smearing"
   ]
  },
  {
   "cell_type": "code",
   "execution_count": 16,
   "metadata": {},
   "outputs": [
    {
     "name": "stderr",
     "output_type": "stream",
     "text": [
      "100%|██████████| 885/885 [00:00<00:00, 17649.86it/s]\n"
     ]
    }
   ],
   "source": [
    "bars['Weighted_Labels'] = bars.progress_apply(label_smear, axis=1)"
   ]
  },
  {
   "cell_type": "code",
   "execution_count": 17,
   "metadata": {},
   "outputs": [
    {
     "name": "stderr",
     "output_type": "stream",
     "text": [
      "100%|██████████| 885/885 [00:00<00:00, 550735.76it/s]\n"
     ]
    }
   ],
   "source": [
    "bars['Weights'] = bars['Weighted_Labels'].progress_map(lambda t: t[1])"
   ]
  },
  {
   "cell_type": "code",
   "execution_count": 18,
   "metadata": {},
   "outputs": [
    {
     "name": "stderr",
     "output_type": "stream",
     "text": [
      "100%|██████████| 885/885 [00:00<00:00, 679223.98it/s]\n"
     ]
    }
   ],
   "source": [
    "bars['Weighted_Labels'] = bars['Weighted_Labels'].progress_map(lambda t: t[0])"
   ]
  },
  {
   "cell_type": "markdown",
   "metadata": {},
   "source": [
    "#### Check that labels line up"
   ]
  },
  {
   "cell_type": "code",
   "execution_count": 19,
   "metadata": {},
   "outputs": [
    {
     "name": "stdout",
     "output_type": "stream",
     "text": [
      "Beat label times: [  0.         8.495568  25.486704  42.475328  59.47014   78.594744\n",
      "  95.585708 112.578716 129.565932] \n",
      "Label times: [  0.         8.495568  25.486704  42.475328  59.47014   78.594744\n",
      "  95.585708 112.578716 129.565932]\n"
     ]
    }
   ],
   "source": [
    "bars_sample = bars.iloc[0]\n",
    "truthy = np.where(bars_sample['Binary_Labels'] == 1)[0] * 4\n",
    "beat_times = bars_sample['Beat_times']\n",
    "times = beat_times[truthy]\n",
    "print(f\"Beat label times: {times} \\nLabel times: {bars_sample['Labels']}\")"
   ]
  },
  {
   "cell_type": "markdown",
   "metadata": {},
   "source": [
    "#### Check the number of truthy labels"
   ]
  },
  {
   "cell_type": "code",
   "execution_count": 20,
   "metadata": {},
   "outputs": [
    {
     "data": {
      "text/plain": [
       "((21,), (11,), (11,))"
      ]
     },
     "execution_count": 20,
     "metadata": {},
     "output_type": "execute_result"
    }
   ],
   "source": [
    "bars_sample = bars.iloc[4]\n",
    "weighted = np.where(bars_sample['Weighted_Labels'] == 1)[0]\n",
    "normal = np.where(bars_sample['Binary_Labels'] == 1)[0]\n",
    "weighted.shape, normal.shape, bars_sample['Labels'].shape"
   ]
  },
  {
   "cell_type": "markdown",
   "metadata": {},
   "source": [
    "### Create IDS vector"
   ]
  },
  {
   "cell_type": "code",
   "execution_count": 21,
   "metadata": {},
   "outputs": [
    {
     "name": "stderr",
     "output_type": "stream",
     "text": [
      "100%|██████████| 885/885 [00:00<00:00, 27316.31it/s]\n"
     ]
    }
   ],
   "source": [
    "bars['IDS'] = bars.progress_apply(lambda r: np.full(r.Binary_Labels.shape, r.File), axis=1)"
   ]
  },
  {
   "cell_type": "markdown",
   "metadata": {},
   "source": [
    "### Save bar mel spectrograms"
   ]
  },
  {
   "cell_type": "code",
   "execution_count": 22,
   "metadata": {},
   "outputs": [
    {
     "name": "stderr",
     "output_type": "stream",
     "text": [
      "100%|██████████| 885/885 [01:23<00:00, 10.55it/s]\n"
     ]
    }
   ],
   "source": [
    "for _, feature in tqdm(bars.iterrows(), total=bars.shape[0]):\n",
    "    np.save(os.path.join(ROOT, SUB_DIVS_DIR, 'bars', 'harmonix', feature.File + '.npy'), feature.Sub_Divisions)"
   ]
  },
  {
   "cell_type": "markdown",
   "metadata": {},
   "source": [
    "#### Save path instead of melspec"
   ]
  },
  {
   "cell_type": "code",
   "execution_count": 23,
   "metadata": {},
   "outputs": [
    {
     "name": "stderr",
     "output_type": "stream",
     "text": [
      "100%|██████████| 885/885 [00:00<00:00, 364955.17it/s]\n"
     ]
    }
   ],
   "source": [
    "bars['Sub_Divisions'] = bars['File'].progress_map(lambda file: os.path.join('bars', 'harmonix', file + '.npy'))"
   ]
  },
  {
   "cell_type": "code",
   "execution_count": 24,
   "metadata": {},
   "outputs": [
    {
     "name": "stderr",
     "output_type": "stream",
     "text": [
      "100%|██████████| 885/885 [00:00<00:00, 338836.97it/s]\n"
     ]
    }
   ],
   "source": [
    "bars['Oversamples'] = bars['File'].progress_map(lambda file: os.path.join('over_bars', 'harmonix', file + '.npy'))"
   ]
  },
  {
   "cell_type": "markdown",
   "metadata": {},
   "source": [
    "#### Save metadata"
   ]
  },
  {
   "cell_type": "code",
   "execution_count": 25,
   "metadata": {},
   "outputs": [],
   "source": [
    "bars = bars[['File', 'Sub_Divisions', 'Binary_Labels', 'Weighted_Labels', 'Weights', 'IDS', 'Beat_times', 'Labels', 'BPM']]\n",
    "bars.to_pickle(os.path.join(ROOT, SUB_DIVS_DIR, 'bars', 'harmonix.p'))"
   ]
  },
  {
   "cell_type": "code",
   "execution_count": null,
   "metadata": {},
   "outputs": [],
   "source": []
  }
 ],
 "metadata": {
  "kernelspec": {
   "display_name": "Python 3",
   "language": "python",
   "name": "python3"
  },
  "language_info": {
   "codemirror_mode": {
    "name": "ipython",
    "version": 3
   },
   "file_extension": ".py",
   "mimetype": "text/x-python",
   "name": "python",
   "nbconvert_exporter": "python",
   "pygments_lexer": "ipython3",
   "version": "3.8.5"
  }
 },
 "nbformat": 4,
 "nbformat_minor": 4
}
