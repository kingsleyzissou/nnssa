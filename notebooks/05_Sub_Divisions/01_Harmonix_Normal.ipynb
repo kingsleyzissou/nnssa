{
 "cells": [
  {
   "cell_type": "markdown",
   "metadata": {},
   "source": [
    "# Create standard subdivisions for Harmonix"
   ]
  },
  {
   "cell_type": "markdown",
   "metadata": {},
   "source": [
    "## Load libraries"
   ]
  },
  {
   "cell_type": "code",
   "execution_count": 1,
   "metadata": {},
   "outputs": [],
   "source": [
    "import pandas as pd\n",
    "import numpy as np\n",
    "import matplotlib.pyplot as plt\n",
    "import seaborn as sns\n",
    "import librosa\n",
    "\n",
    "from IPython.display import display, Markdown\n",
    "plt.style.use('seaborn-darkgrid')\n",
    "pd.set_option('display.max_columns', None) \n",
    "\n",
    "DEBUG = False"
   ]
  },
  {
   "cell_type": "markdown",
   "metadata": {},
   "source": [
    "## Load local modules"
   ]
  },
  {
   "cell_type": "code",
   "execution_count": 2,
   "metadata": {},
   "outputs": [],
   "source": [
    "import os\n",
    "import sys\n",
    "\n",
    "ROOT = os.path.join(os.getcwd(), '..', '..')\n",
    "\n",
    "src_dir = os.path.join(ROOT, 'src')\n",
    "sys.path.append(src_dir)\n",
    "\n",
    "from constants import *\n",
    "from sub_divisions import *"
   ]
  },
  {
   "cell_type": "markdown",
   "metadata": {},
   "source": [
    "## Progress bars!"
   ]
  },
  {
   "cell_type": "code",
   "execution_count": 3,
   "metadata": {},
   "outputs": [
    {
     "name": "stderr",
     "output_type": "stream",
     "text": [
      "/Users/admin/opt/anaconda3/lib/python3.8/site-packages/tqdm/std.py:697: FutureWarning: The Panel class is removed from pandas. Accessing it from the top-level namespace will also be removed in the next version\n",
      "  from pandas import Panel\n"
     ]
    }
   ],
   "source": [
    "from tqdm import tqdm\n",
    "tqdm.pandas()"
   ]
  },
  {
   "cell_type": "markdown",
   "metadata": {},
   "source": [
    "## Load dataset"
   ]
  },
  {
   "cell_type": "code",
   "execution_count": 4,
   "metadata": {},
   "outputs": [
    {
     "data": {
      "text/html": [
       "<div>\n",
       "<style scoped>\n",
       "    .dataframe tbody tr th:only-of-type {\n",
       "        vertical-align: middle;\n",
       "    }\n",
       "\n",
       "    .dataframe tbody tr th {\n",
       "        vertical-align: top;\n",
       "    }\n",
       "\n",
       "    .dataframe thead th {\n",
       "        text-align: right;\n",
       "    }\n",
       "</style>\n",
       "<table border=\"1\" class=\"dataframe\">\n",
       "  <thead>\n",
       "    <tr style=\"text-align: right;\">\n",
       "      <th></th>\n",
       "      <th>File</th>\n",
       "      <th>Duration</th>\n",
       "      <th>BPM</th>\n",
       "      <th>Time_Signature</th>\n",
       "      <th>Genre</th>\n",
       "      <th>Labels</th>\n",
       "      <th>Sections</th>\n",
       "      <th>Beat_times</th>\n",
       "      <th>Beat_frames</th>\n",
       "    </tr>\n",
       "  </thead>\n",
       "  <tbody>\n",
       "    <tr>\n",
       "      <th>0</th>\n",
       "      <td>0001_12step</td>\n",
       "      <td>142.470</td>\n",
       "      <td>113</td>\n",
       "      <td>4|4</td>\n",
       "      <td>R&amp;B</td>\n",
       "      <td>[0.0, 8.495567999999999, 25.486704, 42.4753280...</td>\n",
       "      <td>[intro, verse, chorus, verse, chorus, verse, c...</td>\n",
       "      <td>[0.0, 0.5309729999999999, 1.0619459999999998, ...</td>\n",
       "      <td>[0, 11, 22, 34, 45, 57, 68, 80, 91, 102, 114, ...</td>\n",
       "    </tr>\n",
       "    <tr>\n",
       "      <th>1</th>\n",
       "      <td>0003_6foot7foot</td>\n",
       "      <td>157.347</td>\n",
       "      <td>84</td>\n",
       "      <td>4|4</td>\n",
       "      <td>Hip-Hop</td>\n",
       "      <td>[2.857108, 8.571396, 31.428548, 37.14283599999...</td>\n",
       "      <td>[chorus, verse, chorus, verse, chorus, verse, ...</td>\n",
       "      <td>[2.857108, 3.571394, 4.28568, 4.99996600000000...</td>\n",
       "      <td>[61, 76, 92, 107, 123, 138, 153, 169, 184, 199...</td>\n",
       "    </tr>\n",
       "    <tr>\n",
       "      <th>2</th>\n",
       "      <td>0004_abc</td>\n",
       "      <td>180.955</td>\n",
       "      <td>94</td>\n",
       "      <td>4|4</td>\n",
       "      <td>Pop-Rock</td>\n",
       "      <td>[2.666656, 28.300542999999998, 58.263180000000...</td>\n",
       "      <td>[verse, chorus, verse, chorus, bridge, chorus,...</td>\n",
       "      <td>[2.666656, 3.238084, 3.952369, 4.597529, 5.242...</td>\n",
       "      <td>[57, 69, 85, 98, 112, 126, 140, 154, 169, 183,...</td>\n",
       "    </tr>\n",
       "    <tr>\n",
       "      <th>3</th>\n",
       "      <td>0006_aint2proud2beg</td>\n",
       "      <td>181.034</td>\n",
       "      <td>105</td>\n",
       "      <td>4|4</td>\n",
       "      <td>R&amp;B</td>\n",
       "      <td>[0.0, 27.4652, 45.203726, 63.518522999999995, ...</td>\n",
       "      <td>[intro, verse, transition, chorus, verse, brid...</td>\n",
       "      <td>[0.0, 0.572203, 1.144406, 1.716609, 2.288812, ...</td>\n",
       "      <td>[0, 12, 24, 36, 49, 61, 73, 86, 98, 110, 123, ...</td>\n",
       "    </tr>\n",
       "    <tr>\n",
       "      <th>4</th>\n",
       "      <td>0008_america</td>\n",
       "      <td>222.683</td>\n",
       "      <td>136</td>\n",
       "      <td>4|4</td>\n",
       "      <td>Metal</td>\n",
       "      <td>[3.871208, 10.56504, 33.217138, 56.85190400000...</td>\n",
       "      <td>[intro, verse, verse, bridge, solo/instrumenta...</td>\n",
       "      <td>[3.871208, 4.359011, 4.846814, 5.338616, 5.830...</td>\n",
       "      <td>[83, 93, 104, 114, 125, 136, 146, 156, 166, 17...</td>\n",
       "    </tr>\n",
       "  </tbody>\n",
       "</table>\n",
       "</div>"
      ],
      "text/plain": [
       "                  File  Duration  BPM Time_Signature     Genre  \\\n",
       "0          0001_12step   142.470  113            4|4       R&B   \n",
       "1      0003_6foot7foot   157.347   84            4|4   Hip-Hop   \n",
       "2             0004_abc   180.955   94            4|4  Pop-Rock   \n",
       "3  0006_aint2proud2beg   181.034  105            4|4       R&B   \n",
       "4         0008_america   222.683  136            4|4     Metal   \n",
       "\n",
       "                                              Labels  \\\n",
       "0  [0.0, 8.495567999999999, 25.486704, 42.4753280...   \n",
       "1  [2.857108, 8.571396, 31.428548, 37.14283599999...   \n",
       "2  [2.666656, 28.300542999999998, 58.263180000000...   \n",
       "3  [0.0, 27.4652, 45.203726, 63.518522999999995, ...   \n",
       "4  [3.871208, 10.56504, 33.217138, 56.85190400000...   \n",
       "\n",
       "                                            Sections  \\\n",
       "0  [intro, verse, chorus, verse, chorus, verse, c...   \n",
       "1  [chorus, verse, chorus, verse, chorus, verse, ...   \n",
       "2  [verse, chorus, verse, chorus, bridge, chorus,...   \n",
       "3  [intro, verse, transition, chorus, verse, brid...   \n",
       "4  [intro, verse, verse, bridge, solo/instrumenta...   \n",
       "\n",
       "                                          Beat_times  \\\n",
       "0  [0.0, 0.5309729999999999, 1.0619459999999998, ...   \n",
       "1  [2.857108, 3.571394, 4.28568, 4.99996600000000...   \n",
       "2  [2.666656, 3.238084, 3.952369, 4.597529, 5.242...   \n",
       "3  [0.0, 0.572203, 1.144406, 1.716609, 2.288812, ...   \n",
       "4  [3.871208, 4.359011, 4.846814, 5.338616, 5.830...   \n",
       "\n",
       "                                         Beat_frames  \n",
       "0  [0, 11, 22, 34, 45, 57, 68, 80, 91, 102, 114, ...  \n",
       "1  [61, 76, 92, 107, 123, 138, 153, 169, 184, 199...  \n",
       "2  [57, 69, 85, 98, 112, 126, 140, 154, 169, 183,...  \n",
       "3  [0, 12, 24, 36, 49, 61, 73, 86, 98, 110, 123, ...  \n",
       "4  [83, 93, 104, 114, 125, 136, 146, 156, 166, 17...  "
      ]
     },
     "execution_count": 4,
     "metadata": {},
     "output_type": "execute_result"
    }
   ],
   "source": [
    "harmonix = pd.read_pickle(os.path.join(ROOT, BEATS_DIR, 'harmonix.p'))\n",
    "# harmonix = harmonix.head(50)\n",
    "harmonix.head()"
   ]
  },
  {
   "cell_type": "code",
   "execution_count": 5,
   "metadata": {},
   "outputs": [],
   "source": [
    "harmonix = harmonix.head(50)"
   ]
  },
  {
   "cell_type": "markdown",
   "metadata": {},
   "source": [
    "## Load spectrograms"
   ]
  },
  {
   "cell_type": "code",
   "execution_count": 6,
   "metadata": {},
   "outputs": [
    {
     "name": "stderr",
     "output_type": "stream",
     "text": [
      "100%|██████████| 50/50 [00:01<00:00, 27.11it/s]\n"
     ]
    }
   ],
   "source": [
    "harmonix['Songs'] = harmonix.File.progress_map(lambda f: np.load(os.path.join(ROOT, HARMONIX_MELS, f + '-mel.npy')))"
   ]
  },
  {
   "cell_type": "markdown",
   "metadata": {},
   "source": [
    "## Helper functions"
   ]
  },
  {
   "cell_type": "code",
   "execution_count": 7,
   "metadata": {},
   "outputs": [],
   "source": [
    "def sync(row):\n",
    "    mel = row.Songs\n",
    "    frames = row.Beat_frames\n",
    "    return librosa.util.sync(mel, frames) "
   ]
  },
  {
   "cell_type": "markdown",
   "metadata": {},
   "source": [
    "#### Smear the labels\n",
    "This is a form of oversampling, we add triangular weights  \n",
    "around the ground truth labels and then set the labels to  \n",
    "true. This function changes quite a bit so it is left in  \n",
    "the notebook for easier access"
   ]
  },
  {
   "cell_type": "code",
   "execution_count": 8,
   "metadata": {},
   "outputs": [],
   "source": [
    "def label_smear(row, window):\n",
    "    full_window = int((window * 2) + 1)\n",
    "    weights = np.zeros(shape=(row.Binary_Labels.shape))\n",
    "    labels = row.Binary_Labels.copy()\n",
    "    truthy = np.where(labels == 1)[0]\n",
    "    labels[truthy[:-1] + 1] = 1\n",
    "    weights[truthy[:-1] + 1] = 0.25\n",
    "    labels[truthy[1:] - 1] = 1\n",
    "    weights[truthy[1:] - 1] = 0.25\n",
    "    weights[truthy] = 1\n",
    "    return labels, weights"
   ]
  },
  {
   "cell_type": "markdown",
   "metadata": {},
   "source": [
    "## Sync beats"
   ]
  },
  {
   "cell_type": "code",
   "execution_count": 9,
   "metadata": {},
   "outputs": [
    {
     "name": "stderr",
     "output_type": "stream",
     "text": [
      "100%|██████████| 50/50 [00:00<00:00, 129.50it/s]\n"
     ]
    }
   ],
   "source": [
    "harmonix['Sync'] = harmonix.progress_apply(sync, axis=1)"
   ]
  },
  {
   "cell_type": "markdown",
   "metadata": {},
   "source": [
    "## Process Frames"
   ]
  },
  {
   "cell_type": "raw",
   "metadata": {},
   "source": [
    "frames = harmonix.copy()"
   ]
  },
  {
   "cell_type": "raw",
   "metadata": {},
   "source": [
    "frames['Sub_Divisions'] = frames['Songs'].progress_map(lambda r: create_spec_windows(r, 107))"
   ]
  },
  {
   "cell_type": "markdown",
   "metadata": {},
   "source": [
    "### Line-up labels and context windows"
   ]
  },
  {
   "cell_type": "raw",
   "metadata": {},
   "source": [
    "frames['Binary_Labels'] = frames.progress_apply(lambda r: subdivide_labels(r, 107), axis=1)"
   ]
  },
  {
   "cell_type": "markdown",
   "metadata": {},
   "source": [
    "#### Check that shape is the same"
   ]
  },
  {
   "cell_type": "raw",
   "metadata": {},
   "source": [
    "frame_sample = frames.iloc[2]\n",
    "frame_sample['Sub_Divisions'].shape, frame_sample['Binary_Labels'].shape"
   ]
  },
  {
   "cell_type": "markdown",
   "metadata": {},
   "source": [
    "#### Check that labels line up"
   ]
  },
  {
   "cell_type": "raw",
   "metadata": {},
   "source": [
    "frame_sample = frames.iloc[4]\n",
    "truthy = np.where(frame_sample['Binary_Labels'] == 1)[0] - 107\n",
    "times = librosa.frames_to_time(truthy, sr=SR, hop_length=HOP_SIZE)\n",
    "print(f\"Frame label times: \\n{times} \\nLabel times: \\n{frame_sample['Labels']}\")"
   ]
  },
  {
   "cell_type": "markdown",
   "metadata": {},
   "source": [
    "### Apply label smearing"
   ]
  },
  {
   "cell_type": "raw",
   "metadata": {},
   "source": [
    "frames['Weights'] = frames['Binary_Labels'].progress_map(lambda r: label_smear(r, 107))"
   ]
  },
  {
   "cell_type": "markdown",
   "metadata": {},
   "source": [
    "#### Check the number of truthy labels"
   ]
  },
  {
   "cell_type": "raw",
   "metadata": {},
   "source": [
    "frame_sample = frames.iloc[4]\n",
    "frame_sample['Binary_Labels'].shape, frame_sample['Labels'].shape"
   ]
  },
  {
   "cell_type": "markdown",
   "metadata": {},
   "source": [
    "### Save frames"
   ]
  },
  {
   "cell_type": "raw",
   "metadata": {},
   "source": [
    "# frames.to_pickle(os.path.join(ROOT, SUB_DIVS_DIR, 'frames', 'harmonix.p'))"
   ]
  },
  {
   "cell_type": "markdown",
   "metadata": {},
   "source": [
    "## Process Beats"
   ]
  },
  {
   "cell_type": "raw",
   "metadata": {},
   "source": [
    "beats = harmonix.copy()"
   ]
  },
  {
   "cell_type": "raw",
   "metadata": {},
   "source": [
    "beats['Sub_Divisions'] = beats['Sync'].progress_map(lambda t: create_spec_windows(t, 8))"
   ]
  },
  {
   "cell_type": "markdown",
   "metadata": {},
   "source": [
    "### Standard scale spectrograms"
   ]
  },
  {
   "cell_type": "raw",
   "metadata": {},
   "source": [
    "beats['Sub_Divisions'] = beats['Sub_Divisions'].progress_map(normalize)"
   ]
  },
  {
   "cell_type": "markdown",
   "metadata": {},
   "source": [
    "### Line-up labels and context windows"
   ]
  },
  {
   "cell_type": "raw",
   "metadata": {},
   "source": [
    "beats['Binary_Labels'] = beats.progress_apply(lambda t: subdivide_labels(t, 8, 1), axis=1)"
   ]
  },
  {
   "cell_type": "markdown",
   "metadata": {},
   "source": [
    "#### Check that shape is the same"
   ]
  },
  {
   "cell_type": "raw",
   "metadata": {},
   "source": [
    "beat_sample = beats.iloc[3]\n",
    "beat_sample['Sub_Divisions'].shape, beat_sample['Binary_Labels'].shape"
   ]
  },
  {
   "cell_type": "markdown",
   "metadata": {},
   "source": [
    "### Apply label smearing\n",
    "This is a form of oversampling, we add triangular weights  \n",
    "around the ground truth labels and then set the labels to  \n",
    "true."
   ]
  },
  {
   "cell_type": "raw",
   "metadata": {},
   "source": [
    "beats['Weighted_Labels'] = beats.progress_apply(lambda t: label_smear(t, 7), axis=1)"
   ]
  },
  {
   "cell_type": "raw",
   "metadata": {},
   "source": [
    "beats['Weights'] = beats['Weighted_Labels'].progress_map(lambda t: t[1])"
   ]
  },
  {
   "cell_type": "raw",
   "metadata": {},
   "source": [
    "beats['Weighted_Labels'] = beats['Weighted_Labels'].progress_map(lambda t: t[0])"
   ]
  },
  {
   "cell_type": "markdown",
   "metadata": {},
   "source": [
    "#### Check that labels line up"
   ]
  },
  {
   "cell_type": "raw",
   "metadata": {},
   "source": [
    "beat_sample = beats.iloc[2]\n",
    "truthy = np.where(beat_sample['Binary_Labels'] == 1)[0]\n",
    "beat_times = beat_sample['Beat_times']\n",
    "times = beat_times[truthy]\n",
    "print(f\"Beat label times: {times} \\nLabel times: {beat_sample['Labels']}\")"
   ]
  },
  {
   "cell_type": "markdown",
   "metadata": {},
   "source": [
    "#### Check the number of truthy labels"
   ]
  },
  {
   "cell_type": "raw",
   "metadata": {},
   "source": [
    "beat_sample = beats.iloc[4]\n",
    "weighted = np.where(beat_sample['Weighted_Labels'] == 1)[0]\n",
    "normal = np.where(beat_sample['Binary_Labels'] == 1)[0]\n",
    "weighted.shape, normal.shape, beat_sample['Labels'].shape"
   ]
  },
  {
   "cell_type": "markdown",
   "metadata": {},
   "source": [
    "### Create ID vector"
   ]
  },
  {
   "cell_type": "raw",
   "metadata": {},
   "source": [
    "beats['IDS'] = beats.progress_apply(lambda r: np.full(r.Binary_Labels.shape, r.File), axis=1)"
   ]
  },
  {
   "cell_type": "markdown",
   "metadata": {},
   "source": [
    "### Save beats"
   ]
  },
  {
   "cell_type": "raw",
   "metadata": {},
   "source": [
    "beats = beats[['File', 'Sub_Divisions', 'Binary_Labels', 'Weighted_Labels', 'Weights', 'IDS', 'Beat_times', 'Labels', 'BPM']]\n",
    "beats.to_pickle(os.path.join(ROOT, SUB_DIVS_DIR, 'beats', 'harmonix.p'))"
   ]
  },
  {
   "cell_type": "markdown",
   "metadata": {},
   "source": [
    "## Process Bars"
   ]
  },
  {
   "cell_type": "code",
   "execution_count": 10,
   "metadata": {},
   "outputs": [],
   "source": [
    "bars = harmonix.copy()"
   ]
  },
  {
   "cell_type": "code",
   "execution_count": 11,
   "metadata": {},
   "outputs": [
    {
     "name": "stderr",
     "output_type": "stream",
     "text": [
      "100%|██████████| 50/50 [00:00<00:00, 285.72it/s]\n"
     ]
    }
   ],
   "source": [
    "bars['Sub_Divisions'] = bars['Sync'].progress_map(lambda t: create_spec_windows(t, 8, 4))"
   ]
  },
  {
   "cell_type": "markdown",
   "metadata": {},
   "source": [
    "### Standard scale spectrograms"
   ]
  },
  {
   "cell_type": "code",
   "execution_count": 12,
   "metadata": {},
   "outputs": [
    {
     "ename": "NameError",
     "evalue": "name 'scale' is not defined",
     "output_type": "error",
     "traceback": [
      "\u001b[0;31m---------------------------------------------------------------------------\u001b[0m",
      "\u001b[0;31mNameError\u001b[0m                                 Traceback (most recent call last)",
      "\u001b[0;32m<ipython-input-12-21f443a4d199>\u001b[0m in \u001b[0;36m<module>\u001b[0;34m\u001b[0m\n\u001b[0;32m----> 1\u001b[0;31m \u001b[0mbars\u001b[0m\u001b[0;34m[\u001b[0m\u001b[0;34m'Sub_Divisions'\u001b[0m\u001b[0;34m]\u001b[0m \u001b[0;34m=\u001b[0m \u001b[0mbars\u001b[0m\u001b[0;34m[\u001b[0m\u001b[0;34m'Sub_Divisions'\u001b[0m\u001b[0;34m]\u001b[0m\u001b[0;34m.\u001b[0m\u001b[0mprogress_map\u001b[0m\u001b[0;34m(\u001b[0m\u001b[0mscale\u001b[0m\u001b[0;34m)\u001b[0m\u001b[0;34m\u001b[0m\u001b[0;34m\u001b[0m\u001b[0m\n\u001b[0m",
      "\u001b[0;31mNameError\u001b[0m: name 'scale' is not defined"
     ]
    }
   ],
   "source": [
    "bars['Sub_Divisions'] = bars['Sub_Divisions'].progress_map(normalize)"
   ]
  },
  {
   "cell_type": "markdown",
   "metadata": {},
   "source": [
    "### Line-up labels and context windows"
   ]
  },
  {
   "cell_type": "code",
   "execution_count": null,
   "metadata": {},
   "outputs": [],
   "source": [
    "bars['Binary_Labels'] = bars.progress_apply(lambda t: subdivide_labels(t, 8, 4), axis=1)"
   ]
  },
  {
   "cell_type": "markdown",
   "metadata": {},
   "source": [
    "#### Check that shape is the same"
   ]
  },
  {
   "cell_type": "code",
   "execution_count": null,
   "metadata": {},
   "outputs": [],
   "source": [
    "bars_sample = bars.iloc[1]\n",
    "bars_sample['Sub_Divisions'].shape, bars_sample['Binary_Labels'].shape"
   ]
  },
  {
   "cell_type": "markdown",
   "metadata": {},
   "source": [
    "### Apply label smearing"
   ]
  },
  {
   "cell_type": "code",
   "execution_count": null,
   "metadata": {},
   "outputs": [],
   "source": [
    "bars['Weighted_Labels'] = bars.progress_apply(lambda t: label_smear(t, 3), axis=1)"
   ]
  },
  {
   "cell_type": "code",
   "execution_count": null,
   "metadata": {},
   "outputs": [],
   "source": [
    "bars['Weights'] = bars['Weighted_Labels'].progress_map(lambda t: t[1])"
   ]
  },
  {
   "cell_type": "code",
   "execution_count": null,
   "metadata": {},
   "outputs": [],
   "source": [
    "bars['Weighted_Labels'] = bars['Weighted_Labels'].progress_map(lambda t: t[0])"
   ]
  },
  {
   "cell_type": "markdown",
   "metadata": {},
   "source": [
    "#### Check that labels line up"
   ]
  },
  {
   "cell_type": "code",
   "execution_count": null,
   "metadata": {},
   "outputs": [],
   "source": [
    "bars_sample = bars.iloc[0]\n",
    "truthy = np.where(bars_sample['Binary_Labels'] == 1)[0] * 4\n",
    "beat_times = bars_sample['Beat_times']\n",
    "times = beat_times[truthy]\n",
    "print(f\"Beat label times: {times} \\nLabel times: {bars_sample['Labels']}\")"
   ]
  },
  {
   "cell_type": "markdown",
   "metadata": {},
   "source": [
    "#### Check the number of truthy labels"
   ]
  },
  {
   "cell_type": "code",
   "execution_count": null,
   "metadata": {},
   "outputs": [],
   "source": [
    "bars_sample = bars.iloc[4]\n",
    "weighted = np.where(bars_sample['Weighted_Labels'] == 1)[0]\n",
    "normal = np.where(bars_sample['Binary_Labels'] == 1)[0]\n",
    "weighted.shape, normal.shape, bars_sample['Labels'].shape"
   ]
  },
  {
   "cell_type": "markdown",
   "metadata": {},
   "source": [
    "### Create IDS vector"
   ]
  },
  {
   "cell_type": "code",
   "execution_count": null,
   "metadata": {},
   "outputs": [],
   "source": [
    "bars['IDS'] = bars.progress_apply(lambda r: np.full(r.Binary_Labels.shape, r.File), axis=1)"
   ]
  },
  {
   "cell_type": "markdown",
   "metadata": {},
   "source": [
    "### Save bars"
   ]
  },
  {
   "cell_type": "code",
   "execution_count": null,
   "metadata": {},
   "outputs": [],
   "source": [
    "bars = bars[['File', 'Sub_Divisions', 'Binary_Labels', 'Weighted_Labels', 'Weights', 'IDS', 'Beat_times', 'Labels', 'BPM']]\n",
    "bars.to_pickle(os.path.join(ROOT, SUB_DIVS_DIR, 'bars', 'harmonix.p'))"
   ]
  },
  {
   "cell_type": "code",
   "execution_count": null,
   "metadata": {},
   "outputs": [],
   "source": []
  }
 ],
 "metadata": {
  "kernelspec": {
   "display_name": "Python 3",
   "language": "python",
   "name": "python3"
  },
  "language_info": {
   "codemirror_mode": {
    "name": "ipython",
    "version": 3
   },
   "file_extension": ".py",
   "mimetype": "text/x-python",
   "name": "python",
   "nbconvert_exporter": "python",
   "pygments_lexer": "ipython3",
   "version": "3.8.5"
  }
 },
 "nbformat": 4,
 "nbformat_minor": 4
}
