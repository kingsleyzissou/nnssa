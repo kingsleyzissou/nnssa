{
 "cells": [
  {
   "cell_type": "markdown",
   "metadata": {},
   "source": [
    "# Create standard subdivisions for Salami"
   ]
  },
  {
   "cell_type": "markdown",
   "metadata": {},
   "source": [
    "## Load libraries"
   ]
  },
  {
   "cell_type": "code",
   "execution_count": 1,
   "metadata": {},
   "outputs": [],
   "source": [
    "import pandas as pd\n",
    "import numpy as np\n",
    "import matplotlib.pyplot as plt\n",
    "import seaborn as sns\n",
    "import librosa\n",
    "import os\n",
    "\n",
    "ROOT = os.path.join(os.getcwd(), '..', '..')"
   ]
  },
  {
   "cell_type": "markdown",
   "metadata": {},
   "source": [
    "## Load custom modules"
   ]
  },
  {
   "cell_type": "code",
   "execution_count": 2,
   "metadata": {},
   "outputs": [],
   "source": [
    "from nnssa.constants import *\n",
    "from nnssa.sub_divisions import *"
   ]
  },
  {
   "cell_type": "markdown",
   "metadata": {},
   "source": [
    "## Progress bars!"
   ]
  },
  {
   "cell_type": "code",
   "execution_count": 3,
   "metadata": {},
   "outputs": [
    {
     "name": "stderr",
     "output_type": "stream",
     "text": [
      "/Users/admin/opt/anaconda3/lib/python3.8/site-packages/tqdm/std.py:697: FutureWarning: The Panel class is removed from pandas. Accessing it from the top-level namespace will also be removed in the next version\n",
      "  from pandas import Panel\n"
     ]
    }
   ],
   "source": [
    "from tqdm import tqdm\n",
    "tqdm.pandas()"
   ]
  },
  {
   "cell_type": "markdown",
   "metadata": {},
   "source": [
    "## Load dataset"
   ]
  },
  {
   "cell_type": "code",
   "execution_count": 4,
   "metadata": {},
   "outputs": [
    {
     "data": {
      "text/html": [
       "<div>\n",
       "<style scoped>\n",
       "    .dataframe tbody tr th:only-of-type {\n",
       "        vertical-align: middle;\n",
       "    }\n",
       "\n",
       "    .dataframe tbody tr th {\n",
       "        vertical-align: top;\n",
       "    }\n",
       "\n",
       "    .dataframe thead th {\n",
       "        text-align: right;\n",
       "    }\n",
       "</style>\n",
       "<table border=\"1\" class=\"dataframe\">\n",
       "  <thead>\n",
       "    <tr style=\"text-align: right;\">\n",
       "      <th></th>\n",
       "      <th>File</th>\n",
       "      <th>Song_duration</th>\n",
       "      <th>Song_title</th>\n",
       "      <th>Artist</th>\n",
       "      <th>Format</th>\n",
       "      <th>Labels</th>\n",
       "      <th>Sections</th>\n",
       "      <th>Beat_times</th>\n",
       "      <th>Beat_frames</th>\n",
       "    </tr>\n",
       "  </thead>\n",
       "  <tbody>\n",
       "    <tr>\n",
       "      <th>0</th>\n",
       "      <td>956</td>\n",
       "      <td>320.0</td>\n",
       "      <td>Revolution</td>\n",
       "      <td>Burden_Hand</td>\n",
       "      <td>mp3</td>\n",
       "      <td>[28.746303854, 49.357959183, 91.03056689299999...</td>\n",
       "      <td>[intro, verse, chorus, transition, verse, chor...</td>\n",
       "      <td>[0.0, 2.5541950113378684, 3.9009523809523814, ...</td>\n",
       "      <td>[0, 55, 84, 107, 131, 163, 187, 212, 238, 266,...</td>\n",
       "    </tr>\n",
       "    <tr>\n",
       "      <th>1</th>\n",
       "      <td>958</td>\n",
       "      <td>344.0</td>\n",
       "      <td>Rap_Medley</td>\n",
       "      <td>5point</td>\n",
       "      <td>mp3</td>\n",
       "      <td>[0.045, 26.129208333, 71.4750625, 116.7300625,...</td>\n",
       "      <td>[intro, verse, verse, verse, transition, verse...</td>\n",
       "      <td>[0.0, 0.18575963718820865, 0.8823582766439909,...</td>\n",
       "      <td>[0, 4, 19, 34, 49, 64, 79, 93, 109, 124, 138, ...</td>\n",
       "    </tr>\n",
       "    <tr>\n",
       "      <th>2</th>\n",
       "      <td>960</td>\n",
       "      <td>293.0</td>\n",
       "      <td>Woman_Across_The_River</td>\n",
       "      <td>Absolute_Gruv</td>\n",
       "      <td>mp3</td>\n",
       "      <td>[0.048979590999999996, 76.260068027, 108.70204...</td>\n",
       "      <td>[live, solo/instrumental, bridge, solo/instrum...</td>\n",
       "      <td>[0.0, 0.18575963718820865, 1.3931972789115643,...</td>\n",
       "      <td>[0, 4, 29, 56, 82, 107, 135, 163, 191, 219, 24...</td>\n",
       "    </tr>\n",
       "    <tr>\n",
       "      <th>3</th>\n",
       "      <td>962</td>\n",
       "      <td>579.0</td>\n",
       "      <td>_</td>\n",
       "      <td>Afrissippi</td>\n",
       "      <td>mp3</td>\n",
       "      <td>[15.18585034, 56.47031746, 104.25839002200001,...</td>\n",
       "      <td>[intro, verse, verse, solo/instrumental, verse...</td>\n",
       "      <td>[0.0, 0.3715192743764173, 1.0216780045351477, ...</td>\n",
       "      <td>[0, 8, 22, 36, 50, 65, 79, 93, 107, 122, 135, ...</td>\n",
       "    </tr>\n",
       "    <tr>\n",
       "      <th>6</th>\n",
       "      <td>968</td>\n",
       "      <td>377.0</td>\n",
       "      <td>Quinn_the_Eskimo_The_Mighty_Quinn</td>\n",
       "      <td>Al_and_the_Transamericans</td>\n",
       "      <td>mp3</td>\n",
       "      <td>[0.865306122, 6.802834467, 27.484149659, 47.89...</td>\n",
       "      <td>[intro, verse, chorus, verse, chorus, transiti...</td>\n",
       "      <td>[0.0, 0.4643990929705216, 1.7182766439909296, ...</td>\n",
       "      <td>[0, 10, 37, 65, 93, 123, 151, 179, 207, 236, 2...</td>\n",
       "    </tr>\n",
       "  </tbody>\n",
       "</table>\n",
       "</div>"
      ],
      "text/plain": [
       "   File  Song_duration                         Song_title  \\\n",
       "0   956          320.0                         Revolution   \n",
       "1   958          344.0                         Rap_Medley   \n",
       "2   960          293.0             Woman_Across_The_River   \n",
       "3   962          579.0                                  _   \n",
       "6   968          377.0  Quinn_the_Eskimo_The_Mighty_Quinn   \n",
       "\n",
       "                      Artist Format  \\\n",
       "0                Burden_Hand    mp3   \n",
       "1                     5point    mp3   \n",
       "2              Absolute_Gruv    mp3   \n",
       "3                 Afrissippi    mp3   \n",
       "6  Al_and_the_Transamericans    mp3   \n",
       "\n",
       "                                              Labels  \\\n",
       "0  [28.746303854, 49.357959183, 91.03056689299999...   \n",
       "1  [0.045, 26.129208333, 71.4750625, 116.7300625,...   \n",
       "2  [0.048979590999999996, 76.260068027, 108.70204...   \n",
       "3  [15.18585034, 56.47031746, 104.25839002200001,...   \n",
       "6  [0.865306122, 6.802834467, 27.484149659, 47.89...   \n",
       "\n",
       "                                            Sections  \\\n",
       "0  [intro, verse, chorus, transition, verse, chor...   \n",
       "1  [intro, verse, verse, verse, transition, verse...   \n",
       "2  [live, solo/instrumental, bridge, solo/instrum...   \n",
       "3  [intro, verse, verse, solo/instrumental, verse...   \n",
       "6  [intro, verse, chorus, verse, chorus, transiti...   \n",
       "\n",
       "                                          Beat_times  \\\n",
       "0  [0.0, 2.5541950113378684, 3.9009523809523814, ...   \n",
       "1  [0.0, 0.18575963718820865, 0.8823582766439909,...   \n",
       "2  [0.0, 0.18575963718820865, 1.3931972789115643,...   \n",
       "3  [0.0, 0.3715192743764173, 1.0216780045351477, ...   \n",
       "6  [0.0, 0.4643990929705216, 1.7182766439909296, ...   \n",
       "\n",
       "                                         Beat_frames  \n",
       "0  [0, 55, 84, 107, 131, 163, 187, 212, 238, 266,...  \n",
       "1  [0, 4, 19, 34, 49, 64, 79, 93, 109, 124, 138, ...  \n",
       "2  [0, 4, 29, 56, 82, 107, 135, 163, 191, 219, 24...  \n",
       "3  [0, 8, 22, 36, 50, 65, 79, 93, 107, 122, 135, ...  \n",
       "6  [0, 10, 37, 65, 93, 123, 151, 179, 207, 236, 2...  "
      ]
     },
     "execution_count": 4,
     "metadata": {},
     "output_type": "execute_result"
    }
   ],
   "source": [
    "salami = pd.read_pickle(os.path.join(ROOT, BEATS_DIR, 'salami.p'))\n",
    "salami.head()"
   ]
  },
  {
   "cell_type": "code",
   "execution_count": 5,
   "metadata": {},
   "outputs": [],
   "source": [
    "salami = salami.head(50)"
   ]
  },
  {
   "cell_type": "markdown",
   "metadata": {},
   "source": [
    "## Load spectrograms"
   ]
  },
  {
   "cell_type": "code",
   "execution_count": 6,
   "metadata": {},
   "outputs": [
    {
     "name": "stderr",
     "output_type": "stream",
     "text": [
      "100%|██████████| 50/50 [00:00<00:00, 668.89it/s]\n"
     ]
    }
   ],
   "source": [
    "salami['Songs'] = salami.File.progress_map(lambda f: np.load(os.path.join(ROOT, SALAMI_MELS, f'{f}-mel.npy')))"
   ]
  },
  {
   "cell_type": "markdown",
   "metadata": {},
   "source": [
    "## Helper functions"
   ]
  },
  {
   "cell_type": "code",
   "execution_count": 7,
   "metadata": {},
   "outputs": [],
   "source": [
    "def sync(row):\n",
    "    mel = row.Songs\n",
    "    frames = row.Beat_frames\n",
    "    return librosa.util.sync(mel, frames) "
   ]
  },
  {
   "cell_type": "markdown",
   "metadata": {},
   "source": [
    "#### Smear the labels\n",
    "This is a form of oversampling, we add triangular weights  \n",
    "around the ground truth labels and then set the labels to  \n",
    "true. This function changes quite a bit so it is left in  \n",
    "the notebook for easier access"
   ]
  },
  {
   "cell_type": "code",
   "execution_count": 8,
   "metadata": {},
   "outputs": [],
   "source": [
    "def label_smear(row):\n",
    "    weights = np.ones(shape=(row.Binary_Labels.shape))\n",
    "    labels = row.Binary_Labels.copy()\n",
    "    truthy = np.where(labels == 1)[0]\n",
    "    for t in (truthy - 1):\n",
    "        if (t > 0):\n",
    "            labels[t] = 2\n",
    "            weights[t] = 0.5\n",
    "    for t in (truthy + 1):\n",
    "        if (t  < len(labels)):\n",
    "            labels[t] = 1\n",
    "            weights[t] = 0.5\n",
    "    mid_segments = (truthy[1:] + truthy[:-1]) / 2\n",
    "    for l in ((truthy[1:] + truthy[:-1]) / 2):\n",
    "        labels[t] = -1\n",
    "    labels[truthy] = 1\n",
    "    weights[truthy] = 3\n",
    "    return labels, weights"
   ]
  },
  {
   "cell_type": "markdown",
   "metadata": {},
   "source": [
    "## Sync beats"
   ]
  },
  {
   "cell_type": "code",
   "execution_count": 9,
   "metadata": {},
   "outputs": [
    {
     "name": "stderr",
     "output_type": "stream",
     "text": [
      "100%|██████████| 50/50 [00:00<00:00, 181.69it/s]\n"
     ]
    }
   ],
   "source": [
    "salami['Sync'] = salami.progress_apply(sync, axis=1)"
   ]
  },
  {
   "cell_type": "markdown",
   "metadata": {},
   "source": [
    "## Process Frames"
   ]
  },
  {
   "cell_type": "raw",
   "metadata": {},
   "source": [
    "frames = salami.copy()"
   ]
  },
  {
   "cell_type": "raw",
   "metadata": {},
   "source": [
    "frames['Sub_Divisions'] = frames['Songs'].progress_map(lambda r: create_spec_windows(r, 107))"
   ]
  },
  {
   "cell_type": "markdown",
   "metadata": {},
   "source": [
    "### Line-up labels and context windows"
   ]
  },
  {
   "cell_type": "raw",
   "metadata": {},
   "source": [
    "frames['Binary_Labels'] = frames.progress_apply(lambda r: subdivide_labels(r, 107), axis=1)"
   ]
  },
  {
   "cell_type": "markdown",
   "metadata": {},
   "source": [
    "#### Check that shape is the same"
   ]
  },
  {
   "cell_type": "raw",
   "metadata": {},
   "source": [
    "frame_sample = frames.iloc[2]\n",
    "frame_sample['Sub_Divisions'].shape, frame_sample['Binary_Labels'].shape"
   ]
  },
  {
   "cell_type": "markdown",
   "metadata": {},
   "source": [
    "#### Check that labels line up"
   ]
  },
  {
   "cell_type": "raw",
   "metadata": {},
   "source": [
    "frame_sample = frames.iloc[4]\n",
    "truthy = np.where(frame_sample['Binary_Labels'] == 1)[0] - 107\n",
    "times = librosa.frames_to_time(truthy, sr=SR, hop_length=HOP_SIZE)\n",
    "print(f\"Frame label times: \\n{times} \\nLabel times: \\n{frame_sample['Labels']}\")"
   ]
  },
  {
   "cell_type": "markdown",
   "metadata": {},
   "source": [
    "### Apply label smearing"
   ]
  },
  {
   "cell_type": "raw",
   "metadata": {},
   "source": [
    "frames['Weights'] = frames['Binary_Labels'].progress_map(lambda r: label_smear(r, 107))"
   ]
  },
  {
   "cell_type": "markdown",
   "metadata": {},
   "source": [
    "#### Check the number of truthy labels"
   ]
  },
  {
   "cell_type": "raw",
   "metadata": {},
   "source": [
    "frame_sample = frames.iloc[4]\n",
    "frame_sample['Binary_Labels'].shape, frame_sample['Labels'].shape"
   ]
  },
  {
   "cell_type": "markdown",
   "metadata": {},
   "source": [
    "### Save frames"
   ]
  },
  {
   "cell_type": "raw",
   "metadata": {},
   "source": [
    "# frames.to_pickle(os.path.join(ROOT, SUB_DIVS_DIR, 'frames', 'salami.p'))"
   ]
  },
  {
   "cell_type": "markdown",
   "metadata": {},
   "source": [
    "## Process Beats"
   ]
  },
  {
   "cell_type": "raw",
   "metadata": {},
   "source": [
    "beats = salami.copy()"
   ]
  },
  {
   "cell_type": "raw",
   "metadata": {},
   "source": [
    "beats['Sub_Divisions'] = beats['Sync'].progress_map(lambda t: create_spec_windows(t, 8))"
   ]
  },
  {
   "cell_type": "markdown",
   "metadata": {},
   "source": [
    "### Standard scale spectrograms"
   ]
  },
  {
   "cell_type": "raw",
   "metadata": {},
   "source": [
    "beats['Sub_Divisions'] = beats['Sub_Divisions'].progress_map(normalize)"
   ]
  },
  {
   "cell_type": "markdown",
   "metadata": {},
   "source": [
    "### Line-up labels and context windows"
   ]
  },
  {
   "cell_type": "raw",
   "metadata": {},
   "source": [
    "beats['Binary_Labels'] = beats.progress_apply(lambda t: subdivide_labels(t, 8, 1), axis=1)"
   ]
  },
  {
   "cell_type": "markdown",
   "metadata": {},
   "source": [
    "#### Check that shape is the same"
   ]
  },
  {
   "cell_type": "raw",
   "metadata": {},
   "source": [
    "beat_sample = beats.iloc[3]\n",
    "beat_sample['Sub_Divisions'].shape, beat_sample['Binary_Labels'].shape"
   ]
  },
  {
   "cell_type": "markdown",
   "metadata": {},
   "source": [
    "### Apply label smearing\n",
    "This is a form of oversampling, we add triangular weights  \n",
    "around the ground truth labels and then set the labels to  \n",
    "true."
   ]
  },
  {
   "cell_type": "raw",
   "metadata": {},
   "source": [
    "beats['Weighted_Labels'] = beats.progress_apply(lambda t: label_smear(t, 7), axis=1)"
   ]
  },
  {
   "cell_type": "raw",
   "metadata": {},
   "source": [
    "beats['Weights'] = beats['Weighted_Labels'].progress_map(lambda t: t[1])"
   ]
  },
  {
   "cell_type": "raw",
   "metadata": {},
   "source": [
    "beats['Weighted_Labels'] = beats['Weighted_Labels'].progress_map(lambda t: t[0])"
   ]
  },
  {
   "cell_type": "markdown",
   "metadata": {},
   "source": [
    "#### Check that labels line up"
   ]
  },
  {
   "cell_type": "raw",
   "metadata": {},
   "source": [
    "beat_sample = beats.iloc[2]\n",
    "truthy = np.where(beat_sample['Binary_Labels'] == 1)[0]\n",
    "beat_times = beat_sample['Beat_times']\n",
    "times = beat_times[truthy]\n",
    "print(f\"Beat label times: {times} \\nLabel times: {beat_sample['Labels']}\")"
   ]
  },
  {
   "cell_type": "markdown",
   "metadata": {},
   "source": [
    "#### Check the number of truthy labels"
   ]
  },
  {
   "cell_type": "raw",
   "metadata": {},
   "source": [
    "beat_sample = beats.iloc[4]\n",
    "weighted = np.where(beat_sample['Weighted_Labels'] == 1)[0]\n",
    "normal = np.where(beat_sample['Binary_Labels'] == 1)[0]\n",
    "weighted.shape, normal.shape, beat_sample['Labels'].shape"
   ]
  },
  {
   "cell_type": "markdown",
   "metadata": {},
   "source": [
    "### Create ID vector"
   ]
  },
  {
   "cell_type": "raw",
   "metadata": {},
   "source": [
    "beats['IDS'] = beats.progress_apply(lambda r: np.full(r.Binary_Labels.shape, r.File), axis=1)"
   ]
  },
  {
   "cell_type": "markdown",
   "metadata": {},
   "source": [
    "### Save beats"
   ]
  },
  {
   "cell_type": "raw",
   "metadata": {},
   "source": [
    "beats = beats[['File', 'Sub_Divisions', 'Binary_Labels', 'Weighted_Labels', 'Weights', 'IDS', 'Beat_times', 'Labels', 'BPM']]\n",
    "beats.to_pickle(os.path.join(ROOT, SUB_DIVS_DIR, 'beats', 'salami.p'))"
   ]
  },
  {
   "cell_type": "markdown",
   "metadata": {},
   "source": [
    "## Process Bars"
   ]
  },
  {
   "cell_type": "code",
   "execution_count": 10,
   "metadata": {},
   "outputs": [],
   "source": [
    "bars = salami.copy()"
   ]
  },
  {
   "cell_type": "code",
   "execution_count": 11,
   "metadata": {},
   "outputs": [
    {
     "name": "stderr",
     "output_type": "stream",
     "text": [
      "100%|██████████| 50/50 [00:00<00:00, 252.28it/s]\n"
     ]
    }
   ],
   "source": [
    "bars['Sub_Divisions'] = bars['Sync'].progress_map(lambda t: create_spec_windows(t, 16, 4))"
   ]
  },
  {
   "cell_type": "markdown",
   "metadata": {},
   "source": [
    "### Standard scale spectrograms"
   ]
  },
  {
   "cell_type": "code",
   "execution_count": 12,
   "metadata": {},
   "outputs": [
    {
     "name": "stderr",
     "output_type": "stream",
     "text": [
      "100%|██████████| 50/50 [00:00<00:00, 71.90it/s]\n"
     ]
    }
   ],
   "source": [
    "bars['Sub_Divisions'] = bars['Sub_Divisions'].progress_map(normalize)"
   ]
  },
  {
   "cell_type": "markdown",
   "metadata": {},
   "source": [
    "### Line-up labels and context windows"
   ]
  },
  {
   "cell_type": "code",
   "execution_count": 13,
   "metadata": {},
   "outputs": [
    {
     "name": "stderr",
     "output_type": "stream",
     "text": [
      "100%|██████████| 50/50 [00:00<00:00, 4485.89it/s]\n"
     ]
    }
   ],
   "source": [
    "bars['Binary_Labels'] = bars.progress_apply(lambda t: subdivide_labels(t, 16, 4), axis=1)"
   ]
  },
  {
   "cell_type": "markdown",
   "metadata": {},
   "source": [
    "#### Check that shape is the same"
   ]
  },
  {
   "cell_type": "code",
   "execution_count": 14,
   "metadata": {},
   "outputs": [
    {
     "data": {
      "text/plain": [
       "((124, 80, 4, 33), (124,))"
      ]
     },
     "execution_count": 14,
     "metadata": {},
     "output_type": "execute_result"
    }
   ],
   "source": [
    "bars_sample = bars.iloc[1]\n",
    "bars_sample['Sub_Divisions'].shape, bars_sample['Binary_Labels'].shape"
   ]
  },
  {
   "cell_type": "markdown",
   "metadata": {},
   "source": [
    "### Apply label smearing"
   ]
  },
  {
   "cell_type": "code",
   "execution_count": 15,
   "metadata": {},
   "outputs": [
    {
     "name": "stderr",
     "output_type": "stream",
     "text": [
      "100%|██████████| 50/50 [00:00<00:00, 7477.28it/s]\n"
     ]
    }
   ],
   "source": [
    "bars['Weighted_Labels'] = bars.progress_apply(label_smear, axis=1)"
   ]
  },
  {
   "cell_type": "code",
   "execution_count": 16,
   "metadata": {},
   "outputs": [
    {
     "name": "stderr",
     "output_type": "stream",
     "text": [
      "100%|██████████| 50/50 [00:00<00:00, 122568.79it/s]\n"
     ]
    }
   ],
   "source": [
    "bars['Weights'] = bars['Weighted_Labels'].progress_map(lambda t: t[1])"
   ]
  },
  {
   "cell_type": "code",
   "execution_count": 17,
   "metadata": {},
   "outputs": [
    {
     "name": "stderr",
     "output_type": "stream",
     "text": [
      "100%|██████████| 50/50 [00:00<00:00, 91738.93it/s]\n"
     ]
    }
   ],
   "source": [
    "bars['Weighted_Labels'] = bars['Weighted_Labels'].progress_map(lambda t: t[0])"
   ]
  },
  {
   "cell_type": "markdown",
   "metadata": {},
   "source": [
    "#### Check that labels line up"
   ]
  },
  {
   "cell_type": "code",
   "execution_count": 18,
   "metadata": {},
   "outputs": [
    {
     "name": "stdout",
     "output_type": "stream",
     "text": [
      "Beat label times: [ 25.82058957  49.50494331  88.51446712 132.30730159 151.53342404\n",
      " 191.65750567 230.43482993 258.99537415] \n",
      "Label times: [ 28.74630385  49.35795918  91.03056689 132.45095238 152.5884127\n",
      " 192.22426304 231.20195011 259.62206349]\n"
     ]
    }
   ],
   "source": [
    "bars_sample = bars.iloc[0]\n",
    "truthy = np.where(bars_sample['Binary_Labels'] == 1)[0] * 4\n",
    "beat_times = bars_sample['Beat_times']\n",
    "times = beat_times[truthy]\n",
    "print(f\"Beat label times: {times} \\nLabel times: {bars_sample['Labels']}\")"
   ]
  },
  {
   "cell_type": "markdown",
   "metadata": {},
   "source": [
    "#### Check the number of truthy labels"
   ]
  },
  {
   "cell_type": "code",
   "execution_count": 19,
   "metadata": {},
   "outputs": [
    {
     "data": {
      "text/plain": [
       "((31,), (17,), (17,))"
      ]
     },
     "execution_count": 19,
     "metadata": {},
     "output_type": "execute_result"
    }
   ],
   "source": [
    "bars_sample = bars.iloc[4]\n",
    "weighted = np.where(bars_sample['Weighted_Labels'] == 1)[0]\n",
    "normal = np.where(bars_sample['Binary_Labels'] == 1)[0]\n",
    "weighted.shape, normal.shape, bars_sample['Labels'].shape"
   ]
  },
  {
   "cell_type": "markdown",
   "metadata": {},
   "source": [
    "### Create IDS vector"
   ]
  },
  {
   "cell_type": "code",
   "execution_count": 20,
   "metadata": {},
   "outputs": [
    {
     "name": "stderr",
     "output_type": "stream",
     "text": [
      "100%|██████████| 50/50 [00:00<00:00, 17210.93it/s]\n"
     ]
    }
   ],
   "source": [
    "bars['IDS'] = bars.progress_apply(lambda r: np.full(r.Binary_Labels.shape, r.File), axis=1)"
   ]
  },
  {
   "cell_type": "markdown",
   "metadata": {},
   "source": [
    "### Save bar mel spectrograms"
   ]
  },
  {
   "cell_type": "code",
   "execution_count": 21,
   "metadata": {},
   "outputs": [
    {
     "name": "stderr",
     "output_type": "stream",
     "text": [
      "100%|██████████| 50/50 [00:00<00:00, 81.40it/s]\n"
     ]
    }
   ],
   "source": [
    "for _, feature in tqdm(bars.iterrows(), total=bars.shape[0]):\n",
    "    np.save(os.path.join(ROOT, SUB_DIVS_DIR, 'bars', 'salami', f'{feature.File}.npy'), feature.Sub_Divisions)"
   ]
  },
  {
   "cell_type": "markdown",
   "metadata": {},
   "source": [
    "#### Save path instead of melspec"
   ]
  },
  {
   "cell_type": "code",
   "execution_count": 22,
   "metadata": {},
   "outputs": [
    {
     "name": "stderr",
     "output_type": "stream",
     "text": [
      "100%|██████████| 50/50 [00:00<00:00, 87272.24it/s]\n"
     ]
    }
   ],
   "source": [
    "bars['Sub_Divisions'] = bars['File'].progress_map(lambda file: os.path.join(ROOT, SUB_DIVS_DIR, 'bars', 'salami', f'{file}.npy'))"
   ]
  },
  {
   "cell_type": "markdown",
   "metadata": {},
   "source": [
    "#### Save metadata"
   ]
  },
  {
   "cell_type": "code",
   "execution_count": 23,
   "metadata": {},
   "outputs": [],
   "source": [
    "bars = bars[['File', 'Sub_Divisions', 'Binary_Labels', 'Weighted_Labels', 'Weights', 'IDS', 'Beat_times', 'Labels']]\n",
    "bars.to_pickle(os.path.join(ROOT, SUB_DIVS_DIR, 'bars', 'salami.p'))"
   ]
  },
  {
   "cell_type": "code",
   "execution_count": null,
   "metadata": {},
   "outputs": [],
   "source": []
  }
 ],
 "metadata": {
  "kernelspec": {
   "display_name": "Python 3",
   "language": "python",
   "name": "python3"
  },
  "language_info": {
   "codemirror_mode": {
    "name": "ipython",
    "version": 3
   },
   "file_extension": ".py",
   "mimetype": "text/x-python",
   "name": "python",
   "nbconvert_exporter": "python",
   "pygments_lexer": "ipython3",
   "version": "3.8.5"
  }
 },
 "nbformat": 4,
 "nbformat_minor": 4
}
