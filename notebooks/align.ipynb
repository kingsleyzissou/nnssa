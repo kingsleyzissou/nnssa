{
 "cells": [
  {
   "cell_type": "code",
   "execution_count": 12,
   "metadata": {},
   "outputs": [],
   "source": [
    "from __future__ import print_function, division\n",
    "import os\n",
    "import pandas as pd\n",
    "import time\n",
    "from pydub import AudioSegment"
   ]
  },
  {
   "cell_type": "code",
   "execution_count": 2,
   "metadata": {},
   "outputs": [],
   "source": [
    "DATASET = \"../datasets/matches.csv\"\n",
    "DOWNLOADS_DIR = \"../downloads/\"\n",
    "OUTPUT_DIR = \"../transforms/\""
   ]
  },
  {
   "cell_type": "code",
   "execution_count": 3,
   "metadata": {},
   "outputs": [],
   "source": [
    "if (not os.path.exists(DOWNLOADS_DIR)):\n",
    "    os.mkdir(DOWNLOADS_DIR)\n",
    "    \n",
    "if (not os.path.exists(OUTPUT_DIR)):\n",
    "    os.mkdir(OUTPUT_DIR)"
   ]
  },
  {
   "cell_type": "code",
   "execution_count": 4,
   "metadata": {},
   "outputs": [
    {
     "output_type": "execute_result",
     "data": {
      "text/plain": [
       "   salami_id  salami_length   youtube_id  youtube_length  coverage  \\\n",
       "0          2     264.800000  DKzFw_i6Ffg           265.0     261.4   \n",
       "1          3     276.662812  E6iGez4BLjQ           277.0     270.3   \n",
       "2          4     236.094667  ct8gCRPST9s           235.0     232.5   \n",
       "3          5     256.940417  IBdrzoz9o0o           258.0     248.1   \n",
       "4          6     170.466667  QurVLnYoFqo           174.0     163.5   \n",
       "\n",
       "   coverage_percent  onset_in_youtube  onset_in_salami  \n",
       "0          0.987160               0.6              0.5  \n",
       "1          0.977002               0.3              0.5  \n",
       "2          0.984774               0.4              0.5  \n",
       "3          0.965594               6.0              6.0  \n",
       "4          0.959132               4.8              0.2  "
      ],
      "text/html": "<div>\n<style scoped>\n    .dataframe tbody tr th:only-of-type {\n        vertical-align: middle;\n    }\n\n    .dataframe tbody tr th {\n        vertical-align: top;\n    }\n\n    .dataframe thead th {\n        text-align: right;\n    }\n</style>\n<table border=\"1\" class=\"dataframe\">\n  <thead>\n    <tr style=\"text-align: right;\">\n      <th></th>\n      <th>salami_id</th>\n      <th>salami_length</th>\n      <th>youtube_id</th>\n      <th>youtube_length</th>\n      <th>coverage</th>\n      <th>coverage_percent</th>\n      <th>onset_in_youtube</th>\n      <th>onset_in_salami</th>\n    </tr>\n  </thead>\n  <tbody>\n    <tr>\n      <th>0</th>\n      <td>2</td>\n      <td>264.800000</td>\n      <td>DKzFw_i6Ffg</td>\n      <td>265.0</td>\n      <td>261.4</td>\n      <td>0.987160</td>\n      <td>0.6</td>\n      <td>0.5</td>\n    </tr>\n    <tr>\n      <th>1</th>\n      <td>3</td>\n      <td>276.662812</td>\n      <td>E6iGez4BLjQ</td>\n      <td>277.0</td>\n      <td>270.3</td>\n      <td>0.977002</td>\n      <td>0.3</td>\n      <td>0.5</td>\n    </tr>\n    <tr>\n      <th>2</th>\n      <td>4</td>\n      <td>236.094667</td>\n      <td>ct8gCRPST9s</td>\n      <td>235.0</td>\n      <td>232.5</td>\n      <td>0.984774</td>\n      <td>0.4</td>\n      <td>0.5</td>\n    </tr>\n    <tr>\n      <th>3</th>\n      <td>5</td>\n      <td>256.940417</td>\n      <td>IBdrzoz9o0o</td>\n      <td>258.0</td>\n      <td>248.1</td>\n      <td>0.965594</td>\n      <td>6.0</td>\n      <td>6.0</td>\n    </tr>\n    <tr>\n      <th>4</th>\n      <td>6</td>\n      <td>170.466667</td>\n      <td>QurVLnYoFqo</td>\n      <td>174.0</td>\n      <td>163.5</td>\n      <td>0.959132</td>\n      <td>4.8</td>\n      <td>0.2</td>\n    </tr>\n  </tbody>\n</table>\n</div>"
     },
     "metadata": {},
     "execution_count": 4
    }
   ],
   "source": [
    "df = pd.read_csv(DATASET, header=0)\n",
    "df.head()"
   ]
  },
  {
   "cell_type": "code",
   "execution_count": 17,
   "metadata": {},
   "outputs": [],
   "source": [
    "for _,item in df.head().iterrows():\n",
    "    filename = str(item.salami_id) + \".m4a\"\n",
    "    input_file = DOWNLOADS_DIR + filename\n",
    "    output_file = OUTPUT_DIR + filename\n",
    "    if (os.path.exists(input_file)):\n",
    "        input_file = AudioSegment.from_file(input_file, \"mp3\")\n",
    "        yt_start = item[\"onset_in_youtube\"] - item[\"onset_in_salami\"]\n",
    "        yt_end = yt_start + item[\"salami_length\"]\n",
    "        yt_length = item[\"youtube_length\"]\n",
    "        if yt_end > yt_length:\n",
    "            pad = AudioSegment.silent(duration=(yt_end - yt_length)*1000)\n",
    "            out = input_file + pad\n",
    "        if yt_start < 0:\n",
    "            pad = AudioSegment.silent(duration = (yt_start*-1)*1000)\n",
    "            out = pad + input_file\n",
    "            yt_start = 0\n",
    "        out = out[yt_start:(yt_start + item[\"salami_length\"])*1000]\n",
    "        out.export(output_file, format=\"mp3\")"
   ]
  },
  {
   "cell_type": "code",
   "execution_count": null,
   "metadata": {},
   "outputs": [],
   "source": []
  }
 ],
 "metadata": {
  "kernelspec": {
   "name": "python3",
   "display_name": "Python 3.8.5 64-bit ('3.8.5')",
   "metadata": {
    "interpreter": {
     "hash": "3c58051e99d7c8b0cd7cc0d56e6bac40bf9710604c242c11c49cbb11c8447ba4"
    }
   }
  },
  "language_info": {
   "codemirror_mode": {
    "name": "ipython",
    "version": 3
   },
   "file_extension": ".py",
   "mimetype": "text/x-python",
   "name": "python",
   "nbconvert_exporter": "python",
   "pygments_lexer": "ipython3",
   "version": "3.8.5-final"
  }
 },
 "nbformat": 4,
 "nbformat_minor": 4
}