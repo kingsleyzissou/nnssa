{
 "cells": [
  {
   "source": [
    "# Align Songs\n",
    "The aim of this file is to align the first beat of the YouTube downloaded audio  \n",
    "with the first beat in the annotations. If the start time of the YouTube download  \n",
    "is earlier than the annotated version, I add a bit of silence to line the songs up.  \n",
    "If the start time is a little bit later, we remove some of the audio before.  \n",
    "If the total duration of the YouTube version, I truncate the song, or otherwise  \n",
    "I add silence to the end of the song so that the total song duration of the annotated  \n",
    "song lines up with the song we downloaded"
   ],
   "cell_type": "markdown",
   "metadata": {}
  },
  {
   "source": [
    "## Import required libraries"
   ],
   "cell_type": "markdown",
   "metadata": {}
  },
  {
   "cell_type": "code",
   "execution_count": 1,
   "metadata": {},
   "outputs": [],
   "source": [
    "from __future__ import print_function, division\n",
    "import os\n",
    "import pandas as pd\n",
    "import time\n",
    "from pydub import AudioSegment\n",
    "from tqdm import tqdm"
   ]
  },
  {
   "source": [
    "## Global constants"
   ],
   "cell_type": "markdown",
   "metadata": {}
  },
  {
   "source": [
    "SALAMI_YT_MATCHES = \"../datasets/salami/matches.csv\"\n",
    "HARMONIX_YT_MATCHES = \"../datasets/harmonix/youtube_metadata.csv\"\n",
    "DOWNLOADS_DIR = \"../downloads/\"\n",
    "OUTPUT_DIR = \"../transformed/\""
   ],
   "cell_type": "code",
   "metadata": {},
   "execution_count": null,
   "outputs": []
  },
  {
   "source": [
    "## Read SALAMI csv metadata"
   ],
   "cell_type": "markdown",
   "metadata": {}
  },
  {
   "cell_type": "code",
   "execution_count": 3,
   "metadata": {},
   "outputs": [
    {
     "output_type": "execute_result",
     "data": {
      "text/plain": [
       "   salami_id  salami_length   youtube_id  youtube_length  coverage  \\\n",
       "0          2     264.800000  DKzFw_i6Ffg           265.0     261.4   \n",
       "1          3     276.662812  E6iGez4BLjQ           277.0     270.3   \n",
       "2          4     236.094667  ct8gCRPST9s           235.0     232.5   \n",
       "3          5     256.940417  IBdrzoz9o0o           258.0     248.1   \n",
       "4          6     170.466667  QurVLnYoFqo           174.0     163.5   \n",
       "\n",
       "   coverage_percent  onset_in_youtube  onset_in_salami  \n",
       "0          0.987160               0.6              0.5  \n",
       "1          0.977002               0.3              0.5  \n",
       "2          0.984774               0.4              0.5  \n",
       "3          0.965594               6.0              6.0  \n",
       "4          0.959132               4.8              0.2  "
      ],
      "text/html": "<div>\n<style scoped>\n    .dataframe tbody tr th:only-of-type {\n        vertical-align: middle;\n    }\n\n    .dataframe tbody tr th {\n        vertical-align: top;\n    }\n\n    .dataframe thead th {\n        text-align: right;\n    }\n</style>\n<table border=\"1\" class=\"dataframe\">\n  <thead>\n    <tr style=\"text-align: right;\">\n      <th></th>\n      <th>salami_id</th>\n      <th>salami_length</th>\n      <th>youtube_id</th>\n      <th>youtube_length</th>\n      <th>coverage</th>\n      <th>coverage_percent</th>\n      <th>onset_in_youtube</th>\n      <th>onset_in_salami</th>\n    </tr>\n  </thead>\n  <tbody>\n    <tr>\n      <th>0</th>\n      <td>2</td>\n      <td>264.800000</td>\n      <td>DKzFw_i6Ffg</td>\n      <td>265.0</td>\n      <td>261.4</td>\n      <td>0.987160</td>\n      <td>0.6</td>\n      <td>0.5</td>\n    </tr>\n    <tr>\n      <th>1</th>\n      <td>3</td>\n      <td>276.662812</td>\n      <td>E6iGez4BLjQ</td>\n      <td>277.0</td>\n      <td>270.3</td>\n      <td>0.977002</td>\n      <td>0.3</td>\n      <td>0.5</td>\n    </tr>\n    <tr>\n      <th>2</th>\n      <td>4</td>\n      <td>236.094667</td>\n      <td>ct8gCRPST9s</td>\n      <td>235.0</td>\n      <td>232.5</td>\n      <td>0.984774</td>\n      <td>0.4</td>\n      <td>0.5</td>\n    </tr>\n    <tr>\n      <th>3</th>\n      <td>5</td>\n      <td>256.940417</td>\n      <td>IBdrzoz9o0o</td>\n      <td>258.0</td>\n      <td>248.1</td>\n      <td>0.965594</td>\n      <td>6.0</td>\n      <td>6.0</td>\n    </tr>\n    <tr>\n      <th>4</th>\n      <td>6</td>\n      <td>170.466667</td>\n      <td>QurVLnYoFqo</td>\n      <td>174.0</td>\n      <td>163.5</td>\n      <td>0.959132</td>\n      <td>4.8</td>\n      <td>0.2</td>\n    </tr>\n  </tbody>\n</table>\n</div>"
     },
     "metadata": {},
     "execution_count": 3
    }
   ],
   "source": [
    "salami = pd.read_csv(SALAMI_YT_MATCHES, header=0)\n",
    "salami.head()"
   ]
  },
  {
   "source": [
    "## Read Harmonix csv metadata"
   ],
   "cell_type": "markdown",
   "metadata": {}
  },
  {
   "cell_type": "code",
   "execution_count": 4,
   "metadata": {},
   "outputs": [
    {
     "output_type": "execute_result",
     "data": {
      "text/plain": [
       "                 File  yt_onset      yt_dur      dur     onset\n",
       "0         0001_12step  1.718277  204.428481  142.470  0.000000\n",
       "1     0003_6foot7foot  1.230658  264.103764  157.347  2.857108\n",
       "2            0004_abc  0.116100  210.697868  180.955  2.666656\n",
       "3          0005_again  3.808073  193.747302  192.067  4.615380\n",
       "4  0009_americanmusic  0.069660  222.911565  223.807  3.500000"
      ],
      "text/html": "<div>\n<style scoped>\n    .dataframe tbody tr th:only-of-type {\n        vertical-align: middle;\n    }\n\n    .dataframe tbody tr th {\n        vertical-align: top;\n    }\n\n    .dataframe thead th {\n        text-align: right;\n    }\n</style>\n<table border=\"1\" class=\"dataframe\">\n  <thead>\n    <tr style=\"text-align: right;\">\n      <th></th>\n      <th>File</th>\n      <th>yt_onset</th>\n      <th>yt_dur</th>\n      <th>dur</th>\n      <th>onset</th>\n    </tr>\n  </thead>\n  <tbody>\n    <tr>\n      <th>0</th>\n      <td>0001_12step</td>\n      <td>1.718277</td>\n      <td>204.428481</td>\n      <td>142.470</td>\n      <td>0.000000</td>\n    </tr>\n    <tr>\n      <th>1</th>\n      <td>0003_6foot7foot</td>\n      <td>1.230658</td>\n      <td>264.103764</td>\n      <td>157.347</td>\n      <td>2.857108</td>\n    </tr>\n    <tr>\n      <th>2</th>\n      <td>0004_abc</td>\n      <td>0.116100</td>\n      <td>210.697868</td>\n      <td>180.955</td>\n      <td>2.666656</td>\n    </tr>\n    <tr>\n      <th>3</th>\n      <td>0005_again</td>\n      <td>3.808073</td>\n      <td>193.747302</td>\n      <td>192.067</td>\n      <td>4.615380</td>\n    </tr>\n    <tr>\n      <th>4</th>\n      <td>0009_americanmusic</td>\n      <td>0.069660</td>\n      <td>222.911565</td>\n      <td>223.807</td>\n      <td>3.500000</td>\n    </tr>\n  </tbody>\n</table>\n</div>"
     },
     "metadata": {},
     "execution_count": 4
    }
   ],
   "source": [
    "harmonix = pd.read_csv(HARMONIX_YT_MATCHES, header=0)\n",
    "harmonix.head()"
   ]
  },
  {
   "source": [
    "## Pad audio helper function"
   ],
   "cell_type": "markdown",
   "metadata": {}
  },
  {
   "cell_type": "code",
   "execution_count": 2,
   "metadata": {},
   "outputs": [],
   "source": [
    "def pad_audio(youtube, actual, input_file, output_file):\n",
    "    \"\"\"\n",
    "    This function is used to line up the audio of the songs\n",
    "    downloaded from YouTube with the metadata we have for \n",
    "    the respective songs from the annotators.\n",
    "    \n",
    "    :param youtube - the youtube download metadata\n",
    "    :param actual - the annotated song metadata\n",
    "    :param input_file - the file name of the input song to be read from\n",
    "    :param ouput_file - the file name for the song to be written to\n",
    "    \"\"\"\n",
    "    start = youtube[\"onset\"] - actual[\"onset\"]\n",
    "    end = start - actual[\"length\"]\n",
    "    out = input_file\n",
    "    if (end > youtube[\"length\"]):\n",
    "        duration = (end - youtube[\"length\"])*1000\n",
    "        pad = AudioSegment.silent(duration=duration)\n",
    "        out = out + pad\n",
    "    if(start < 0):\n",
    "        duration = start*-1000\n",
    "        pad = AudioSegment.silent(duration=duration)\n",
    "        out = pad + out\n",
    "        start = 0\n",
    "    trim = (start + actual[\"length\"]) * 1000\n",
    "    out = out[start:trim]\n",
    "    out.export(output_file, format=\"mp3\")"
   ]
  },
  {
   "source": [
    "## Helper function to extract SALAMI metadata"
   ],
   "cell_type": "markdown",
   "metadata": {}
  },
  {
   "cell_type": "code",
   "execution_count": 4,
   "metadata": {},
   "outputs": [],
   "source": [
    "def extract_values(item):\n",
    "    \"\"\"\n",
    "    This function extracts the relevant metadata\n",
    "    from the YouTube download and the original song\n",
    "    metadata for the SALAMI dataset\n",
    "\n",
    "    :param item - the dictionary from which the information is extracted\n",
    "    :return: youtube, actual - two dictionaries containing relevant metadata\n",
    "    \"\"\"\n",
    "    youtube = {\n",
    "        \"onset\": item[\"onset_in_youtube\"],\n",
    "        \"length\": item[\"youtube_length\"],\n",
    "    }\n",
    "    actual = {\n",
    "        \"onset\": item[\"onset_in_salami\"],\n",
    "        \"length\": item[\"salami_length\"]\n",
    "    }\n",
    "    return youtube, actual  "
   ]
  },
  {
   "cell_type": "code",
   "execution_count": 10,
   "metadata": {},
   "outputs": [
    {
     "output_type": "stream",
     "name": "stderr",
     "text": [
      "100%|██████████| 5/5 [00:12<00:00,  2.55s/it]\n"
     ]
    }
   ],
   "source": [
    "for _,item in tqdm(salami.iterrows(), total=len(salami)):\n",
    "    \"\"\"Iterate through the SALAMI data set\"\"\"\n",
    "    filename = str(item.salami_id)\n",
    "    input_path = DOWNLOADS_DIR + \"salami/\" + filename + \".m4a\"\n",
    "    output_path = OUTPUT_DIR + \"salami/\" + filename + \".mp3\"\n",
    "    ## check if we have a copy of the song\n",
    "    if (os.path.exists(input_path)):\n",
    "        ## read the input file\n",
    "        input_file = AudioSegment.from_file(input_path, \"m4a\")\n",
    "        ## extract the metadata\n",
    "        youtube, actual = extract_values(item)\n",
    "        ## pad the audio for the given file\n",
    "        pad_audio(youtube, actual, input_file, output_path)"
   ]
  },
  {
   "source": [
    "## Helper function to extract Harmonix metadata"
   ],
   "cell_type": "markdown",
   "metadata": {}
  },
  {
   "cell_type": "code",
   "execution_count": 6,
   "metadata": {},
   "outputs": [],
   "source": [
    "def extract_harmonix(item):\n",
    "    \"\"\"\n",
    "    This function extracts the relevant metadata\n",
    "    from the YouTube download and the original song\n",
    "    metadata for the Harmonix dataset\n",
    "\n",
    "    :param item - the dictionary from which the information is extracted\n",
    "    :return: youtube, actual - two dictionaries containing relevant metadata\n",
    "    \"\"\"\n",
    "    youtube = {\n",
    "        \"onset\": item[\"onset\"],\n",
    "        \"length\": item[\"dur\"]\n",
    "    }\n",
    "    actual = {\n",
    "        \"onset\": item[\"yt_onset\"],\n",
    "        \"length\": item[\"yt_dur\"]\n",
    "    }\n",
    "    return youtube, actual"
   ]
  },
  {
   "cell_type": "code",
   "execution_count": 7,
   "metadata": {},
   "outputs": [
    {
     "output_type": "stream",
     "name": "stderr",
     "text": [
      "100%|██████████| 1/1 [00:03<00:00,  3.94s/it]\n"
     ]
    }
   ],
   "source": [
    "for _,item in tqdm(harmonix.iterrows(), total=len(harmonix)):\n",
    "    \"\"\"Iterate through the Harmonix data set\"\"\"\n",
    "    filename = item[\"File\"]\n",
    "    input_path = DOWNLOADS_DIR + \"harmonix/\" + filename + \".m4a\"\n",
    "    output_path = OUTPUT_DIR + \"harmonix/\" + filename + \".mp3\"\n",
    "    ## check if we have a copy of the song\n",
    "    if (os.path.exists(input_path)):\n",
    "        ## read the input file\n",
    "        input_file = AudioSegment.from_file(input_path, \"m4a\")\n",
    "        ## extract the metadata\n",
    "        youtube, actual = extract_harmonix(item)\n",
    "        ## pad the audio for the given file\n",
    "        pad_audio(youtube, actual, input_file, output_path)"
   ]
  }
 ],
 "metadata": {
  "kernelspec": {
   "name": "python3",
   "display_name": "Python 3.8.5 64-bit ('3.8.5')",
   "metadata": {
    "interpreter": {
     "hash": "9a69de308a60ffa620c8414c7f2b48a5917309a533958347dd23951c53883989"
    }
   }
  },
  "language_info": {
   "codemirror_mode": {
    "name": "ipython",
    "version": 3
   },
   "file_extension": ".py",
   "mimetype": "text/x-python",
   "name": "python",
   "nbconvert_exporter": "python",
   "pygments_lexer": "ipython3",
   "version": "3.8.5-final"
  }
 },
 "nbformat": 4,
 "nbformat_minor": 4
}