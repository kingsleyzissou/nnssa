{
 "cells": [
  {
   "cell_type": "markdown",
   "metadata": {},
   "source": [
    "# Load Harmonix Beat Times"
   ]
  },
  {
   "cell_type": "markdown",
   "metadata": {},
   "source": [
    "## Load libraries"
   ]
  },
  {
   "cell_type": "code",
   "execution_count": 1,
   "metadata": {},
   "outputs": [],
   "source": [
    "import pandas as pd\n",
    "import numpy as np\n",
    "import matplotlib.pyplot as plt\n",
    "import seaborn as sns\n",
    "import librosa\n",
    "import os\n",
    "\n",
    "ROOT = os.path.join(os.getcwd(), '..', '..')"
   ]
  },
  {
   "cell_type": "markdown",
   "metadata": {},
   "source": [
    "## Load local modules"
   ]
  },
  {
   "cell_type": "code",
   "execution_count": 2,
   "metadata": {},
   "outputs": [],
   "source": [
    "from nnssa.constants import *"
   ]
  },
  {
   "cell_type": "markdown",
   "metadata": {},
   "source": [
    "## Load dataset"
   ]
  },
  {
   "cell_type": "code",
   "execution_count": 3,
   "metadata": {},
   "outputs": [
    {
     "data": {
      "text/html": [
       "<div>\n",
       "<style scoped>\n",
       "    .dataframe tbody tr th:only-of-type {\n",
       "        vertical-align: middle;\n",
       "    }\n",
       "\n",
       "    .dataframe tbody tr th {\n",
       "        vertical-align: top;\n",
       "    }\n",
       "\n",
       "    .dataframe thead th {\n",
       "        text-align: right;\n",
       "    }\n",
       "</style>\n",
       "<table border=\"1\" class=\"dataframe\">\n",
       "  <thead>\n",
       "    <tr style=\"text-align: right;\">\n",
       "      <th></th>\n",
       "      <th>File</th>\n",
       "      <th>Song_duration</th>\n",
       "      <th>Song_title</th>\n",
       "      <th>Artist</th>\n",
       "      <th>Format</th>\n",
       "      <th>Labels</th>\n",
       "      <th>Sections</th>\n",
       "    </tr>\n",
       "  </thead>\n",
       "  <tbody>\n",
       "    <tr>\n",
       "      <th>0</th>\n",
       "      <td>956</td>\n",
       "      <td>320.0</td>\n",
       "      <td>Revolution</td>\n",
       "      <td>Burden_Hand</td>\n",
       "      <td>mp3</td>\n",
       "      <td>[28.746303854, 49.357959183, 91.03056689299999...</td>\n",
       "      <td>[intro, verse, chorus, transition, verse, chor...</td>\n",
       "    </tr>\n",
       "    <tr>\n",
       "      <th>1</th>\n",
       "      <td>958</td>\n",
       "      <td>344.0</td>\n",
       "      <td>Rap_Medley</td>\n",
       "      <td>5point</td>\n",
       "      <td>mp3</td>\n",
       "      <td>[0.045, 26.129208333, 71.4750625, 116.7300625,...</td>\n",
       "      <td>[intro, verse, verse, verse, transition, verse...</td>\n",
       "    </tr>\n",
       "    <tr>\n",
       "      <th>2</th>\n",
       "      <td>960</td>\n",
       "      <td>293.0</td>\n",
       "      <td>Woman_Across_The_River</td>\n",
       "      <td>Absolute_Gruv</td>\n",
       "      <td>mp3</td>\n",
       "      <td>[0.048979590999999996, 76.260068027, 108.70204...</td>\n",
       "      <td>[live, solo/instrumental, bridge, solo/instrum...</td>\n",
       "    </tr>\n",
       "    <tr>\n",
       "      <th>3</th>\n",
       "      <td>962</td>\n",
       "      <td>579.0</td>\n",
       "      <td>_</td>\n",
       "      <td>Afrissippi</td>\n",
       "      <td>mp3</td>\n",
       "      <td>[15.18585034, 56.47031746, 104.25839002200001,...</td>\n",
       "      <td>[intro, verse, verse, solo/instrumental, verse...</td>\n",
       "    </tr>\n",
       "    <tr>\n",
       "      <th>6</th>\n",
       "      <td>968</td>\n",
       "      <td>377.0</td>\n",
       "      <td>Quinn_the_Eskimo_The_Mighty_Quinn</td>\n",
       "      <td>Al_and_the_Transamericans</td>\n",
       "      <td>mp3</td>\n",
       "      <td>[0.865306122, 6.802834467, 27.484149659, 47.89...</td>\n",
       "      <td>[intro, verse, chorus, verse, chorus, transiti...</td>\n",
       "    </tr>\n",
       "  </tbody>\n",
       "</table>\n",
       "</div>"
      ],
      "text/plain": [
       "   File  Song_duration                         Song_title  \\\n",
       "0   956          320.0                         Revolution   \n",
       "1   958          344.0                         Rap_Medley   \n",
       "2   960          293.0             Woman_Across_The_River   \n",
       "3   962          579.0                                  _   \n",
       "6   968          377.0  Quinn_the_Eskimo_The_Mighty_Quinn   \n",
       "\n",
       "                      Artist Format  \\\n",
       "0                Burden_Hand    mp3   \n",
       "1                     5point    mp3   \n",
       "2              Absolute_Gruv    mp3   \n",
       "3                 Afrissippi    mp3   \n",
       "6  Al_and_the_Transamericans    mp3   \n",
       "\n",
       "                                              Labels  \\\n",
       "0  [28.746303854, 49.357959183, 91.03056689299999...   \n",
       "1  [0.045, 26.129208333, 71.4750625, 116.7300625,...   \n",
       "2  [0.048979590999999996, 76.260068027, 108.70204...   \n",
       "3  [15.18585034, 56.47031746, 104.25839002200001,...   \n",
       "6  [0.865306122, 6.802834467, 27.484149659, 47.89...   \n",
       "\n",
       "                                            Sections  \n",
       "0  [intro, verse, chorus, transition, verse, chor...  \n",
       "1  [intro, verse, verse, verse, transition, verse...  \n",
       "2  [live, solo/instrumental, bridge, solo/instrum...  \n",
       "3  [intro, verse, verse, solo/instrumental, verse...  \n",
       "6  [intro, verse, chorus, verse, chorus, transiti...  "
      ]
     },
     "execution_count": 3,
     "metadata": {},
     "output_type": "execute_result"
    }
   ],
   "source": [
    "salami = pd.read_pickle(os.path.join(ROOT, ANNOTATIONS_DIR, 'salami.p'))\n",
    "salami.head()"
   ]
  },
  {
   "cell_type": "markdown",
   "metadata": {},
   "source": [
    "## Calculate beat times helper"
   ]
  },
  {
   "cell_type": "code",
   "execution_count": 4,
   "metadata": {},
   "outputs": [],
   "source": [
    "def calculate_beat_times(filename):\n",
    "    filename = str(filename)\n",
    "    mp3 = np.load(os.path.join(ROOT, INTER_DIR, 'audio', 'salami', filename + '.npy'))\n",
    "    _, beats = librosa.beat.beat_track(mp3, sr=SR)\n",
    "    return librosa.frames_to_time(beats, sr=SR, hop_length=HOP_SIZE)"
   ]
  },
  {
   "cell_type": "raw",
   "metadata": {},
   "source": [
    "# RAW since this is an expensive operation\n",
    "\n",
    "from tqdm import tqdm\n",
    "tqdm.pandas()\n",
    "\n",
    "beat_times = salami.copy()\n",
    "beat_times['Beat_times'] = beat_times.File.progress_map(calculate_beat_times)"
   ]
  },
  {
   "cell_type": "markdown",
   "metadata": {},
   "source": [
    "## Save the results to text file for quicker access"
   ]
  },
  {
   "cell_type": "raw",
   "metadata": {},
   "source": [
    "for _, item in tqdm(beat_times.iterrows(), total=len(beat_times)):\n",
    "    filename = str(item['File'])\n",
    "    frame = item['Beat_times']\n",
    "    beat_time = librosa.frames_to_time(frame, sr=SR, hop_length=HOP_SIZE)\n",
    "    df = pd.DataFrame(beat_time)\n",
    "    df.to_csv(os.path.join(ROOT, BEATS_DIR, 'salami', filename + '.txt'), index=False)"
   ]
  },
  {
   "cell_type": "markdown",
   "metadata": {},
   "source": [
    "## Load beat times helper"
   ]
  },
  {
   "cell_type": "code",
   "execution_count": 5,
   "metadata": {},
   "outputs": [],
   "source": [
    "def load_beat_times(filename):\n",
    "    filename = str(filename)\n",
    "    filepath = os.path.join(ROOT, SALAMI_BEATS, filename + '.txt')\n",
    "    beat_times = pd.read_table(filepath, header=None)[0]\n",
    "    return beat_times.values"
   ]
  },
  {
   "cell_type": "code",
   "execution_count": 6,
   "metadata": {},
   "outputs": [],
   "source": [
    "beat_times = salami.copy()\n",
    "beat_times['Beat_times'] = beat_times.File.map(load_beat_times)"
   ]
  },
  {
   "cell_type": "markdown",
   "metadata": {},
   "source": [
    "## Calculate beat frames"
   ]
  },
  {
   "cell_type": "code",
   "execution_count": 7,
   "metadata": {},
   "outputs": [],
   "source": [
    "beat_times['Beat_frames'] = beat_times['Beat_times'].map(lambda beat_time: librosa.time_to_frames(beat_time, sr=SR, hop_length=HOP_SIZE))"
   ]
  },
  {
   "cell_type": "markdown",
   "metadata": {},
   "source": [
    "## Save beat times"
   ]
  },
  {
   "cell_type": "code",
   "execution_count": 8,
   "metadata": {},
   "outputs": [],
   "source": [
    "beat_times.to_pickle(os.path.join(ROOT, BEATS_DIR, 'salami.p'))"
   ]
  },
  {
   "cell_type": "code",
   "execution_count": null,
   "metadata": {},
   "outputs": [],
   "source": []
  }
 ],
 "metadata": {
  "kernelspec": {
   "display_name": "Python 3",
   "language": "python",
   "name": "python3"
  },
  "language_info": {
   "codemirror_mode": {
    "name": "ipython",
    "version": 3
   },
   "file_extension": ".py",
   "mimetype": "text/x-python",
   "name": "python",
   "nbconvert_exporter": "python",
   "pygments_lexer": "ipython3",
   "version": "3.8.5"
  }
 },
 "nbformat": 4,
 "nbformat_minor": 4
}
