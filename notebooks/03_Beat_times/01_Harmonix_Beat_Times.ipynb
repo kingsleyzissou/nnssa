{
 "cells": [
  {
   "cell_type": "markdown",
   "metadata": {},
   "source": [
    "# Load Harmonix Beat Times"
   ]
  },
  {
   "cell_type": "markdown",
   "metadata": {},
   "source": [
    "## Load libraries"
   ]
  },
  {
   "cell_type": "code",
   "execution_count": 1,
   "metadata": {},
   "outputs": [],
   "source": [
    "import pandas as pd\n",
    "import numpy as np\n",
    "import matplotlib.pyplot as plt\n",
    "import seaborn as sns\n",
    "import librosa\n",
    "\n",
    "from IPython.display import display, Markdown\n",
    "plt.style.use('seaborn-darkgrid')\n",
    "pd.set_option('display.max_columns', None) \n",
    "\n",
    "DEBUG = False"
   ]
  },
  {
   "cell_type": "markdown",
   "metadata": {},
   "source": [
    "## Load local modules"
   ]
  },
  {
   "cell_type": "code",
   "execution_count": 2,
   "metadata": {},
   "outputs": [],
   "source": [
    "import os\n",
    "import sys\n",
    "\n",
    "ROOT = os.path.join(os.getcwd(), '..', '..')\n",
    "\n",
    "src_dir = os.path.join(ROOT, 'src')\n",
    "sys.path.append(src_dir)\n",
    "\n",
    "from constants import *"
   ]
  },
  {
   "cell_type": "markdown",
   "metadata": {},
   "source": [
    "## Load dataset"
   ]
  },
  {
   "cell_type": "code",
   "execution_count": 3,
   "metadata": {},
   "outputs": [
    {
     "data": {
      "text/html": [
       "<div>\n",
       "<style scoped>\n",
       "    .dataframe tbody tr th:only-of-type {\n",
       "        vertical-align: middle;\n",
       "    }\n",
       "\n",
       "    .dataframe tbody tr th {\n",
       "        vertical-align: top;\n",
       "    }\n",
       "\n",
       "    .dataframe thead th {\n",
       "        text-align: right;\n",
       "    }\n",
       "</style>\n",
       "<table border=\"1\" class=\"dataframe\">\n",
       "  <thead>\n",
       "    <tr style=\"text-align: right;\">\n",
       "      <th></th>\n",
       "      <th>File</th>\n",
       "      <th>Duration</th>\n",
       "      <th>BPM</th>\n",
       "      <th>Time_Signature</th>\n",
       "      <th>Genre</th>\n",
       "      <th>Labels</th>\n",
       "      <th>Sections</th>\n",
       "    </tr>\n",
       "  </thead>\n",
       "  <tbody>\n",
       "    <tr>\n",
       "      <th>0</th>\n",
       "      <td>0001_12step</td>\n",
       "      <td>142.470</td>\n",
       "      <td>113</td>\n",
       "      <td>4|4</td>\n",
       "      <td>R&amp;B</td>\n",
       "      <td>[0.0, 8.495567999999999, 25.486704, 42.4753280...</td>\n",
       "      <td>[intro, verse, chorus, verse, chorus, verse, c...</td>\n",
       "    </tr>\n",
       "    <tr>\n",
       "      <th>1</th>\n",
       "      <td>0003_6foot7foot</td>\n",
       "      <td>157.347</td>\n",
       "      <td>84</td>\n",
       "      <td>4|4</td>\n",
       "      <td>Hip-Hop</td>\n",
       "      <td>[2.857108, 8.571396, 31.428548, 37.14283599999...</td>\n",
       "      <td>[chorus, verse, chorus, verse, chorus, verse, ...</td>\n",
       "    </tr>\n",
       "    <tr>\n",
       "      <th>2</th>\n",
       "      <td>0004_abc</td>\n",
       "      <td>180.955</td>\n",
       "      <td>94</td>\n",
       "      <td>4|4</td>\n",
       "      <td>Pop-Rock</td>\n",
       "      <td>[2.666656, 28.300542999999998, 58.263180000000...</td>\n",
       "      <td>[verse, chorus, verse, chorus, bridge, chorus,...</td>\n",
       "    </tr>\n",
       "    <tr>\n",
       "      <th>3</th>\n",
       "      <td>0006_aint2proud2beg</td>\n",
       "      <td>181.034</td>\n",
       "      <td>105</td>\n",
       "      <td>4|4</td>\n",
       "      <td>R&amp;B</td>\n",
       "      <td>[0.0, 27.4652, 45.203726, 63.518522999999995, ...</td>\n",
       "      <td>[intro, verse, transition, chorus, verse, brid...</td>\n",
       "    </tr>\n",
       "    <tr>\n",
       "      <th>4</th>\n",
       "      <td>0008_america</td>\n",
       "      <td>222.683</td>\n",
       "      <td>136</td>\n",
       "      <td>4|4</td>\n",
       "      <td>Metal</td>\n",
       "      <td>[3.871208, 10.56504, 33.217138, 56.85190400000...</td>\n",
       "      <td>[intro, verse, verse, bridge, solo/instrumenta...</td>\n",
       "    </tr>\n",
       "  </tbody>\n",
       "</table>\n",
       "</div>"
      ],
      "text/plain": [
       "                  File  Duration  BPM Time_Signature     Genre  \\\n",
       "0          0001_12step   142.470  113            4|4       R&B   \n",
       "1      0003_6foot7foot   157.347   84            4|4   Hip-Hop   \n",
       "2             0004_abc   180.955   94            4|4  Pop-Rock   \n",
       "3  0006_aint2proud2beg   181.034  105            4|4       R&B   \n",
       "4         0008_america   222.683  136            4|4     Metal   \n",
       "\n",
       "                                              Labels  \\\n",
       "0  [0.0, 8.495567999999999, 25.486704, 42.4753280...   \n",
       "1  [2.857108, 8.571396, 31.428548, 37.14283599999...   \n",
       "2  [2.666656, 28.300542999999998, 58.263180000000...   \n",
       "3  [0.0, 27.4652, 45.203726, 63.518522999999995, ...   \n",
       "4  [3.871208, 10.56504, 33.217138, 56.85190400000...   \n",
       "\n",
       "                                            Sections  \n",
       "0  [intro, verse, chorus, verse, chorus, verse, c...  \n",
       "1  [chorus, verse, chorus, verse, chorus, verse, ...  \n",
       "2  [verse, chorus, verse, chorus, bridge, chorus,...  \n",
       "3  [intro, verse, transition, chorus, verse, brid...  \n",
       "4  [intro, verse, verse, bridge, solo/instrumenta...  "
      ]
     },
     "execution_count": 3,
     "metadata": {},
     "output_type": "execute_result"
    }
   ],
   "source": [
    "harmonix = pd.read_pickle(os.path.join(ROOT, ANNOTATIONS_DIR, 'harmonix.p'))\n",
    "harmonix.head()"
   ]
  },
  {
   "cell_type": "markdown",
   "metadata": {},
   "source": [
    "## Load beat times helper"
   ]
  },
  {
   "cell_type": "code",
   "execution_count": 4,
   "metadata": {},
   "outputs": [],
   "source": [
    "def load_beat_times(filename):\n",
    "    filepath = os.path.join(ROOT, HARMONIX_BEATS, filename + '.txt')\n",
    "    beat_times = pd.read_table(filepath, header=None)[0]\n",
    "    return beat_times.values"
   ]
  },
  {
   "cell_type": "code",
   "execution_count": 5,
   "metadata": {},
   "outputs": [],
   "source": [
    "beat_times = harmonix.copy()\n",
    "beat_times['Beat_times'] = beat_times.File.map(load_beat_times)"
   ]
  },
  {
   "cell_type": "markdown",
   "metadata": {},
   "source": [
    "## Calculate beat frames"
   ]
  },
  {
   "cell_type": "code",
   "execution_count": 6,
   "metadata": {},
   "outputs": [],
   "source": [
    "beat_times['Beat_frames'] = beat_times['Beat_times'].map(lambda beat_time: librosa.time_to_frames(beat_time, sr=SR, hop_length=HOP_SIZE))"
   ]
  },
  {
   "cell_type": "markdown",
   "metadata": {},
   "source": [
    "## Save beat times"
   ]
  },
  {
   "cell_type": "code",
   "execution_count": 7,
   "metadata": {},
   "outputs": [],
   "source": [
    "beat_times.to_pickle(os.path.join(ROOT, BEATS_DIR, 'harmonix.p'))"
   ]
  },
  {
   "cell_type": "code",
   "execution_count": null,
   "metadata": {},
   "outputs": [],
   "source": []
  }
 ],
 "metadata": {
  "kernelspec": {
   "display_name": "Python 3",
   "language": "python",
   "name": "python3"
  },
  "language_info": {
   "codemirror_mode": {
    "name": "ipython",
    "version": 3
   },
   "file_extension": ".py",
   "mimetype": "text/x-python",
   "name": "python",
   "nbconvert_exporter": "python",
   "pygments_lexer": "ipython3",
   "version": "3.8.5"
  }
 },
 "nbformat": 4,
 "nbformat_minor": 4
}
