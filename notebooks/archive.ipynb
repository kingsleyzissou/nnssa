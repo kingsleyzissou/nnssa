{
 "metadata": {
  "language_info": {
   "codemirror_mode": {
    "name": "ipython",
    "version": 3
   },
   "file_extension": ".py",
   "mimetype": "text/x-python",
   "name": "python",
   "nbconvert_exporter": "python",
   "pygments_lexer": "ipython3",
   "version": "3.8.5-final"
  },
  "orig_nbformat": 2,
  "kernelspec": {
   "name": "python3",
   "display_name": "Python 3",
   "language": "python"
  }
 },
 "nbformat": 4,
 "nbformat_minor": 2,
 "cells": [
  {
   "cell_type": "code",
   "execution_count": 1,
   "metadata": {},
   "outputs": [],
   "source": [
    "import pandas as pd\n",
    "import os"
   ]
  },
  {
   "cell_type": "code",
   "execution_count": 2,
   "metadata": {},
   "outputs": [],
   "source": [
    "DATASET = \"../datasets/harmonix/youtube_alignment_scores.csv\"\n",
    "AUDIO_DIR = \"../downloads/harmonix/\"\n",
    "OUTPUT_DIR = \"../downloads/archive/\""
   ]
  },
  {
   "cell_type": "code",
   "execution_count": 3,
   "metadata": {},
   "outputs": [
    {
     "output_type": "execute_result",
     "data": {
      "text/plain": [
       "                  File     score\n",
       "0          0001_12step  0.998412\n",
       "1      0003_6foot7foot  0.983245\n",
       "2             0004_abc  0.985658\n",
       "3           0005_again  0.973850\n",
       "4  0006_aint2proud2beg  0.926409"
      ],
      "text/html": "<div>\n<style scoped>\n    .dataframe tbody tr th:only-of-type {\n        vertical-align: middle;\n    }\n\n    .dataframe tbody tr th {\n        vertical-align: top;\n    }\n\n    .dataframe thead th {\n        text-align: right;\n    }\n</style>\n<table border=\"1\" class=\"dataframe\">\n  <thead>\n    <tr style=\"text-align: right;\">\n      <th></th>\n      <th>File</th>\n      <th>score</th>\n    </tr>\n  </thead>\n  <tbody>\n    <tr>\n      <th>0</th>\n      <td>0001_12step</td>\n      <td>0.998412</td>\n    </tr>\n    <tr>\n      <th>1</th>\n      <td>0003_6foot7foot</td>\n      <td>0.983245</td>\n    </tr>\n    <tr>\n      <th>2</th>\n      <td>0004_abc</td>\n      <td>0.985658</td>\n    </tr>\n    <tr>\n      <th>3</th>\n      <td>0005_again</td>\n      <td>0.973850</td>\n    </tr>\n    <tr>\n      <th>4</th>\n      <td>0006_aint2proud2beg</td>\n      <td>0.926409</td>\n    </tr>\n  </tbody>\n</table>\n</div>"
     },
     "metadata": {},
     "execution_count": 3
    }
   ],
   "source": [
    "df = pd.read_csv(DATASET)\n",
    "df.head()"
   ]
  },
  {
   "cell_type": "code",
   "execution_count": null,
   "metadata": {},
   "outputs": [],
   "source": [
    "for _,item in df.iterrows():\n",
    "    file_name = item[\"File\"] + \".m4a\"\n",
    "    file_path = AUDIO_DIR + file_name\n",
    "    if (os.path.exists(file_path)):\n",
    "        if(item[\"score\"]<0.95):\n",
    "            os.rename(file_path, OUTPUT_DIR + file_name)"
   ]
  }
 ]
}