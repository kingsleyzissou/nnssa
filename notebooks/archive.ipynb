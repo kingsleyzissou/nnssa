{
 "metadata": {
  "language_info": {
   "codemirror_mode": {
    "name": "ipython",
    "version": 3
   },
   "file_extension": ".py",
   "mimetype": "text/x-python",
   "name": "python",
   "nbconvert_exporter": "python",
   "pygments_lexer": "ipython3",
   "version": "3.8.5-final"
  },
  "orig_nbformat": 2,
  "kernelspec": {
   "name": "python3",
   "display_name": "Python 3",
   "language": "python"
  }
 },
 "nbformat": 4,
 "nbformat_minor": 2,
 "cells": [
  {
   "source": [
    "# Filter Mistmatches\n",
    "This notebook filters through the Harmonix dataset  \n",
    "and archives any song that is less than a 95% match  \n",
    "to the annotated song. The YouTube match figure was  \n",
    "provided by the curators of the dataset"
   ],
   "cell_type": "markdown",
   "metadata": {}
  },
  {
   "source": [
    "## Import libraries"
   ],
   "cell_type": "markdown",
   "metadata": {}
  },
  {
   "cell_type": "code",
   "execution_count": null,
   "metadata": {},
   "outputs": [],
   "source": [
    "import pandas as pd\n",
    "import os"
   ]
  },
  {
   "source": [
    "## Set global variables"
   ],
   "cell_type": "markdown",
   "metadata": {}
  },
  {
   "cell_type": "code",
   "execution_count": null,
   "metadata": {},
   "outputs": [],
   "source": [
    "DATASET = \"../datasets/harmonix/youtube_alignment_scores.csv\"\n",
    "AUDIO_DIR = \"../downloads/harmonix/\"\n",
    "OUTPUT_DIR = \"../downloads/archive/\""
   ]
  },
  {
   "source": [
    "## Import Harmonix metadata"
   ],
   "cell_type": "markdown",
   "metadata": {}
  },
  {
   "cell_type": "code",
   "execution_count": null,
   "metadata": {},
   "outputs": [],
   "source": [
    "df = pd.read_csv(DATASET)\n",
    "df.head()"
   ]
  },
  {
   "cell_type": "code",
   "execution_count": null,
   "metadata": {},
   "outputs": [],
   "source": [
    "for _,item in df.iterrows():\n",
    "    \"\"\"Iterate through the datafram\"\"\"\n",
    "    file_name = item[\"File\"] + \".m4a\"\n",
    "    file_path = AUDIO_DIR + file_name\n",
    "    ## check if the file exists\n",
    "    if (os.path.exists(file_path)):\n",
    "        ## if the song is less than 95% match, archive the song\n",
    "        if(item[\"score\"]<0.95):\n",
    "            os.rename(file_path, OUTPUT_DIR + file_name)"
   ]
  }
 ]
}