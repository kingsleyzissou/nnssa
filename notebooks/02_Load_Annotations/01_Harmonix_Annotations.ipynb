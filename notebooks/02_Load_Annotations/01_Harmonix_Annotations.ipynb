{
 "metadata": {
  "language_info": {
   "codemirror_mode": {
    "name": "ipython",
    "version": 3
   },
   "file_extension": ".py",
   "mimetype": "text/x-python",
   "name": "python",
   "nbconvert_exporter": "python",
   "pygments_lexer": "ipython3",
   "version": "3.8.5-final"
  },
  "orig_nbformat": 2,
  "kernelspec": {
   "name": "python3",
   "display_name": "Python 3",
   "language": "python"
  }
 },
 "nbformat": 4,
 "nbformat_minor": 2,
 "cells": [
  {
   "source": [
    "# Consolidate & clean Harmonix annotations"
   ],
   "cell_type": "markdown",
   "metadata": {}
  },
  {
   "source": [
    "## Load libraries"
   ],
   "cell_type": "markdown",
   "metadata": {}
  },
  {
   "cell_type": "code",
   "execution_count": 1,
   "metadata": {},
   "outputs": [],
   "source": [
    "import pandas as pd\n",
    "import numpy as np\n",
    "import matplotlib.pyplot as plt\n",
    "import seaborn as sns\n",
    "\n",
    "from IPython.display import display, Markdown\n",
    "plt.style.use('seaborn-darkgrid')\n",
    "pd.set_option('display.max_columns', None) \n",
    "\n",
    "DEBUG = False"
   ]
  },
  {
   "source": [
    "## Load local modules\n",
    "Thanks to [this article](https://medium.com/swlh/how-to-structure-a-python-based-data-science-project-a-short-tutorial-for-beginners-7e00bff14f56)"
   ],
   "cell_type": "markdown",
   "metadata": {}
  },
  {
   "cell_type": "code",
   "execution_count": 2,
   "metadata": {},
   "outputs": [],
   "source": [
    "import os\n",
    "import sys\n",
    "\n",
    "ROOT = os.path.join(os.getcwd(), '..', '..')\n",
    "\n",
    "src_dir = os.path.join(ROOT, 'src')\n",
    "sys.path.append(src_dir)\n",
    "\n",
    "from constants import *\n",
    "from labels import load_annotations"
   ]
  },
  {
   "source": [
    "## Load clean dataset"
   ],
   "cell_type": "markdown",
   "metadata": {}
  },
  {
   "cell_type": "code",
   "execution_count": 3,
   "metadata": {},
   "outputs": [
    {
     "output_type": "execute_result",
     "data": {
      "text/plain": [
       "                  File  Duration  BPM Time_Signature     Genre\n",
       "0          0001_12step   142.470  113            4|4       R&B\n",
       "1      0003_6foot7foot   157.347   84            4|4   Hip-Hop\n",
       "2             0004_abc   180.955   94            4|4  Pop-Rock\n",
       "3  0006_aint2proud2beg   181.034  105            4|4       R&B\n",
       "4         0008_america   222.683  136            4|4     Metal"
      ],
      "text/html": "<div>\n<style scoped>\n    .dataframe tbody tr th:only-of-type {\n        vertical-align: middle;\n    }\n\n    .dataframe tbody tr th {\n        vertical-align: top;\n    }\n\n    .dataframe thead th {\n        text-align: right;\n    }\n</style>\n<table border=\"1\" class=\"dataframe\">\n  <thead>\n    <tr style=\"text-align: right;\">\n      <th></th>\n      <th>File</th>\n      <th>Duration</th>\n      <th>BPM</th>\n      <th>Time_Signature</th>\n      <th>Genre</th>\n    </tr>\n  </thead>\n  <tbody>\n    <tr>\n      <th>0</th>\n      <td>0001_12step</td>\n      <td>142.470</td>\n      <td>113</td>\n      <td>4|4</td>\n      <td>R&amp;B</td>\n    </tr>\n    <tr>\n      <th>1</th>\n      <td>0003_6foot7foot</td>\n      <td>157.347</td>\n      <td>84</td>\n      <td>4|4</td>\n      <td>Hip-Hop</td>\n    </tr>\n    <tr>\n      <th>2</th>\n      <td>0004_abc</td>\n      <td>180.955</td>\n      <td>94</td>\n      <td>4|4</td>\n      <td>Pop-Rock</td>\n    </tr>\n    <tr>\n      <th>3</th>\n      <td>0006_aint2proud2beg</td>\n      <td>181.034</td>\n      <td>105</td>\n      <td>4|4</td>\n      <td>R&amp;B</td>\n    </tr>\n    <tr>\n      <th>4</th>\n      <td>0008_america</td>\n      <td>222.683</td>\n      <td>136</td>\n      <td>4|4</td>\n      <td>Metal</td>\n    </tr>\n  </tbody>\n</table>\n</div>"
     },
     "metadata": {},
     "execution_count": 3
    }
   ],
   "source": [
    "harmonix = pd.read_csv(os.path.join(ROOT, INTER_DIR, 'harmonix.csv'))\n",
    "harmonix.head(5)"
   ]
  },
  {
   "source": [
    "## Drop rows with no annotations"
   ],
   "cell_type": "markdown",
   "metadata": {}
  },
  {
   "cell_type": "code",
   "execution_count": 4,
   "metadata": {},
   "outputs": [
    {
     "output_type": "stream",
     "name": "stdout",
     "text": [
      "Dataset size before removal: 890\nDataset size after removal: 890 (no labels available)\n"
     ]
    }
   ],
   "source": [
    "harmonix['First_annotation'] = harmonix.File.map(lambda filename: os.path.join(ROOT, HARMONIX_LABELS, filename + '.txt'))\n",
    "harmonix['First_exists'] = harmonix.First_annotation.map(lambda filepath: os.path.exists(filepath))\n",
    "print(f\"Dataset size before removal: {harmonix.shape[0]}\")\n",
    "harmonix = harmonix[harmonix['First_exists']]\n",
    "print(f\"Dataset size after removal: {harmonix.shape[0]} (no labels available)\")"
   ]
  },
  {
   "source": [
    "## Check label values"
   ],
   "cell_type": "markdown",
   "metadata": {}
  },
  {
   "cell_type": "code",
   "execution_count": 5,
   "metadata": {},
   "outputs": [],
   "source": [
    "raw = harmonix.copy()\n",
    "annotations = raw.apply(lambda row: load_annotations(row, False), axis=1).values\n",
    "# Convert list of tuples to list of lists\n",
    "raw['Labels'], raw['Sections'] = list(map(list, zip(*annotations)))"
   ]
  },
  {
   "cell_type": "code",
   "execution_count": 6,
   "metadata": {},
   "outputs": [
    {
     "output_type": "execute_result",
     "data": {
      "text/plain": [
       "array(['altchorus', 'bigoutro', 'bre', 'break', 'break1', 'break2',\n",
       "       'break3', 'breakdown', 'breakdown2', 'bridge', 'bridge1',\n",
       "       'bridge2', 'bridge3', 'build', 'chorus', 'chorus1', 'chorus2',\n",
       "       'chorus3', 'chorus_instrumental', 'chorushalf', 'chorusinst',\n",
       "       'choruspart', 'chrous', 'chrous2', 'drumroll', 'end', 'fadein',\n",
       "       'fast', 'gtr', 'gtr2', 'gtrbreak', 'guitar', 'guitarsolo', 'inrto',\n",
       "       'inst', 'inst2', 'instbridge', 'instchorus', 'instintro',\n",
       "       'instrumental', 'instrumental2', 'instrumental3',\n",
       "       'instrumentalverse', 'intchorus', 'intro', 'intro2', 'intro3',\n",
       "       'intro4', 'intro5', 'intro6', 'intro7', 'intro8', 'introchorus',\n",
       "       'intropt2', 'introverse', 'isnt', 'mainriff', 'mainriff2',\n",
       "       'miniverse', 'oddriff', 'opening', 'outro', 'outro1', 'outro2',\n",
       "       'outro3', 'outroa', 'postchorus', 'postchorus2', 'postverse',\n",
       "       'prechors', 'prechorus', 'prechorus2', 'prechorus3', 'prechorus5',\n",
       "       'prechrous', 'prehorus', 'preverse', 'quiet', 'quietchorus',\n",
       "       'raps', 'refrain', 'rhythmlessintro', 'saxobeat', 'section',\n",
       "       'section1', 'section10', 'section11', 'section12', 'section13',\n",
       "       'section14', 'section15', 'section16', 'section17', 'section2',\n",
       "       'section3', 'section4', 'section5', 'section6', 'section7',\n",
       "       'section8', 'section9', 'silence', 'slow', 'slow2', 'slowverse',\n",
       "       'solo', 'solo2', 'solo3', 'stutter', 'synth', 'tranisition',\n",
       "       'transition', 'transition1', 'transition2', 'transition2a',\n",
       "       'transition3', 'transtiion', 'verse', 'verse1', 'verse10',\n",
       "       'verse11', 'verse1a', 'verse2', 'verse3', 'verse4', 'verse5',\n",
       "       'verse6', 'verse7', 'verse8', 'verse9', 'verse_slow', 'verseinst',\n",
       "       'versepart', 'vese', 'vocaloutro', 'worstthingever'], dtype=object)"
      ]
     },
     "metadata": {},
     "execution_count": 6
    }
   ],
   "source": [
    "unique =  np.unique(np.concatenate(raw['Sections'].values).ravel())\n",
    "unique"
   ]
  },
  {
   "cell_type": "code",
   "execution_count": 7,
   "metadata": {},
   "outputs": [
    {
     "output_type": "execute_result",
     "data": {
      "text/plain": [
       "          File  Duration  BPM Time_Signature Genre  \\\n",
       "0  0001_12step    142.47  113            4|4   R&B   \n",
       "\n",
       "                                    First_annotation  First_exists  \\\n",
       "0  /Users/admin/Downloads/fypdataset/notebooks/02...          True   \n",
       "\n",
       "                                              Labels  \\\n",
       "0  [0.0, 8.495567999999999, 25.486704, 42.4753280...   \n",
       "\n",
       "                                            Sections  \n",
       "0  [intro, verse, chorus, verse, chorus, verse, c...  "
      ],
      "text/html": "<div>\n<style scoped>\n    .dataframe tbody tr th:only-of-type {\n        vertical-align: middle;\n    }\n\n    .dataframe tbody tr th {\n        vertical-align: top;\n    }\n\n    .dataframe thead th {\n        text-align: right;\n    }\n</style>\n<table border=\"1\" class=\"dataframe\">\n  <thead>\n    <tr style=\"text-align: right;\">\n      <th></th>\n      <th>File</th>\n      <th>Duration</th>\n      <th>BPM</th>\n      <th>Time_Signature</th>\n      <th>Genre</th>\n      <th>First_annotation</th>\n      <th>First_exists</th>\n      <th>Labels</th>\n      <th>Sections</th>\n    </tr>\n  </thead>\n  <tbody>\n    <tr>\n      <th>0</th>\n      <td>0001_12step</td>\n      <td>142.47</td>\n      <td>113</td>\n      <td>4|4</td>\n      <td>R&amp;B</td>\n      <td>/Users/admin/Downloads/fypdataset/notebooks/02...</td>\n      <td>True</td>\n      <td>[0.0, 8.495567999999999, 25.486704, 42.4753280...</td>\n      <td>[intro, verse, chorus, verse, chorus, verse, c...</td>\n    </tr>\n  </tbody>\n</table>\n</div>"
     },
     "metadata": {},
     "execution_count": 7
    }
   ],
   "source": [
    "annotations = harmonix.apply(lambda row: load_annotations(row), axis=1).values\n",
    "# Convert list of tuples to list of lists\n",
    "harmonix['Labels'], harmonix['Sections'] = list(map(list, zip(*annotations)))\n",
    "# Filter out songs with very few song sections\n",
    "harmonix['Size'] = harmonix['Sections'].map(lambda section: section.shape[0] > 2)\n",
    "harmonix = harmonix[harmonix['Size']]\n",
    "harmonix = harmonix.drop(['Size'], axis=1)\n",
    "harmonix.head(1)"
   ]
  },
  {
   "cell_type": "code",
   "execution_count": 8,
   "metadata": {},
   "outputs": [
    {
     "output_type": "execute_result",
     "data": {
      "text/plain": [
       "array(['bridge', 'chorus', 'intro', 'outro', 'silence',\n",
       "       'solo/instrumental', 'transition', 'verse'], dtype=object)"
      ]
     },
     "metadata": {},
     "execution_count": 8
    }
   ],
   "source": [
    "unique =  np.unique(np.concatenate(harmonix['Sections'].values).ravel())\n",
    "unique"
   ]
  },
  {
   "source": [
    "## Save annotations"
   ],
   "cell_type": "markdown",
   "metadata": {}
  },
  {
   "cell_type": "code",
   "execution_count": 9,
   "metadata": {},
   "outputs": [],
   "source": [
    "harmonix = harmonix.drop(['First_annotation', 'First_exists'], axis=1)\n",
    "harmonix.to_csv(os.path.join(ROOT, ANNOTATIONS_DIR, 'harmonix.csv'), index=False)"
   ]
  },
  {
   "cell_type": "code",
   "execution_count": null,
   "metadata": {},
   "outputs": [],
   "source": []
  }
 ]
}