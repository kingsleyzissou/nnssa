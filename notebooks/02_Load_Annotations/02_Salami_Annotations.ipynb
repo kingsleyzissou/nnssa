{
 "metadata": {
  "language_info": {
   "codemirror_mode": {
    "name": "ipython",
    "version": 3
   },
   "file_extension": ".py",
   "mimetype": "text/x-python",
   "name": "python",
   "nbconvert_exporter": "python",
   "pygments_lexer": "ipython3",
   "version": "3.8.5-final"
  },
  "orig_nbformat": 2,
  "kernelspec": {
   "name": "python3",
   "display_name": "Python 3",
   "language": "python"
  }
 },
 "nbformat": 4,
 "nbformat_minor": 2,
 "cells": [
  {
   "source": [
    "# Consolidate & clean Salami annotations"
   ],
   "cell_type": "markdown",
   "metadata": {}
  },
  {
   "source": [
    "## Load libraries"
   ],
   "cell_type": "markdown",
   "metadata": {}
  },
  {
   "cell_type": "code",
   "execution_count": 1,
   "metadata": {},
   "outputs": [],
   "source": [
    "import pandas as pd\n",
    "import numpy as np\n",
    "import matplotlib.pyplot as plt\n",
    "import seaborn as sns\n",
    "import librosa\n",
    "\n",
    "from IPython.display import display, Markdown\n",
    "plt.style.use('seaborn-darkgrid')\n",
    "pd.set_option('display.max_columns', None) \n",
    "\n",
    "DEBUG = False"
   ]
  },
  {
   "source": [
    "## Load local modules"
   ],
   "cell_type": "markdown",
   "metadata": {}
  },
  {
   "cell_type": "code",
   "execution_count": 2,
   "metadata": {},
   "outputs": [],
   "source": [
    "import os\n",
    "import sys\n",
    "\n",
    "ROOT = os.path.join(os.getcwd(), '..', '..')\n",
    "\n",
    "src_dir = os.path.join(ROOT, 'src')\n",
    "sys.path.append(src_dir)\n",
    "\n",
    "from constants import *\n",
    "from labels import load_annotations"
   ]
  },
  {
   "source": [
    "## Load dataset"
   ],
   "cell_type": "markdown",
   "metadata": {}
  },
  {
   "cell_type": "code",
   "execution_count": 3,
   "metadata": {},
   "outputs": [
    {
     "output_type": "execute_result",
     "data": {
      "text/plain": [
       "   File  Song_duration                Song_title         Artist Format\n",
       "0   956          320.0                Revolution    Burden_Hand    mp3\n",
       "1   958          344.0                Rap_Medley         5point    mp3\n",
       "2   960          293.0    Woman_Across_The_River  Absolute_Gruv    mp3\n",
       "3   962          579.0                         _     Afrissippi    mp3\n",
       "4   964          161.0  Encore_Break_Crowd_Noise    Against_Me_    mp3"
      ],
      "text/html": "<div>\n<style scoped>\n    .dataframe tbody tr th:only-of-type {\n        vertical-align: middle;\n    }\n\n    .dataframe tbody tr th {\n        vertical-align: top;\n    }\n\n    .dataframe thead th {\n        text-align: right;\n    }\n</style>\n<table border=\"1\" class=\"dataframe\">\n  <thead>\n    <tr style=\"text-align: right;\">\n      <th></th>\n      <th>File</th>\n      <th>Song_duration</th>\n      <th>Song_title</th>\n      <th>Artist</th>\n      <th>Format</th>\n    </tr>\n  </thead>\n  <tbody>\n    <tr>\n      <th>0</th>\n      <td>956</td>\n      <td>320.0</td>\n      <td>Revolution</td>\n      <td>Burden_Hand</td>\n      <td>mp3</td>\n    </tr>\n    <tr>\n      <th>1</th>\n      <td>958</td>\n      <td>344.0</td>\n      <td>Rap_Medley</td>\n      <td>5point</td>\n      <td>mp3</td>\n    </tr>\n    <tr>\n      <th>2</th>\n      <td>960</td>\n      <td>293.0</td>\n      <td>Woman_Across_The_River</td>\n      <td>Absolute_Gruv</td>\n      <td>mp3</td>\n    </tr>\n    <tr>\n      <th>3</th>\n      <td>962</td>\n      <td>579.0</td>\n      <td>_</td>\n      <td>Afrissippi</td>\n      <td>mp3</td>\n    </tr>\n    <tr>\n      <th>4</th>\n      <td>964</td>\n      <td>161.0</td>\n      <td>Encore_Break_Crowd_Noise</td>\n      <td>Against_Me_</td>\n      <td>mp3</td>\n    </tr>\n  </tbody>\n</table>\n</div>"
     },
     "metadata": {},
     "execution_count": 3
    }
   ],
   "source": [
    "salami = pd.read_csv(os.path.join(ROOT, INTER_DIR, 'salami.csv'))\n",
    "salami.head()"
   ]
  },
  {
   "source": [
    "## Get labels path"
   ],
   "cell_type": "markdown",
   "metadata": {}
  },
  {
   "cell_type": "code",
   "execution_count": 4,
   "metadata": {},
   "outputs": [],
   "source": [
    "def get_label_path(filename, first = True):\n",
    "    if first:\n",
    "        text = os.path.join('parsed', 'textfile1_functions.txt')\n",
    "        return os.path.join(ROOT, SALAMI_LABELS, str(filename), text)\n",
    "    text = os.path.join('parsed', 'textfile2_functions.txt')\n",
    "    return os.path.join(ROOT, SALAMI_LABELS, str(filename), text)"
   ]
  },
  {
   "cell_type": "code",
   "execution_count": 5,
   "metadata": {},
   "outputs": [],
   "source": [
    "salami['First_annotation'] = salami['File'].map(lambda filename: get_label_path(filename))\n",
    "salami['Second_annotation'] = salami['File'].map(lambda filename: get_label_path(filename, False))"
   ]
  },
  {
   "source": [
    "## Drop rows with no annotations"
   ],
   "cell_type": "markdown",
   "metadata": {}
  },
  {
   "cell_type": "code",
   "execution_count": 6,
   "metadata": {},
   "outputs": [
    {
     "output_type": "stream",
     "name": "stdout",
     "text": [
      "Dataset size before removal: 468\nDataset size after removal: 439 (no labels available)\n"
     ]
    }
   ],
   "source": [
    "salami['First_exists'] = salami['First_annotation'].map(lambda path: os.path.exists(path))\n",
    "salami['Second_exists'] = salami['Second_annotation'].map(lambda path: os.path.exists(path))\n",
    "salami['Both_exist'] = salami.apply(lambda r: r.First_exists | r.Second_exists, axis=1)\n",
    "print(f\"Dataset size before removal: {salami.shape[0]}\")\n",
    "salami = salami[salami['Both_exist']]\n",
    "salami = salami.drop(['Both_exist'], axis=1)\n",
    "print(f\"Dataset size after removal: {salami.shape[0]} (no labels available)\")"
   ]
  },
  {
   "source": [
    "## Check label values"
   ],
   "cell_type": "markdown",
   "metadata": {}
  },
  {
   "cell_type": "code",
   "execution_count": 7,
   "metadata": {},
   "outputs": [],
   "source": [
    "raw = salami.copy()\n",
    "annotations = raw.apply(lambda r: load_annotations(r, False, salami=True), axis=1)\n",
    "# Convert list of tuples to list of lists\n",
    "raw[\"Labels\"], raw[\"Sections\"] = list(map(list, zip(*annotations)))"
   ]
  },
  {
   "cell_type": "code",
   "execution_count": 8,
   "metadata": {},
   "outputs": [
    {
     "output_type": "execute_result",
     "data": {
      "text/plain": [
       "array(['&pause', 'Bridge', 'Chorus', 'Coda', 'End', 'Fade-out', 'Head',\n",
       "       'Instrumental', 'Interlude', 'Intro', 'Main_Theme', 'Outro',\n",
       "       'Pre-Chorus', 'Pre-Verse', 'Silence', 'Solo', 'Theme',\n",
       "       'Transition', 'Verse', 'applause', 'banjo', 'break', 'build',\n",
       "       'crowd_sounds', 'no_function', 'post-chorus', 'silence',\n",
       "       'spoken_voice', 'stage_sounds', 'stage_speaking', 'variation',\n",
       "       'voice'], dtype=object)"
      ]
     },
     "metadata": {},
     "execution_count": 8
    }
   ],
   "source": [
    "unique =  np.unique(np.concatenate(raw['Sections'].values).ravel())\n",
    "unique"
   ]
  },
  {
   "cell_type": "code",
   "execution_count": 9,
   "metadata": {},
   "outputs": [
    {
     "output_type": "execute_result",
     "data": {
      "text/plain": [
       "   File  Song_duration  Song_title       Artist Format  \\\n",
       "0   956          320.0  Revolution  Burden_Hand    mp3   \n",
       "\n",
       "                                    First_annotation  \\\n",
       "0  /Users/admin/Downloads/fypdataset/notebooks/02...   \n",
       "\n",
       "                                   Second_annotation  First_exists  \\\n",
       "0  /Users/admin/Downloads/fypdataset/notebooks/02...          True   \n",
       "\n",
       "   Second_exists                                             Labels  \\\n",
       "0           True  [0.0, 28.746303854, 49.357959183, 91.030566892...   \n",
       "\n",
       "                                            Sections  \n",
       "0  [silence, intro, verse, chorus, transition, ve...  "
      ],
      "text/html": "<div>\n<style scoped>\n    .dataframe tbody tr th:only-of-type {\n        vertical-align: middle;\n    }\n\n    .dataframe tbody tr th {\n        vertical-align: top;\n    }\n\n    .dataframe thead th {\n        text-align: right;\n    }\n</style>\n<table border=\"1\" class=\"dataframe\">\n  <thead>\n    <tr style=\"text-align: right;\">\n      <th></th>\n      <th>File</th>\n      <th>Song_duration</th>\n      <th>Song_title</th>\n      <th>Artist</th>\n      <th>Format</th>\n      <th>First_annotation</th>\n      <th>Second_annotation</th>\n      <th>First_exists</th>\n      <th>Second_exists</th>\n      <th>Labels</th>\n      <th>Sections</th>\n    </tr>\n  </thead>\n  <tbody>\n    <tr>\n      <th>0</th>\n      <td>956</td>\n      <td>320.0</td>\n      <td>Revolution</td>\n      <td>Burden_Hand</td>\n      <td>mp3</td>\n      <td>/Users/admin/Downloads/fypdataset/notebooks/02...</td>\n      <td>/Users/admin/Downloads/fypdataset/notebooks/02...</td>\n      <td>True</td>\n      <td>True</td>\n      <td>[0.0, 28.746303854, 49.357959183, 91.030566892...</td>\n      <td>[silence, intro, verse, chorus, transition, ve...</td>\n    </tr>\n  </tbody>\n</table>\n</div>"
     },
     "metadata": {},
     "execution_count": 9
    }
   ],
   "source": [
    "annotations = raw.apply(lambda r: load_annotations(r, salami=True), axis=1)\n",
    "# Convert list of tuples to list of lists\n",
    "salami['Labels'], salami['Sections'] = list(map(list, zip(*annotations)))\n",
    "# Filter out songs with very few song sections\n",
    "salami['Size'] = salami['Sections'].map(lambda section: section.shape[0] > 2)\n",
    "salami = salami[salami['Size']]\n",
    "salami = salami.drop(['Size'], axis=1)\n",
    "salami.head(1)"
   ]
  },
  {
   "cell_type": "code",
   "execution_count": 10,
   "metadata": {},
   "outputs": [
    {
     "output_type": "execute_result",
     "data": {
      "text/plain": [
       "array(['bridge', 'chorus', 'intro', 'live', 'outro', 'silence',\n",
       "       'solo/instrumental', 'transition', 'verse'], dtype=object)"
      ]
     },
     "metadata": {},
     "execution_count": 10
    }
   ],
   "source": [
    "unique =  np.unique(np.concatenate(salami['Sections'].values).ravel())\n",
    "unique"
   ]
  },
  {
   "source": [
    "## Save annotations"
   ],
   "cell_type": "markdown",
   "metadata": {}
  },
  {
   "cell_type": "code",
   "execution_count": 11,
   "metadata": {},
   "outputs": [],
   "source": [
    "salami = salami.drop(['First_annotation', 'Second_annotation', 'First_exists', 'Second_exists'], axis=1)\n",
    "salami.to_csv(os.path.join(ROOT, ANNOTATIONS_DIR, 'salami.csv'), index=False)"
   ]
  },
  {
   "cell_type": "code",
   "execution_count": null,
   "metadata": {},
   "outputs": [],
   "source": []
  }
 ]
}