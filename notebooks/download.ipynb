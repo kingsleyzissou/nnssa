{
 "metadata": {
  "language_info": {
   "codemirror_mode": {
    "name": "ipython",
    "version": 3
   },
   "file_extension": ".py",
   "mimetype": "text/x-python",
   "name": "python",
   "nbconvert_exporter": "python",
   "pygments_lexer": "ipython3",
   "version": "3.8.5-final"
  },
  "orig_nbformat": 2,
  "kernelspec": {
   "name": "python3",
   "display_name": "Python 3.8.5 64-bit ('3.8.5')",
   "metadata": {
    "interpreter": {
     "hash": "9a69de308a60ffa620c8414c7f2b48a5917309a533958347dd23951c53883989"
    }
   }
  }
 },
 "nbformat": 4,
 "nbformat_minor": 2,
 "cells": [
  {
   "source": [
    "# Download Songs\n",
    "Do not try this at home. This script is soley for  \n",
    "research purposes. The file takes YouTube song matches  \n",
    "from the SALAMI dataset and downloads them to file"
   ],
   "cell_type": "markdown",
   "metadata": {}
  },
  {
   "source": [
    "## Import libraries"
   ],
   "cell_type": "markdown",
   "metadata": {}
  },
  {
   "cell_type": "code",
   "execution_count": null,
   "metadata": {},
   "outputs": [],
   "source": [
    "import pandas as pd\n",
    "from modules.yt_download import download_video"
   ]
  },
  {
   "source": [
    "## Set Constants"
   ],
   "cell_type": "markdown",
   "metadata": {}
  },
  {
   "cell_type": "code",
   "execution_count": null,
   "metadata": {},
   "outputs": [],
   "source": [
    "OUTPUT_DIR = \"../downloads/salami\"\n",
    "CSV = \"../datasets/salami/matches.csv\"\n",
    "YOUTUBE = \"https://www.youtube.com/watch?v=\""
   ]
  },
  {
   "source": [
    "## Load CSV to dataframe"
   ],
   "cell_type": "markdown",
   "metadata": {}
  },
  {
   "cell_type": "code",
   "execution_count": null,
   "metadata": {},
   "outputs": [],
   "source": [
    "df = pd.read_csv(CSV)"
   ]
  },
  {
   "source": [
    "## Just take the urls\n",
    "In practice, I would break the urls into batches  \n",
    "and not download all the songs at once, to avoid  \n",
    "being throttle by YouTube"
   ],
   "cell_type": "markdown",
   "metadata": {}
  },
  {
   "cell_type": "code",
   "execution_count": null,
   "metadata": {},
   "outputs": [],
   "source": [
    "urls = [items for _, items in df.head(5).iterrows()]"
   ]
  },
  {
   "cell_type": "code",
   "execution_count": null,
   "metadata": {},
   "outputs": [],
   "source": [
    "for item in urls:\n",
    "    \"\"\" Iterate through the urls \"\"\"\n",
    "    ## set the download options\n",
    "    filename = str(item.salami_id)\n",
    "    url = YOUTUBE + item.youtube_id\n",
    "    download_video(filename, OUTPUT_DIR, url, format='bestaudio[ext=m4a]')"
   ]
  },
  {
   "cell_type": "code",
   "execution_count": null,
   "metadata": {},
   "outputs": [],
   "source": []
  }
 ]
}