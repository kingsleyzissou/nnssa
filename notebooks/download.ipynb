{
 "metadata": {
  "language_info": {
   "codemirror_mode": {
    "name": "ipython",
    "version": 3
   },
   "file_extension": ".py",
   "mimetype": "text/x-python",
   "name": "python",
   "nbconvert_exporter": "python",
   "pygments_lexer": "ipython3",
   "version": "3.8.5-final"
  },
  "orig_nbformat": 2,
  "kernelspec": {
   "name": "python38564bit385b37c87b8c9904bb8ae3b21a13e430e8a",
   "display_name": "Python 3.8.5 64-bit ('3.8.5')",
   "language": "python"
  }
 },
 "nbformat": 4,
 "nbformat_minor": 2,
 "cells": [
  {
   "cell_type": "code",
   "execution_count": 2,
   "metadata": {},
   "outputs": [],
   "source": [
    "import pandas as pd\n",
    "import youtube_dl"
   ]
  },
  {
   "cell_type": "code",
   "execution_count": 3,
   "metadata": {},
   "outputs": [],
   "source": [
    "OUTPUT_DIR = \"../downloads\"\n",
    "CSV = \"../datasets/matches.csv\"\n",
    "YOUTUBE = \"https://www.youtube.com/watch?v=\""
   ]
  },
  {
   "cell_type": "code",
   "execution_count": 4,
   "metadata": {},
   "outputs": [],
   "source": [
    "df = pd.read_csv(CSV)"
   ]
  },
  {
   "cell_type": "code",
   "execution_count": 5,
   "metadata": {},
   "outputs": [
    {
     "output_type": "execute_result",
     "data": {
      "text/plain": [
       "(671, 8)"
      ]
     },
     "metadata": {},
     "execution_count": 5
    }
   ],
   "source": [
    "df.shape"
   ]
  },
  {
   "cell_type": "code",
   "execution_count": 6,
   "metadata": {},
   "outputs": [],
   "source": [
    "urls = [items for _, items in df.iterrows()]"
   ]
  },
  {
   "cell_type": "code",
   "execution_count": 22,
   "metadata": {},
   "outputs": [
    {
     "output_type": "stream",
     "name": "stdout",
     "text": [
      "[youtube] DKzFw_i6Ffg: Downloading webpage\n",
      "WARNING: Unable to extract video title\n",
      "ERROR: This video is no longer available due to a copyright claim by The Smashing Pumpkins.\n",
      "[youtube] E6iGez4BLjQ: Downloading webpage\n",
      "[download] downloaded_audio/3.m4a has already been downloaded\n",
      "[download] 100% of 4.27MiB\n",
      "WARNING: E6iGez4BLjQ: writing DASH m4a. Only some players support this container. Install ffmpeg or avconv to fix this automatically.\n",
      "[youtube] ct8gCRPST9s: Downloading webpage\n",
      "ERROR: This video is not available.\n",
      "[youtube] IBdrzoz9o0o: Downloading webpage\n",
      "[download] downloaded_audio/5.m4a has already been downloaded\n",
      "[download] 100% of 3.98MiB\n",
      "WARNING: IBdrzoz9o0o: writing DASH m4a. Only some players support this container. Install ffmpeg or avconv to fix this automatically.\n",
      "[youtube] QurVLnYoFqo: Downloading webpage\n",
      "[youtube] QurVLnYoFqo: Downloading embed webpage\n",
      "[youtube] QurVLnYoFqo: Refetching age-gated info webpage\n",
      "[download] downloaded_audio/6.m4a has already been downloaded\n",
      "[download] 100% of 2.64MiB\n",
      "WARNING: QurVLnYoFqo: writing DASH m4a. Only some players support this container. Install ffmpeg or avconv to fix this automatically.\n"
     ]
    }
   ],
   "source": [
    "for item in urls:\n",
    "    ydl_opts = {\n",
    "        'ignoreerrors': True,\n",
    "        'format': 'bestaudio[ext=m4a]',\n",
    "        'outtmpl': OUTPUT_DIR + str(item.salami_id) + '.%(ext)s'\n",
    "    }\n",
    "    with youtube_dl.YoutubeDL(ydl_opts) as ydl:\n",
    "        ydl.download([YOUTUBE + item.youtube_id])"
   ]
  },
  {
   "cell_type": "code",
   "execution_count": null,
   "metadata": {},
   "outputs": [],
   "source": []
  }
 ]
}